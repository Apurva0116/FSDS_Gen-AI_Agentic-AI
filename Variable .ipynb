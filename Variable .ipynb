{
 "cells": [
  {
   "cell_type": "code",
   "execution_count": 1,
   "id": "687b0a40-c97c-4fcb-b827-0a9137999d50",
   "metadata": {},
   "outputs": [],
   "source": [
    "# Variables in Python"
   ]
  },
  {
   "cell_type": "code",
   "execution_count": 2,
   "id": "ae84e2ce-d3d4-487a-b1ab-a8b3974bcb2b",
   "metadata": {},
   "outputs": [],
   "source": [
    "first_name = 'Apurva'\n",
    "last_name = 'Gaware'\n",
    "country = 'India'\n",
    "city = 'Pune'\n",
    "age = 23\n",
    "is_Single = True\n",
    "skills = ['HTML', 'CSS', 'JS', 'Python']\n",
    "person_info = {\n",
    "    'firstname':'Apurva', \n",
    "    'lastname':'Gaware', \n",
    "    'country':'India',\n",
    "    'city':'Pune'\n",
    "    }"
   ]
  },
  {
   "cell_type": "code",
   "execution_count": 6,
   "id": "9a2d9bcf-394b-4c32-8cb3-362e7bff5230",
   "metadata": {},
   "outputs": [
    {
     "name": "stdout",
     "output_type": "stream",
     "text": [
      "First name: Apurva\n",
      "First name length: 6\n",
      "Last name:  Gaware\n",
      "Last name length:  6\n",
      "Country:  India\n",
      "City:  Pune\n",
      "Age:  23\n",
      "Unmarried:  True\n",
      "Skills:  ['HTML', 'CSS', 'JS', 'Python']\n",
      "Person information:  {'firstname': 'Apurva', 'lastname': 'Gaware', 'country': 'India', 'city': 'Pune'}\n"
     ]
    }
   ],
   "source": [
    "print('First name:', first_name)\n",
    "print('First name length:', len(first_name))\n",
    "print('Last name: ', last_name)\n",
    "print('Last name length: ', len(last_name))\n",
    "print('Country: ', country)\n",
    "print('City: ', city)\n",
    "print('Age: ', age)\n",
    "print('Unmarried: ', is_Single)\n",
    "print('Skills: ', skills)\n",
    "print('Person information: ', person_info)"
   ]
  },
  {
   "cell_type": "code",
   "execution_count": 7,
   "id": "0df99ba9-05a5-4246-a65e-8ad17247db7f",
   "metadata": {},
   "outputs": [],
   "source": [
    "# Declaring multiple variables in one line"
   ]
  },
  {
   "cell_type": "code",
   "execution_count": 10,
   "id": "43a6e9cb-5494-43f8-bb29-2f9b78aa76ca",
   "metadata": {},
   "outputs": [
    {
     "name": "stdout",
     "output_type": "stream",
     "text": [
      "Apurva Gaware India 23 True\n",
      "First name: Apurva\n",
      "Last name:  Gaware\n",
      "Country:  India\n",
      "Age:  23\n",
      "unmarried:  True\n"
     ]
    }
   ],
   "source": [
    "first_name, last_name, country, age, is_unmarried = 'Apurva', 'Gaware', 'India', 23, True\n",
    "\n",
    "print(first_name, last_name, country, age, is_married)\n",
    "print('First name:', first_name)\n",
    "print('Last name: ', last_name)\n",
    "print('Country: ', country)\n",
    "print('Age: ', age)\n",
    "print('unmarried: ', is_unmarried)"
   ]
  },
  {
   "cell_type": "code",
   "execution_count": null,
   "id": "97671ff8-6cf3-466c-8a4e-e308cab6a425",
   "metadata": {},
   "outputs": [],
   "source": []
  }
 ],
 "metadata": {
  "kernelspec": {
   "display_name": "Python 3 (ipykernel)",
   "language": "python",
   "name": "python3"
  },
  "language_info": {
   "codemirror_mode": {
    "name": "ipython",
    "version": 3
   },
   "file_extension": ".py",
   "mimetype": "text/x-python",
   "name": "python",
   "nbconvert_exporter": "python",
   "pygments_lexer": "ipython3",
   "version": "3.12.7"
  }
 },
 "nbformat": 4,
 "nbformat_minor": 5
}
