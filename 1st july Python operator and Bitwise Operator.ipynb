{
 "cells": [
  {
   "cell_type": "code",
   "execution_count": 1,
   "id": "a51c2095-a32d-4b1a-aafd-c716d6a6f243",
   "metadata": {},
   "outputs": [],
   "source": [
    "## Arthmetic Operator"
   ]
  },
  {
   "cell_type": "code",
   "execution_count": 2,
   "id": "f2c500c1-d8f7-454d-be06-9ddb0dfb9e91",
   "metadata": {},
   "outputs": [],
   "source": [
    "x1, y1 = 50,100"
   ]
  },
  {
   "cell_type": "code",
   "execution_count": 3,
   "id": "42b8b770-60c7-42a7-b052-33104ceb457f",
   "metadata": {},
   "outputs": [
    {
     "data": {
      "text/plain": [
       "150"
      ]
     },
     "execution_count": 3,
     "metadata": {},
     "output_type": "execute_result"
    }
   ],
   "source": [
    "x1+y1"
   ]
  },
  {
   "cell_type": "code",
   "execution_count": 4,
   "id": "d8e55e75-4b92-48f5-aec9-ad92d2553e1b",
   "metadata": {},
   "outputs": [
    {
     "data": {
      "text/plain": [
       "-50"
      ]
     },
     "execution_count": 4,
     "metadata": {},
     "output_type": "execute_result"
    }
   ],
   "source": [
    "x1-y1"
   ]
  },
  {
   "cell_type": "code",
   "execution_count": 5,
   "id": "a8270960-d454-48af-84bc-0dc54c3746d6",
   "metadata": {},
   "outputs": [
    {
     "data": {
      "text/plain": [
       "5000"
      ]
     },
     "execution_count": 5,
     "metadata": {},
     "output_type": "execute_result"
    }
   ],
   "source": [
    "x1*y1"
   ]
  },
  {
   "cell_type": "code",
   "execution_count": 6,
   "id": "3f3f2709-752e-4297-b4aa-e1223c5d9e5c",
   "metadata": {},
   "outputs": [
    {
     "data": {
      "text/plain": [
       "0.5"
      ]
     },
     "execution_count": 6,
     "metadata": {},
     "output_type": "execute_result"
    }
   ],
   "source": [
    "x1/y1"
   ]
  },
  {
   "cell_type": "code",
   "execution_count": 7,
   "id": "55142235-b582-4e6d-8b0d-32fe60979fcb",
   "metadata": {},
   "outputs": [
    {
     "data": {
      "text/plain": [
       "0"
      ]
     },
     "execution_count": 7,
     "metadata": {},
     "output_type": "execute_result"
    }
   ],
   "source": [
    "x1//y1"
   ]
  },
  {
   "cell_type": "code",
   "execution_count": 8,
   "id": "b891a023-0e29-4249-bcde-901f8a40e147",
   "metadata": {},
   "outputs": [
    {
     "data": {
      "text/plain": [
       "50"
      ]
     },
     "execution_count": 8,
     "metadata": {},
     "output_type": "execute_result"
    }
   ],
   "source": [
    "x1%y1"
   ]
  },
  {
   "cell_type": "code",
   "execution_count": 9,
   "id": "1abd2bae-138c-421e-b5f6-b3972a6ee81a",
   "metadata": {},
   "outputs": [
    {
     "data": {
      "text/plain": [
       "78886090522101180541172856528278622967320643510902300477027893066406250000000000000000000000000000000000000000000000000000000000000000000000000000000000000000000000000000"
      ]
     },
     "execution_count": 9,
     "metadata": {},
     "output_type": "execute_result"
    }
   ],
   "source": [
    "x1**y1"
   ]
  },
  {
   "cell_type": "code",
   "execution_count": 12,
   "id": "80aa4be2-8cf1-4248-bc10-e3046ce5e26f",
   "metadata": {},
   "outputs": [
    {
     "data": {
      "text/plain": [
       "42391158275216203514294433201000000000000000000000000000000000000000000000000000000000000"
      ]
     },
     "execution_count": 12,
     "metadata": {},
     "output_type": "execute_result"
    }
   ],
   "source": [
    "x2=30\n",
    "y2=60\n",
    "\n",
    "\n",
    "x2**y2"
   ]
  },
  {
   "cell_type": "code",
   "execution_count": 13,
   "id": "0d68ce75-7f4e-4132-a70f-8e422c16375b",
   "metadata": {},
   "outputs": [],
   "source": [
    "## Assignment Operator"
   ]
  },
  {
   "cell_type": "code",
   "execution_count": 14,
   "id": "52c40657-0510-4fa6-8642-f6c45511b8db",
   "metadata": {},
   "outputs": [],
   "source": [
    "x = 65"
   ]
  },
  {
   "cell_type": "code",
   "execution_count": 15,
   "id": "e4853017-49ff-4ac6-978c-fd2909f137f5",
   "metadata": {},
   "outputs": [],
   "source": [
    "x = x + 40"
   ]
  },
  {
   "cell_type": "code",
   "execution_count": 16,
   "id": "61bdfde6-c1f4-40f3-ad9d-ab2574c5d13b",
   "metadata": {},
   "outputs": [
    {
     "data": {
      "text/plain": [
       "105"
      ]
     },
     "execution_count": 16,
     "metadata": {},
     "output_type": "execute_result"
    }
   ],
   "source": [
    "x"
   ]
  },
  {
   "cell_type": "code",
   "execution_count": 17,
   "id": "d52d2aff-962f-4cc1-b5d0-903a3b635c75",
   "metadata": {},
   "outputs": [
    {
     "data": {
      "text/plain": [
       "155"
      ]
     },
     "execution_count": 17,
     "metadata": {},
     "output_type": "execute_result"
    }
   ],
   "source": [
    "x+=50\n",
    "x"
   ]
  },
  {
   "cell_type": "code",
   "execution_count": 18,
   "id": "31427037-12aa-4fc0-aac6-47fad05b1569",
   "metadata": {},
   "outputs": [],
   "source": [
    "x*=5"
   ]
  },
  {
   "cell_type": "code",
   "execution_count": 19,
   "id": "9b94b3ec-9801-4de7-b01f-f28b5dfc985f",
   "metadata": {},
   "outputs": [
    {
     "data": {
      "text/plain": [
       "775"
      ]
     },
     "execution_count": 19,
     "metadata": {},
     "output_type": "execute_result"
    }
   ],
   "source": [
    "x"
   ]
  },
  {
   "cell_type": "code",
   "execution_count": 20,
   "id": "816a3a9a-6d0e-4239-8df2-050e6a3f95e8",
   "metadata": {},
   "outputs": [],
   "source": [
    "x-=5"
   ]
  },
  {
   "cell_type": "code",
   "execution_count": 21,
   "id": "63889074-2e59-4e63-9125-abbf169ee38a",
   "metadata": {},
   "outputs": [
    {
     "data": {
      "text/plain": [
       "770"
      ]
     },
     "execution_count": 21,
     "metadata": {},
     "output_type": "execute_result"
    }
   ],
   "source": [
    "x"
   ]
  },
  {
   "cell_type": "code",
   "execution_count": 22,
   "id": "ddcaf13c-8259-4750-aa1a-87973591c919",
   "metadata": {},
   "outputs": [],
   "source": [
    "x/= 5"
   ]
  },
  {
   "cell_type": "code",
   "execution_count": 23,
   "id": "d9b7a021-16e3-4761-97e6-dd5d71bf16c5",
   "metadata": {},
   "outputs": [
    {
     "data": {
      "text/plain": [
       "154.0"
      ]
     },
     "execution_count": 23,
     "metadata": {},
     "output_type": "execute_result"
    }
   ],
   "source": [
    "x"
   ]
  },
  {
   "cell_type": "code",
   "execution_count": 24,
   "id": "b6bdc8a2-4af9-40d4-aa33-6d7d4afa0ae4",
   "metadata": {},
   "outputs": [],
   "source": [
    "a,b = 80,90"
   ]
  },
  {
   "cell_type": "code",
   "execution_count": 25,
   "id": "82ec3548-1840-4aa8-898f-4c6dde4c985d",
   "metadata": {},
   "outputs": [
    {
     "name": "stdout",
     "output_type": "stream",
     "text": [
      "80\n",
      "90\n"
     ]
    }
   ],
   "source": [
    "print(a)\n",
    "print(b)"
   ]
  },
  {
   "cell_type": "code",
   "execution_count": 26,
   "id": "48bc2dc0-7929-4f7a-9030-8787669821b1",
   "metadata": {},
   "outputs": [
    {
     "name": "stdout",
     "output_type": "stream",
     "text": [
      "80\n",
      "90\n"
     ]
    }
   ],
   "source": [
    "a=80\n",
    "b=90\n",
    "print(a)\n",
    "print(b)"
   ]
  },
  {
   "cell_type": "code",
   "execution_count": 27,
   "id": "8ab6a634-0d17-4e10-be49-0dd6cb379146",
   "metadata": {},
   "outputs": [
    {
     "data": {
      "text/plain": [
       "80"
      ]
     },
     "execution_count": 27,
     "metadata": {},
     "output_type": "execute_result"
    }
   ],
   "source": [
    "a"
   ]
  },
  {
   "cell_type": "code",
   "execution_count": 28,
   "id": "2c6c8e97-81c3-4ebb-be3e-669e75f7bb45",
   "metadata": {},
   "outputs": [
    {
     "data": {
      "text/plain": [
       "90"
      ]
     },
     "execution_count": 28,
     "metadata": {},
     "output_type": "execute_result"
    }
   ],
   "source": [
    "b"
   ]
  },
  {
   "cell_type": "code",
   "execution_count": 30,
   "id": "7cb93aa2-85db-491d-9948-67b18c008e6b",
   "metadata": {},
   "outputs": [],
   "source": [
    "## Unary Operator"
   ]
  },
  {
   "cell_type": "code",
   "execution_count": 31,
   "id": "332d02ae-da88-4411-8292-87d487a9d252",
   "metadata": {},
   "outputs": [
    {
     "data": {
      "text/plain": [
       "10"
      ]
     },
     "execution_count": 31,
     "metadata": {},
     "output_type": "execute_result"
    }
   ],
   "source": [
    "n=10\n",
    "n"
   ]
  },
  {
   "cell_type": "code",
   "execution_count": 32,
   "id": "c8b9cf10-4599-4623-b301-ae70ec381b1e",
   "metadata": {},
   "outputs": [
    {
     "data": {
      "text/plain": [
       "-10"
      ]
     },
     "execution_count": 32,
     "metadata": {},
     "output_type": "execute_result"
    }
   ],
   "source": [
    "m=(-n)\n",
    "m"
   ]
  },
  {
   "cell_type": "code",
   "execution_count": 33,
   "id": "cac999bd-7f67-486a-95a3-fd2c1cd8b911",
   "metadata": {},
   "outputs": [
    {
     "data": {
      "text/plain": [
       "10"
      ]
     },
     "execution_count": 33,
     "metadata": {},
     "output_type": "execute_result"
    }
   ],
   "source": [
    "n"
   ]
  },
  {
   "cell_type": "code",
   "execution_count": 34,
   "id": "c208672c-21fc-4ce5-b5c6-0c609d022785",
   "metadata": {},
   "outputs": [
    {
     "data": {
      "text/plain": [
       "-10"
      ]
     },
     "execution_count": 34,
     "metadata": {},
     "output_type": "execute_result"
    }
   ],
   "source": [
    "-n"
   ]
  },
  {
   "cell_type": "code",
   "execution_count": 35,
   "id": "d2f5aaa3-00e2-4b82-9bae-c17cd0fe1dc9",
   "metadata": {},
   "outputs": [],
   "source": [
    "## Relational Operator"
   ]
  },
  {
   "cell_type": "code",
   "execution_count": 36,
   "id": "50030b71-eb28-476e-ba10-d7e64f062b58",
   "metadata": {},
   "outputs": [],
   "source": [
    "a= 45\n",
    "b= 55"
   ]
  },
  {
   "cell_type": "code",
   "execution_count": 37,
   "id": "c9d5c35b-1086-4636-b49d-2220bffcd22e",
   "metadata": {},
   "outputs": [
    {
     "data": {
      "text/plain": [
       "True"
      ]
     },
     "execution_count": 37,
     "metadata": {},
     "output_type": "execute_result"
    }
   ],
   "source": [
    "a<b"
   ]
  },
  {
   "cell_type": "code",
   "execution_count": 38,
   "id": "40debb6d-aeb5-445d-b781-e5df5f0438c1",
   "metadata": {},
   "outputs": [
    {
     "data": {
      "text/plain": [
       "False"
      ]
     },
     "execution_count": 38,
     "metadata": {},
     "output_type": "execute_result"
    }
   ],
   "source": [
    "a>b"
   ]
  },
  {
   "cell_type": "code",
   "execution_count": 39,
   "id": "6da2abca-f9e9-49d0-888f-7645aab05499",
   "metadata": {},
   "outputs": [
    {
     "data": {
      "text/plain": [
       "False"
      ]
     },
     "execution_count": 39,
     "metadata": {},
     "output_type": "execute_result"
    }
   ],
   "source": [
    "a==b"
   ]
  },
  {
   "cell_type": "code",
   "execution_count": 40,
   "id": "e459b180-df88-4e25-8804-5d86771ab7b6",
   "metadata": {},
   "outputs": [
    {
     "data": {
      "text/plain": [
       "True"
      ]
     },
     "execution_count": 40,
     "metadata": {},
     "output_type": "execute_result"
    }
   ],
   "source": [
    "a!=b"
   ]
  },
  {
   "cell_type": "code",
   "execution_count": 41,
   "id": "e3612fde-a576-4a83-a891-223447165943",
   "metadata": {},
   "outputs": [],
   "source": [
    "## changing the value b= 65"
   ]
  },
  {
   "cell_type": "code",
   "execution_count": 42,
   "id": "542f4699-e29e-45a1-90f9-4ccd9986d7f4",
   "metadata": {},
   "outputs": [],
   "source": [
    "b=65"
   ]
  },
  {
   "cell_type": "code",
   "execution_count": 43,
   "id": "1bbbe0a9-7ebf-4e9f-9bf8-c882f7c8a5db",
   "metadata": {},
   "outputs": [
    {
     "data": {
      "text/plain": [
       "False"
      ]
     },
     "execution_count": 43,
     "metadata": {},
     "output_type": "execute_result"
    }
   ],
   "source": [
    "a==b"
   ]
  },
  {
   "cell_type": "code",
   "execution_count": 44,
   "id": "46c0018b-48c0-42a1-9dac-3f8cf76fe0df",
   "metadata": {},
   "outputs": [
    {
     "data": {
      "text/plain": [
       "45"
      ]
     },
     "execution_count": 44,
     "metadata": {},
     "output_type": "execute_result"
    }
   ],
   "source": [
    "a"
   ]
  },
  {
   "cell_type": "code",
   "execution_count": 45,
   "id": "ee483969-3cde-4585-98e9-b95c68a3a54c",
   "metadata": {},
   "outputs": [
    {
     "data": {
      "text/plain": [
       "65"
      ]
     },
     "execution_count": 45,
     "metadata": {},
     "output_type": "execute_result"
    }
   ],
   "source": [
    "b"
   ]
  },
  {
   "cell_type": "code",
   "execution_count": 46,
   "id": "8a78a7e9-a9c8-4fde-9fab-28d2b0270fca",
   "metadata": {},
   "outputs": [
    {
     "data": {
      "text/plain": [
       "False"
      ]
     },
     "execution_count": 46,
     "metadata": {},
     "output_type": "execute_result"
    }
   ],
   "source": [
    "a>b"
   ]
  },
  {
   "cell_type": "code",
   "execution_count": 47,
   "id": "2258d183-03ac-4d88-9230-9f1b5d9d4ee9",
   "metadata": {},
   "outputs": [
    {
     "data": {
      "text/plain": [
       "False"
      ]
     },
     "execution_count": 47,
     "metadata": {},
     "output_type": "execute_result"
    }
   ],
   "source": [
    "a>=b"
   ]
  },
  {
   "cell_type": "code",
   "execution_count": 48,
   "id": "4823fc19-1fd6-4afa-8be8-1564c078015a",
   "metadata": {},
   "outputs": [
    {
     "data": {
      "text/plain": [
       "True"
      ]
     },
     "execution_count": 48,
     "metadata": {},
     "output_type": "execute_result"
    }
   ],
   "source": [
    "a<=b"
   ]
  },
  {
   "cell_type": "code",
   "execution_count": 49,
   "id": "5236c270-5f0b-4faa-a52d-47a609d7cf62",
   "metadata": {},
   "outputs": [
    {
     "data": {
      "text/plain": [
       "True"
      ]
     },
     "execution_count": 49,
     "metadata": {},
     "output_type": "execute_result"
    }
   ],
   "source": [
    "a<b"
   ]
  },
  {
   "cell_type": "code",
   "execution_count": 50,
   "id": "416f46c7-ef5e-4f96-9f0d-4325ff031eba",
   "metadata": {},
   "outputs": [
    {
     "data": {
      "text/plain": [
       "True"
      ]
     },
     "execution_count": 50,
     "metadata": {},
     "output_type": "execute_result"
    }
   ],
   "source": [
    "a!=b"
   ]
  },
  {
   "cell_type": "code",
   "execution_count": 51,
   "id": "b203710b-fc09-4b7c-80a3-ac015d6e5f9c",
   "metadata": {},
   "outputs": [],
   "source": [
    "## Logical Operator"
   ]
  },
  {
   "cell_type": "code",
   "execution_count": 52,
   "id": "9e770543-3b36-4b08-a71b-8b6d2306a47c",
   "metadata": {},
   "outputs": [],
   "source": [
    "a= 9\n",
    "b= 6"
   ]
  },
  {
   "cell_type": "code",
   "execution_count": 53,
   "id": "016e8987-4a74-4868-8e58-a70f91a36ac3",
   "metadata": {},
   "outputs": [
    {
     "data": {
      "text/plain": [
       "True"
      ]
     },
     "execution_count": 53,
     "metadata": {},
     "output_type": "execute_result"
    }
   ],
   "source": [
    "a<10 and b<8"
   ]
  },
  {
   "cell_type": "code",
   "execution_count": 54,
   "id": "bef8aedd-b661-40da-96ba-64fb2c40ce76",
   "metadata": {},
   "outputs": [
    {
     "data": {
      "text/plain": [
       "False"
      ]
     },
     "execution_count": 54,
     "metadata": {},
     "output_type": "execute_result"
    }
   ],
   "source": [
    "a<7 and b<4"
   ]
  },
  {
   "cell_type": "code",
   "execution_count": 55,
   "id": "092eb6cc-b175-4fb6-acde-da95253121f1",
   "metadata": {},
   "outputs": [
    {
     "data": {
      "text/plain": [
       "True"
      ]
     },
     "execution_count": 55,
     "metadata": {},
     "output_type": "execute_result"
    }
   ],
   "source": [
    "a>7 and b>4"
   ]
  },
  {
   "cell_type": "code",
   "execution_count": 57,
   "id": "130c9e6d-5091-4e8d-adca-9d42a87ffb93",
   "metadata": {},
   "outputs": [],
   "source": [
    "x = False"
   ]
  },
  {
   "cell_type": "code",
   "execution_count": 58,
   "id": "5778bb17-fe1d-415e-b39b-e525c73ae330",
   "metadata": {},
   "outputs": [
    {
     "data": {
      "text/plain": [
       "True"
      ]
     },
     "execution_count": 58,
     "metadata": {},
     "output_type": "execute_result"
    }
   ],
   "source": [
    "not x"
   ]
  },
  {
   "cell_type": "code",
   "execution_count": 60,
   "id": "fc23cd5f-5a67-400a-b46f-7465257a607b",
   "metadata": {},
   "outputs": [
    {
     "data": {
      "text/plain": [
       "True"
      ]
     },
     "execution_count": 60,
     "metadata": {},
     "output_type": "execute_result"
    }
   ],
   "source": [
    "x = not x\n",
    "x"
   ]
  },
  {
   "cell_type": "code",
   "execution_count": 61,
   "id": "bebf4818-a2f6-444e-b21e-19f55664314e",
   "metadata": {},
   "outputs": [
    {
     "data": {
      "text/plain": [
       "True"
      ]
     },
     "execution_count": 61,
     "metadata": {},
     "output_type": "execute_result"
    }
   ],
   "source": [
    "x"
   ]
  },
  {
   "cell_type": "code",
   "execution_count": 62,
   "id": "7682a321-563f-43d3-9068-9eae14d58845",
   "metadata": {},
   "outputs": [
    {
     "data": {
      "text/plain": [
       "False"
      ]
     },
     "execution_count": 62,
     "metadata": {},
     "output_type": "execute_result"
    }
   ],
   "source": [
    "not x"
   ]
  },
  {
   "cell_type": "code",
   "execution_count": 63,
   "id": "4062ae81-f71f-4ca2-8d01-93171bf7629c",
   "metadata": {},
   "outputs": [],
   "source": [
    "## Binary Digit"
   ]
  },
  {
   "cell_type": "code",
   "execution_count": 64,
   "id": "73ddc5e9-b86a-495b-a786-32dea1b67ed0",
   "metadata": {},
   "outputs": [
    {
     "data": {
      "text/plain": [
       "20"
      ]
     },
     "execution_count": 64,
     "metadata": {},
     "output_type": "execute_result"
    }
   ],
   "source": [
    "20"
   ]
  },
  {
   "cell_type": "code",
   "execution_count": 65,
   "id": "bfd062f4-bc9a-45dd-91b8-d73daae6e68d",
   "metadata": {},
   "outputs": [
    {
     "data": {
      "text/plain": [
       "'0b10100'"
      ]
     },
     "execution_count": 65,
     "metadata": {},
     "output_type": "execute_result"
    }
   ],
   "source": [
    "bin(20)"
   ]
  },
  {
   "cell_type": "code",
   "execution_count": 66,
   "id": "d4ab8ae3-366e-4328-b1b2-05b6c2eb80c9",
   "metadata": {},
   "outputs": [
    {
     "data": {
      "text/plain": [
       "20"
      ]
     },
     "execution_count": 66,
     "metadata": {},
     "output_type": "execute_result"
    }
   ],
   "source": [
    "int(0b10100)"
   ]
  },
  {
   "cell_type": "code",
   "execution_count": 67,
   "id": "026e6977-1161-42e1-abaa-44bcd81f25d1",
   "metadata": {},
   "outputs": [
    {
     "data": {
      "text/plain": [
       "'0b110010'"
      ]
     },
     "execution_count": 67,
     "metadata": {},
     "output_type": "execute_result"
    }
   ],
   "source": [
    "bin(50)"
   ]
  },
  {
   "cell_type": "code",
   "execution_count": 68,
   "id": "de443d1c-c1c9-4db6-8383-6eaba1f20e6c",
   "metadata": {},
   "outputs": [
    {
     "data": {
      "text/plain": [
       "50"
      ]
     },
     "execution_count": 68,
     "metadata": {},
     "output_type": "execute_result"
    }
   ],
   "source": [
    "int(0b110010)"
   ]
  },
  {
   "cell_type": "code",
   "execution_count": 69,
   "id": "ef6a1d6a-204b-4ad5-b8de-4d22d15fa4da",
   "metadata": {},
   "outputs": [
    {
     "data": {
      "text/plain": [
       "'0o24'"
      ]
     },
     "execution_count": 69,
     "metadata": {},
     "output_type": "execute_result"
    }
   ],
   "source": [
    "oct(20)"
   ]
  },
  {
   "cell_type": "code",
   "execution_count": 70,
   "id": "e4caab5d-2770-4e4b-806a-d14649211fbb",
   "metadata": {},
   "outputs": [
    {
     "data": {
      "text/plain": [
       "20"
      ]
     },
     "execution_count": 70,
     "metadata": {},
     "output_type": "execute_result"
    }
   ],
   "source": [
    "int(0o24)"
   ]
  },
  {
   "cell_type": "code",
   "execution_count": 71,
   "id": "3598e56c-19fb-4637-abb1-47b5d3b954e6",
   "metadata": {},
   "outputs": [
    {
     "data": {
      "text/plain": [
       "50"
      ]
     },
     "execution_count": 71,
     "metadata": {},
     "output_type": "execute_result"
    }
   ],
   "source": [
    "int(0b110010)"
   ]
  },
  {
   "cell_type": "code",
   "execution_count": 72,
   "id": "60442442-1fda-4166-821e-4984dcfd5330",
   "metadata": {},
   "outputs": [
    {
     "data": {
      "text/plain": [
       "20"
      ]
     },
     "execution_count": 72,
     "metadata": {},
     "output_type": "execute_result"
    }
   ],
   "source": [
    "0o24"
   ]
  },
  {
   "cell_type": "code",
   "execution_count": 73,
   "id": "13ef4dec-7edc-46fe-bc2d-e870296f8d12",
   "metadata": {},
   "outputs": [
    {
     "data": {
      "text/plain": [
       "50"
      ]
     },
     "execution_count": 73,
     "metadata": {},
     "output_type": "execute_result"
    }
   ],
   "source": [
    "int(0b110010)"
   ]
  },
  {
   "cell_type": "code",
   "execution_count": 74,
   "id": "a4ca59ea-4614-4b9b-981b-23154f6acd52",
   "metadata": {},
   "outputs": [
    {
     "data": {
      "text/plain": [
       "'0b1000'"
      ]
     },
     "execution_count": 74,
     "metadata": {},
     "output_type": "execute_result"
    }
   ],
   "source": [
    "bin(8)"
   ]
  },
  {
   "cell_type": "code",
   "execution_count": 75,
   "id": "013f192c-ad57-43cc-8e1f-88df8236b261",
   "metadata": {},
   "outputs": [
    {
     "data": {
      "text/plain": [
       "'0o24'"
      ]
     },
     "execution_count": 75,
     "metadata": {},
     "output_type": "execute_result"
    }
   ],
   "source": [
    "oct(20)"
   ]
  },
  {
   "cell_type": "code",
   "execution_count": 76,
   "id": "a6b8c129-affd-4c11-aea9-e64aeeda2ff1",
   "metadata": {},
   "outputs": [
    {
     "data": {
      "text/plain": [
       "20"
      ]
     },
     "execution_count": 76,
     "metadata": {},
     "output_type": "execute_result"
    }
   ],
   "source": [
    "int(0o24)"
   ]
  },
  {
   "cell_type": "code",
   "execution_count": 77,
   "id": "4bde5c61-9a4f-44db-85f8-4efe946af9f5",
   "metadata": {},
   "outputs": [
    {
     "data": {
      "text/plain": [
       "'0x14'"
      ]
     },
     "execution_count": 77,
     "metadata": {},
     "output_type": "execute_result"
    }
   ],
   "source": [
    "hex(20)"
   ]
  },
  {
   "cell_type": "code",
   "execution_count": 78,
   "id": "7c947e4e-d27e-49a2-b5ba-f21913ddf680",
   "metadata": {},
   "outputs": [
    {
     "data": {
      "text/plain": [
       "'0xb'"
      ]
     },
     "execution_count": 78,
     "metadata": {},
     "output_type": "execute_result"
    }
   ],
   "source": [
    "hex(11)"
   ]
  },
  {
   "cell_type": "code",
   "execution_count": 82,
   "id": "cdf57d5c-a971-4272-bb8a-1c21ea38f758",
   "metadata": {},
   "outputs": [
    {
     "data": {
      "text/plain": [
       "12"
      ]
     },
     "execution_count": 82,
     "metadata": {},
     "output_type": "execute_result"
    }
   ],
   "source": [
    "0xc"
   ]
  },
  {
   "cell_type": "code",
   "execution_count": 83,
   "id": "66f2e3aa-33aa-414d-be46-f5d6e3e292df",
   "metadata": {},
   "outputs": [
    {
     "data": {
      "text/plain": [
       "'0x5'"
      ]
     },
     "execution_count": 83,
     "metadata": {},
     "output_type": "execute_result"
    }
   ],
   "source": [
    "hex(5)"
   ]
  },
  {
   "cell_type": "code",
   "execution_count": 84,
   "id": "23b74f8c-055c-46ed-9b21-bb5972049734",
   "metadata": {},
   "outputs": [
    {
     "data": {
      "text/plain": [
       "'0x41'"
      ]
     },
     "execution_count": 84,
     "metadata": {},
     "output_type": "execute_result"
    }
   ],
   "source": [
    "hex(65)"
   ]
  },
  {
   "cell_type": "code",
   "execution_count": 89,
   "id": "f1bdb7e8-811a-4b09-a92d-856c24daa191",
   "metadata": {},
   "outputs": [
    {
     "data": {
      "text/plain": [
       "86"
      ]
     },
     "execution_count": 89,
     "metadata": {},
     "output_type": "execute_result"
    }
   ],
   "source": [
    "0x56"
   ]
  },
  {
   "cell_type": "code",
   "execution_count": 90,
   "id": "613d2440-f4c1-4447-a51f-e1b10262b969",
   "metadata": {},
   "outputs": [],
   "source": [
    "## swap 2 variable in Python"
   ]
  },
  {
   "cell_type": "code",
   "execution_count": 91,
   "id": "64df08ca-ea5d-4ce7-9e6e-f7ac49513fa9",
   "metadata": {},
   "outputs": [],
   "source": [
    "a=10\n",
    "b=50"
   ]
  },
  {
   "cell_type": "code",
   "execution_count": 92,
   "id": "1a26bf48-3e98-4229-9d4b-a5f1d870a20b",
   "metadata": {},
   "outputs": [],
   "source": [
    "a=b\n",
    "b=a"
   ]
  },
  {
   "cell_type": "code",
   "execution_count": 93,
   "id": "ed76b016-d07a-496f-b233-1962762fe286",
   "metadata": {},
   "outputs": [
    {
     "name": "stdout",
     "output_type": "stream",
     "text": [
      "50\n",
      "50\n"
     ]
    }
   ],
   "source": [
    "print(a)\n",
    "print(b)"
   ]
  },
  {
   "cell_type": "code",
   "execution_count": 94,
   "id": "36ffa021-d620-4ff7-a3a1-464c921ecec3",
   "metadata": {},
   "outputs": [],
   "source": [
    "a1=45\n",
    "b1=55"
   ]
  },
  {
   "cell_type": "code",
   "execution_count": 96,
   "id": "543ad1b0-106c-477a-b0a4-fcb16f055eea",
   "metadata": {},
   "outputs": [],
   "source": [
    "temp=a1\n",
    "a1=b1\n",
    "b1=temp"
   ]
  },
  {
   "cell_type": "code",
   "execution_count": 97,
   "id": "6f2499df-0e6a-47e3-b78f-4c508dac2354",
   "metadata": {},
   "outputs": [
    {
     "name": "stdout",
     "output_type": "stream",
     "text": [
      "55\n",
      "55\n"
     ]
    }
   ],
   "source": [
    "print(a1)\n",
    "print(b1)"
   ]
  },
  {
   "cell_type": "code",
   "execution_count": 107,
   "id": "87b274ed-c3ab-41ba-a696-4ac4c5893c00",
   "metadata": {},
   "outputs": [],
   "source": [
    "## Third Variable"
   ]
  },
  {
   "cell_type": "code",
   "execution_count": 99,
   "id": "cd651b41-24f3-495d-9608-39df147a3f59",
   "metadata": {},
   "outputs": [],
   "source": [
    "a2=65\n",
    "b2=75\n"
   ]
  },
  {
   "cell_type": "code",
   "execution_count": 100,
   "id": "b98588e3-c59d-434e-a9b1-83002d19b416",
   "metadata": {},
   "outputs": [],
   "source": [
    "a2 = a2 + b2 \n",
    "b2 = a2 - b2 \n",
    "a2 = a2 - b2"
   ]
  },
  {
   "cell_type": "code",
   "execution_count": 101,
   "id": "ecee0502-c1fb-45cf-9074-5c9431dc53d9",
   "metadata": {},
   "outputs": [
    {
     "name": "stdout",
     "output_type": "stream",
     "text": [
      "75\n",
      "65\n"
     ]
    }
   ],
   "source": [
    "print(a2)\n",
    "print(b2)"
   ]
  },
  {
   "cell_type": "code",
   "execution_count": 103,
   "id": "91a19159-d314-45d7-81aa-c98e3f07802b",
   "metadata": {},
   "outputs": [
    {
     "data": {
      "text/plain": [
       "'0o113'"
      ]
     },
     "execution_count": 103,
     "metadata": {},
     "output_type": "execute_result"
    }
   ],
   "source": [
    "oct(75)"
   ]
  },
  {
   "cell_type": "code",
   "execution_count": 104,
   "id": "d82b5445-2601-42cb-b8f8-8fe476d75001",
   "metadata": {},
   "outputs": [
    {
     "data": {
      "text/plain": [
       "'0o101'"
      ]
     },
     "execution_count": 104,
     "metadata": {},
     "output_type": "execute_result"
    }
   ],
   "source": [
    "oct(65)"
   ]
  },
  {
   "cell_type": "code",
   "execution_count": 106,
   "id": "e65e240e-3935-4e6a-905a-aeeefc8df910",
   "metadata": {},
   "outputs": [
    {
     "name": "stdout",
     "output_type": "stream",
     "text": [
      "75\n",
      "65\n"
     ]
    }
   ],
   "source": [
    "print(0o113)\n",
    "print(0o101)"
   ]
  },
  {
   "cell_type": "code",
   "execution_count": 108,
   "id": "78496bb1-3312-4102-9959-cd0bb2f09c01",
   "metadata": {},
   "outputs": [
    {
     "name": "stdout",
     "output_type": "stream",
     "text": [
      "75\n",
      "65\n"
     ]
    }
   ],
   "source": [
    "print(a2)\n",
    "print(b2)"
   ]
  },
  {
   "cell_type": "code",
   "execution_count": 109,
   "id": "c824913c-afd7-44bd-a151-aa2793601410",
   "metadata": {},
   "outputs": [],
   "source": [
    "a2 = a2 ^ b2\n",
    "b2 = a2 ^ b2\n",
    "a2 = a2 ^ b2"
   ]
  },
  {
   "cell_type": "code",
   "execution_count": 110,
   "id": "771089c8-7011-4b67-9774-58c48e7a8662",
   "metadata": {},
   "outputs": [
    {
     "name": "stdout",
     "output_type": "stream",
     "text": [
      "65\n",
      "75\n"
     ]
    }
   ],
   "source": [
    "print(a2)\n",
    "print(b2)"
   ]
  },
  {
   "cell_type": "code",
   "execution_count": 111,
   "id": "8a2791f9-242c-4d84-91f3-d1ebd81a6bd1",
   "metadata": {},
   "outputs": [
    {
     "data": {
      "text/plain": [
       "(65, 75)"
      ]
     },
     "execution_count": 111,
     "metadata": {},
     "output_type": "execute_result"
    }
   ],
   "source": [
    "a2,b2"
   ]
  },
  {
   "cell_type": "code",
   "execution_count": 112,
   "id": "b2b76a5e-f36f-4a6c-a777-00e1b478b465",
   "metadata": {},
   "outputs": [],
   "source": [
    "a2 , b2 = b2, a2"
   ]
  },
  {
   "cell_type": "code",
   "execution_count": 113,
   "id": "77010d02-3f5d-476c-9ee7-b7cadb2d7217",
   "metadata": {},
   "outputs": [
    {
     "name": "stdout",
     "output_type": "stream",
     "text": [
      "75\n",
      "65\n"
     ]
    }
   ],
   "source": [
    "print(a2)\n",
    "print(b2)"
   ]
  },
  {
   "cell_type": "code",
   "execution_count": 114,
   "id": "08b84c3a-7315-48e4-ba35-dd4f68f4cf4d",
   "metadata": {},
   "outputs": [],
   "source": [
    "## Bitwise Operator"
   ]
  },
  {
   "cell_type": "code",
   "execution_count": 115,
   "id": "eab0018a-0fca-4c22-956e-666d6cc5a570",
   "metadata": {},
   "outputs": [
    {
     "name": "stdout",
     "output_type": "stream",
     "text": [
      "0b1111\n",
      "0b10100\n"
     ]
    }
   ],
   "source": [
    "print(bin(15))\n",
    "print(bin(20))"
   ]
  },
  {
   "cell_type": "code",
   "execution_count": 116,
   "id": "69983a04-061c-4f3f-9b8a-23bca9510bf8",
   "metadata": {},
   "outputs": [
    {
     "data": {
      "text/plain": [
       "-16"
      ]
     },
     "execution_count": 116,
     "metadata": {},
     "output_type": "execute_result"
    }
   ],
   "source": [
    "~15"
   ]
  },
  {
   "cell_type": "code",
   "execution_count": 117,
   "id": "db1349cb-569c-4a18-999e-b2e6f700f367",
   "metadata": {},
   "outputs": [
    {
     "data": {
      "text/plain": [
       "-21"
      ]
     },
     "execution_count": 117,
     "metadata": {},
     "output_type": "execute_result"
    }
   ],
   "source": [
    "~20"
   ]
  },
  {
   "cell_type": "code",
   "execution_count": 118,
   "id": "6c130d33-8b45-4815-9918-5dd57f17b448",
   "metadata": {},
   "outputs": [
    {
     "data": {
      "text/plain": [
       "-57"
      ]
     },
     "execution_count": 118,
     "metadata": {},
     "output_type": "execute_result"
    }
   ],
   "source": [
    "~56"
   ]
  },
  {
   "cell_type": "code",
   "execution_count": 119,
   "id": "5536b938-684c-41fb-9e42-1e2834ffe3d5",
   "metadata": {},
   "outputs": [],
   "source": [
    "## Bitwise and Operator"
   ]
  },
  {
   "cell_type": "code",
   "execution_count": 120,
   "id": "c68b820b-c54d-46df-a50e-555172e90a36",
   "metadata": {},
   "outputs": [
    {
     "data": {
      "text/plain": [
       "4"
      ]
     },
     "execution_count": 120,
     "metadata": {},
     "output_type": "execute_result"
    }
   ],
   "source": [
    "15 & 20 "
   ]
  },
  {
   "cell_type": "code",
   "execution_count": 121,
   "id": "50f190af-2f26-4514-9664-59ca123662af",
   "metadata": {},
   "outputs": [
    {
     "data": {
      "text/plain": [
       "31"
      ]
     },
     "execution_count": 121,
     "metadata": {},
     "output_type": "execute_result"
    }
   ],
   "source": [
    "15 | 20"
   ]
  },
  {
   "cell_type": "code",
   "execution_count": 122,
   "id": "e25b6c0d-eb94-41d2-88cd-c698642f8e8d",
   "metadata": {},
   "outputs": [
    {
     "data": {
      "text/plain": [
       "0"
      ]
     },
     "execution_count": 122,
     "metadata": {},
     "output_type": "execute_result"
    }
   ],
   "source": [
    "1 & 0"
   ]
  },
  {
   "cell_type": "code",
   "execution_count": 123,
   "id": "bb3ea51b-b067-40f8-a769-0330adcd1140",
   "metadata": {},
   "outputs": [
    {
     "data": {
      "text/plain": [
       "1"
      ]
     },
     "execution_count": 123,
     "metadata": {},
     "output_type": "execute_result"
    }
   ],
   "source": [
    "1 | 0"
   ]
  },
  {
   "cell_type": "code",
   "execution_count": 124,
   "id": "34f796ad-02d0-42ca-bdfe-9ce66c21d649",
   "metadata": {},
   "outputs": [
    {
     "data": {
      "text/plain": [
       "'0b11001'"
      ]
     },
     "execution_count": 124,
     "metadata": {},
     "output_type": "execute_result"
    }
   ],
   "source": [
    "bin(25)"
   ]
  },
  {
   "cell_type": "code",
   "execution_count": 127,
   "id": "30af95df-0fba-4b08-919d-899b471b00a3",
   "metadata": {},
   "outputs": [
    {
     "name": "stdout",
     "output_type": "stream",
     "text": [
      "0b101101\n",
      "0b110001\n"
     ]
    }
   ],
   "source": [
    "print(bin(45))\n",
    "print(bin(49))"
   ]
  },
  {
   "cell_type": "code",
   "execution_count": 128,
   "id": "34e28fac-98cf-40dd-9e2f-a62128e1e05b",
   "metadata": {},
   "outputs": [
    {
     "data": {
      "text/plain": [
       "33"
      ]
     },
     "execution_count": 128,
     "metadata": {},
     "output_type": "execute_result"
    }
   ],
   "source": [
    "45 & 49"
   ]
  },
  {
   "cell_type": "code",
   "execution_count": 129,
   "id": "9779b2de-0910-4c91-b9c4-6d80f3ed1e7f",
   "metadata": {},
   "outputs": [
    {
     "data": {
      "text/plain": [
       "61"
      ]
     },
     "execution_count": 129,
     "metadata": {},
     "output_type": "execute_result"
    }
   ],
   "source": [
    "45 | 49"
   ]
  },
  {
   "cell_type": "code",
   "execution_count": 132,
   "id": "6363986f-83e1-42dd-88d8-bbdc86ed8898",
   "metadata": {},
   "outputs": [
    {
     "data": {
      "text/plain": [
       "30"
      ]
     },
     "execution_count": 132,
     "metadata": {},
     "output_type": "execute_result"
    }
   ],
   "source": [
    "14^16"
   ]
  },
  {
   "cell_type": "code",
   "execution_count": 133,
   "id": "d9e7f2fe-4a7b-44ca-b969-9a9753c7d9a0",
   "metadata": {},
   "outputs": [
    {
     "name": "stdout",
     "output_type": "stream",
     "text": [
      "0b11001\n",
      "0b11110\n"
     ]
    }
   ],
   "source": [
    "print(bin(25))\n",
    "print(bin(30))"
   ]
  },
  {
   "cell_type": "code",
   "execution_count": 134,
   "id": "36be013d-b84d-491b-bf35-990dd8568e96",
   "metadata": {},
   "outputs": [
    {
     "data": {
      "text/plain": [
       "7"
      ]
     },
     "execution_count": 134,
     "metadata": {},
     "output_type": "execute_result"
    }
   ],
   "source": [
    "25^30"
   ]
  },
  {
   "cell_type": "code",
   "execution_count": 135,
   "id": "bc96013c-3ed6-4f7a-b37f-2a576f0635bb",
   "metadata": {},
   "outputs": [
    {
     "data": {
      "text/plain": [
       "'0b111'"
      ]
     },
     "execution_count": 135,
     "metadata": {},
     "output_type": "execute_result"
    }
   ],
   "source": [
    "bin(7)"
   ]
  },
  {
   "cell_type": "code",
   "execution_count": 136,
   "id": "2304ebd3-966e-4c10-b5a8-d58436503dcb",
   "metadata": {},
   "outputs": [
    {
     "data": {
      "text/plain": [
       "'0b11001'"
      ]
     },
     "execution_count": 136,
     "metadata": {},
     "output_type": "execute_result"
    }
   ],
   "source": [
    "bin(25)"
   ]
  },
  {
   "cell_type": "code",
   "execution_count": 137,
   "id": "bbf619f6-dc37-4397-9602-8ad3699398f4",
   "metadata": {},
   "outputs": [
    {
     "data": {
      "text/plain": [
       "'0b11110'"
      ]
     },
     "execution_count": 137,
     "metadata": {},
     "output_type": "execute_result"
    }
   ],
   "source": [
    "bin(30)"
   ]
  },
  {
   "cell_type": "code",
   "execution_count": 138,
   "id": "a1a3c76b-7a38-4066-a6eb-06bc42e72b24",
   "metadata": {},
   "outputs": [
    {
     "data": {
      "text/plain": [
       "'0b1010'"
      ]
     },
     "execution_count": 138,
     "metadata": {},
     "output_type": "execute_result"
    }
   ],
   "source": [
    "bin(10)"
   ]
  },
  {
   "cell_type": "code",
   "execution_count": 139,
   "id": "aa34af22-fbe5-4498-ab93-cf3c92eb0a79",
   "metadata": {},
   "outputs": [
    {
     "data": {
      "text/plain": [
       "20"
      ]
     },
     "execution_count": 139,
     "metadata": {},
     "output_type": "execute_result"
    }
   ],
   "source": [
    "10<<1"
   ]
  },
  {
   "cell_type": "code",
   "execution_count": 140,
   "id": "6d5bcc03-b629-4c94-ac4f-cf11d5d21b04",
   "metadata": {},
   "outputs": [
    {
     "data": {
      "text/plain": [
       "40"
      ]
     },
     "execution_count": 140,
     "metadata": {},
     "output_type": "execute_result"
    }
   ],
   "source": [
    "10<<2"
   ]
  },
  {
   "cell_type": "code",
   "execution_count": 141,
   "id": "aaecbebb-c49b-45f1-87f3-a427f1e00f8f",
   "metadata": {},
   "outputs": [
    {
     "data": {
      "text/plain": [
       "'0b1010'"
      ]
     },
     "execution_count": 141,
     "metadata": {},
     "output_type": "execute_result"
    }
   ],
   "source": [
    "bin(10)"
   ]
  },
  {
   "cell_type": "code",
   "execution_count": 142,
   "id": "fdf9a098-3e05-4560-8af6-edf5bd1af26e",
   "metadata": {},
   "outputs": [
    {
     "data": {
      "text/plain": [
       "20"
      ]
     },
     "execution_count": 142,
     "metadata": {},
     "output_type": "execute_result"
    }
   ],
   "source": [
    "10<<1"
   ]
  },
  {
   "cell_type": "code",
   "execution_count": 143,
   "id": "75296e27-4011-4a29-81f5-da574f5488b3",
   "metadata": {},
   "outputs": [
    {
     "data": {
      "text/plain": [
       "40"
      ]
     },
     "execution_count": 143,
     "metadata": {},
     "output_type": "execute_result"
    }
   ],
   "source": [
    "10<<2 "
   ]
  },
  {
   "cell_type": "code",
   "execution_count": 144,
   "id": "5107c19b-cd5f-4b6b-8069-f12620a87444",
   "metadata": {},
   "outputs": [
    {
     "data": {
      "text/plain": [
       "80"
      ]
     },
     "execution_count": 144,
     "metadata": {},
     "output_type": "execute_result"
    }
   ],
   "source": [
    "10<<3"
   ]
  },
  {
   "cell_type": "code",
   "execution_count": 145,
   "id": "2133c31d-8ac4-48e1-833a-3ae0f4116b55",
   "metadata": {},
   "outputs": [
    {
     "data": {
      "text/plain": [
       "'0b10100'"
      ]
     },
     "execution_count": 145,
     "metadata": {},
     "output_type": "execute_result"
    }
   ],
   "source": [
    "bin(20)"
   ]
  },
  {
   "cell_type": "code",
   "execution_count": 146,
   "id": "3b8c1403-eb78-4a49-a328-fa81aac000e1",
   "metadata": {},
   "outputs": [
    {
     "data": {
      "text/plain": [
       "320"
      ]
     },
     "execution_count": 146,
     "metadata": {},
     "output_type": "execute_result"
    }
   ],
   "source": [
    "20<<4"
   ]
  },
  {
   "cell_type": "code",
   "execution_count": 147,
   "id": "36bb63cf-b642-4efe-87cb-6919e41a0131",
   "metadata": {},
   "outputs": [],
   "source": [
    "## Bitwise Rightshift Operator"
   ]
  },
  {
   "cell_type": "code",
   "execution_count": 148,
   "id": "1b628016-9651-4423-9f96-7fe9130efd2a",
   "metadata": {},
   "outputs": [
    {
     "data": {
      "text/plain": [
       "'0b11001'"
      ]
     },
     "execution_count": 148,
     "metadata": {},
     "output_type": "execute_result"
    }
   ],
   "source": [
    "bin(25)"
   ]
  },
  {
   "cell_type": "code",
   "execution_count": 149,
   "id": "8169d324-0818-472c-b226-f6f27e4c9f7b",
   "metadata": {},
   "outputs": [
    {
     "data": {
      "text/plain": [
       "12"
      ]
     },
     "execution_count": 149,
     "metadata": {},
     "output_type": "execute_result"
    }
   ],
   "source": [
    "25>>1"
   ]
  },
  {
   "cell_type": "code",
   "execution_count": 150,
   "id": "f25d5be3-115a-45bf-a904-2a93ac421f22",
   "metadata": {},
   "outputs": [
    {
     "data": {
      "text/plain": [
       "6"
      ]
     },
     "execution_count": 150,
     "metadata": {},
     "output_type": "execute_result"
    }
   ],
   "source": [
    "25>>2"
   ]
  },
  {
   "cell_type": "code",
   "execution_count": 151,
   "id": "b22ec328-810f-4b59-b9da-a691af3c68c8",
   "metadata": {},
   "outputs": [
    {
     "data": {
      "text/plain": [
       "3"
      ]
     },
     "execution_count": 151,
     "metadata": {},
     "output_type": "execute_result"
    }
   ],
   "source": [
    "25>>3"
   ]
  },
  {
   "cell_type": "code",
   "execution_count": 153,
   "id": "62b25cd8-b002-4965-afe8-b0cb5d6d3b20",
   "metadata": {},
   "outputs": [
    {
     "data": {
      "text/plain": [
       "'0b11110'"
      ]
     },
     "execution_count": 153,
     "metadata": {},
     "output_type": "execute_result"
    }
   ],
   "source": [
    "bin(30)"
   ]
  },
  {
   "cell_type": "code",
   "execution_count": null,
   "id": "bec744a4-ea77-493e-be39-a4d5c50f3eb7",
   "metadata": {},
   "outputs": [],
   "source": []
  },
  {
   "cell_type": "code",
   "execution_count": null,
   "id": "1b95c950-5f36-4a46-8e45-afa59431a3f9",
   "metadata": {},
   "outputs": [],
   "source": []
  }
 ],
 "metadata": {
  "kernelspec": {
   "display_name": "Python 3 (ipykernel)",
   "language": "python",
   "name": "python3"
  },
  "language_info": {
   "codemirror_mode": {
    "name": "ipython",
    "version": 3
   },
   "file_extension": ".py",
   "mimetype": "text/x-python",
   "name": "python",
   "nbconvert_exporter": "python",
   "pygments_lexer": "ipython3",
   "version": "3.12.7"
  }
 },
 "nbformat": 4,
 "nbformat_minor": 5
}
