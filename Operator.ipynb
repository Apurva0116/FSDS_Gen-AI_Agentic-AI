{
 "cells": [
  {
   "cell_type": "code",
   "execution_count": 1,
   "id": "0968698d-59e6-441a-9547-a05a928845a5",
   "metadata": {},
   "outputs": [
    {
     "name": "stdout",
     "output_type": "stream",
     "text": [
      "Addition:  3\n"
     ]
    }
   ],
   "source": [
    "print('Addition: ', 1 + 2)"
   ]
  },
  {
   "cell_type": "code",
   "execution_count": 2,
   "id": "ee919f1d-f0cb-4631-bb81-e0b93cb41496",
   "metadata": {},
   "outputs": [
    {
     "name": "stdout",
     "output_type": "stream",
     "text": [
      "Subtraction:  1\n"
     ]
    }
   ],
   "source": [
    "print('Subtraction: ', 2 - 1)"
   ]
  },
  {
   "cell_type": "code",
   "execution_count": 3,
   "id": "caa3d598-720d-4e89-8b9d-248b1b8baccc",
   "metadata": {},
   "outputs": [
    {
     "name": "stdout",
     "output_type": "stream",
     "text": [
      "Multiplication:  6\n"
     ]
    }
   ],
   "source": [
    "print('Multiplication: ', 2 * 3)"
   ]
  },
  {
   "cell_type": "code",
   "execution_count": 4,
   "id": "dd1d13ae-a643-4d63-9470-62c31eec6141",
   "metadata": {},
   "outputs": [
    {
     "name": "stdout",
     "output_type": "stream",
     "text": [
      "Division:  2.0\n"
     ]
    }
   ],
   "source": [
    "print ('Division: ', 4 / 2)"
   ]
  },
  {
   "cell_type": "code",
   "execution_count": 5,
   "id": "419e96a7-d982-4f17-9e3b-c71c4dad5ed5",
   "metadata": {},
   "outputs": [
    {
     "name": "stdout",
     "output_type": "stream",
     "text": [
      "Division:  3.0\n"
     ]
    }
   ],
   "source": [
    "print('Division: ', 6 / 2)"
   ]
  },
  {
   "cell_type": "code",
   "execution_count": 6,
   "id": "1f075b60-1835-4716-a44d-b5d318a2ae63",
   "metadata": {},
   "outputs": [
    {
     "name": "stdout",
     "output_type": "stream",
     "text": [
      "Division:  3.5\n"
     ]
    }
   ],
   "source": [
    "print('Division: ', 7 / 2)"
   ]
  },
  {
   "cell_type": "code",
   "execution_count": 7,
   "id": "bc9f44f4-942b-48c6-b951-74fbd716b2b4",
   "metadata": {},
   "outputs": [
    {
     "name": "stdout",
     "output_type": "stream",
     "text": [
      "Division without the remainder:  3\n"
     ]
    }
   ],
   "source": [
    "print('Division without the remainder: ', 7 // 2)"
   ]
  },
  {
   "cell_type": "code",
   "execution_count": 8,
   "id": "11238eb2-9327-4d82-839b-b69ce69bbd26",
   "metadata": {},
   "outputs": [
    {
     "name": "stdout",
     "output_type": "stream",
     "text": [
      "Modulus:  1\n"
     ]
    }
   ],
   "source": [
    "print('Modulus: ', 3 % 2)"
   ]
  },
  {
   "cell_type": "code",
   "execution_count": 9,
   "id": "95bc083d-85c5-430e-98a7-d63855a9b4ed",
   "metadata": {},
   "outputs": [
    {
     "name": "stdout",
     "output_type": "stream",
     "text": [
      "Division without the remainder:  2\n"
     ]
    }
   ],
   "source": [
    "print ('Division without the remainder: ', 7 // 3)"
   ]
  },
  {
   "cell_type": "code",
   "execution_count": 10,
   "id": "7c74d483-75ff-4291-bc0a-27dc3bcc9174",
   "metadata": {},
   "outputs": [
    {
     "name": "stdout",
     "output_type": "stream",
     "text": [
      "Exponential:  9\n"
     ]
    }
   ],
   "source": [
    "print('Exponential: ', 3 ** 2)"
   ]
  },
  {
   "cell_type": "code",
   "execution_count": null,
   "id": "5d7e42dc-cb02-4883-a178-eb800a64d33b",
   "metadata": {},
   "outputs": [],
   "source": [
    "##Floating Number"
   ]
  },
  {
   "cell_type": "code",
   "execution_count": 1,
   "id": "71f45c06-8171-4e60-b889-c1a0a615e7bf",
   "metadata": {},
   "outputs": [
    {
     "name": "stdout",
     "output_type": "stream",
     "text": [
      "Floating Number,PI 3.14\n"
     ]
    }
   ],
   "source": [
    "print('Floating Number,PI', 3.14)"
   ]
  },
  {
   "cell_type": "code",
   "execution_count": 2,
   "id": "94c35117-03ff-49e1-ba06-a01a9b847a63",
   "metadata": {},
   "outputs": [
    {
     "name": "stdout",
     "output_type": "stream",
     "text": [
      "Floating Number, gravity 9.81\n"
     ]
    }
   ],
   "source": [
    "print('Floating Number, gravity', 9.81)"
   ]
  },
  {
   "cell_type": "code",
   "execution_count": null,
   "id": "3691c2fe-5397-4068-b36a-1a3f6c45bbf2",
   "metadata": {},
   "outputs": [],
   "source": [
    "# Complex numbers"
   ]
  },
  {
   "cell_type": "code",
   "execution_count": 3,
   "id": "1356a592-55e0-4ccb-8b73-09e0e0dd7bf6",
   "metadata": {},
   "outputs": [
    {
     "name": "stdout",
     "output_type": "stream",
     "text": [
      "Complex number:  (1+1j)\n"
     ]
    }
   ],
   "source": [
    "print('Complex number: ', 1 + 1j)"
   ]
  },
  {
   "cell_type": "code",
   "execution_count": 4,
   "id": "31c8e85b-5b1a-40c9-9b1c-0e847f559d5f",
   "metadata": {},
   "outputs": [
    {
     "name": "stdout",
     "output_type": "stream",
     "text": [
      "Multiplying complex number:  (2+0j)\n"
     ]
    }
   ],
   "source": [
    "print('Multiplying complex number: ',(1 + 1j) * (1-1j))"
   ]
  },
  {
   "cell_type": "code",
   "execution_count": null,
   "id": "fd97fa1f-28b7-4007-affb-8df8b46bc95d",
   "metadata": {},
   "outputs": [],
   "source": [
    "# Declaring the variable at the top first"
   ]
  },
  {
   "cell_type": "code",
   "execution_count": 5,
   "id": "9f5807c0-c379-4768-9a5e-29b32ea1dbbd",
   "metadata": {},
   "outputs": [],
   "source": [
    "a=3\n",
    "b=2"
   ]
  },
  {
   "cell_type": "code",
   "execution_count": 6,
   "id": "72c7fa6c-8a56-419f-b1ee-be72128d6225",
   "metadata": {},
   "outputs": [],
   "source": [
    "total = a + b\n",
    "diff = a - b\n",
    "product = a * b\n",
    "division = a / b\n",
    "remainder = a % b\n",
    "floor_division = a // b\n",
    "exponential = a ** b"
   ]
  },
  {
   "cell_type": "code",
   "execution_count": 7,
   "id": "502c236f-c28b-4bc8-9cc9-f584fee85416",
   "metadata": {},
   "outputs": [
    {
     "name": "stdout",
     "output_type": "stream",
     "text": [
      "5\n",
      "a + b =  5\n",
      "a - b =  1\n",
      "a * b =  6\n",
      "a / b =  1.5\n",
      "a % b =  1\n",
      "a // b =  1\n",
      "a ** b =  9\n"
     ]
    }
   ],
   "source": [
    "print(total)\n",
    "print('a + b = ', total)\n",
    "print('a - b = ', diff)\n",
    "print('a * b = ', product)\n",
    "print('a / b = ', division)\n",
    "print('a % b = ', remainder)\n",
    "print('a // b = ', floor_division)\n",
    "print('a ** b = ', exponential)"
   ]
  },
  {
   "cell_type": "code",
   "execution_count": 8,
   "id": "74ec7e75-3f51-4e3b-b8ff-198f65cc3d9a",
   "metadata": {},
   "outputs": [],
   "source": [
    "# Declaring values and organizing them together"
   ]
  },
  {
   "cell_type": "code",
   "execution_count": 9,
   "id": "83936107-cd36-4416-9be8-6aad8fb88d75",
   "metadata": {},
   "outputs": [],
   "source": [
    "num_one = 3\n",
    "num_two = 4"
   ]
  },
  {
   "cell_type": "code",
   "execution_count": 10,
   "id": "af5dad34-6c50-4239-a117-e26a4f9ceb7d",
   "metadata": {},
   "outputs": [],
   "source": [
    "total = num_one + num_two\n",
    "diff = num_two - num_one\n",
    "product = num_one * num_two\n",
    "div = num_two / num_two\n",
    "remainder = num_two % num_one"
   ]
  },
  {
   "cell_type": "code",
   "execution_count": 11,
   "id": "4c40ddb8-340e-431c-8da9-7a1ea53ed274",
   "metadata": {},
   "outputs": [
    {
     "name": "stdout",
     "output_type": "stream",
     "text": [
      "total:  7\n",
      "difference:  1\n",
      "product:  12\n",
      "division:  1.0\n",
      "remainder:  1\n"
     ]
    }
   ],
   "source": [
    "print('total: ', total)\n",
    "print('difference: ', diff)\n",
    "print('product: ', product)\n",
    "print('division: ', div)\n",
    "print('remainder: ', remainder)"
   ]
  },
  {
   "cell_type": "code",
   "execution_count": 12,
   "id": "71ccbced-c414-4648-a51c-f547a247e4bd",
   "metadata": {},
   "outputs": [],
   "source": [
    "# Calculating area of a circle"
   ]
  },
  {
   "cell_type": "code",
   "execution_count": null,
   "id": "22fc6087-fcae-45ec-a1e9-24437fd0d668",
   "metadata": {},
   "outputs": [],
   "source": [
    "radius = 10                               \n",
    "area_of_circle = 3.14 * radius ** 2         \n",
    "print('Area of a circle:', area_of_circle)"
   ]
  },
  {
   "cell_type": "code",
   "execution_count": null,
   "id": "19a2790e-2f9c-4005-be61-792895667d7d",
   "metadata": {},
   "outputs": [],
   "source": [
    "length = 10\n",
    "width = 20\n",
    "area_of_rectangle = length * width\n",
    "print('Area of rectangle:', area_of_rectangle)"
   ]
  },
  {
   "cell_type": "code",
   "execution_count": 13,
   "id": "6aee7b34-0c85-4078-a754-e3ceaf214322",
   "metadata": {},
   "outputs": [
    {
     "name": "stdout",
     "output_type": "stream",
     "text": [
      "735.75 N\n"
     ]
    }
   ],
   "source": [
    "mass = 75\n",
    "gravity = 9.81\n",
    "weight = mass * gravity\n",
    "print(weight, 'N')"
   ]
  },
  {
   "cell_type": "code",
   "execution_count": 14,
   "id": "b5cea746-4588-4d35-88e4-2c52dd867944",
   "metadata": {},
   "outputs": [
    {
     "name": "stdout",
     "output_type": "stream",
     "text": [
      "True\n",
      "True\n",
      "False\n",
      "True\n",
      "True\n",
      "False\n",
      "True\n",
      "False\n",
      "True\n",
      "True\n",
      "False\n",
      "True\n",
      "True\n",
      "False\n"
     ]
    }
   ],
   "source": [
    "print(3 > 2)     \n",
    "print(3 >= 2)    \n",
    "print(3 < 2)     \n",
    "print(2 < 3)     \n",
    "print(2 <= 3)    \n",
    "print(3 == 2)    \n",
    "print(3 != 2)    \n",
    "print(len('mango') == len('avocado'))\n",
    "print(len('mango') != len('avocado'))  \n",
    "print(len('mango') < len('avocado'))   \n",
    "print(len('milk') != len('meat'))      \n",
    "print(len('milk') == len('meat'))      \n",
    "print(len('tomato') == len('potato'))  \n",
    "print(len('python') > len('dragon'))   "
   ]
  },
  {
   "cell_type": "code",
   "execution_count": null,
   "id": "db1c8668-022f-47f3-808c-be5edc47887b",
   "metadata": {},
   "outputs": [],
   "source": [
    "# Boolean comparison"
   ]
  },
  {
   "cell_type": "code",
   "execution_count": 15,
   "id": "9cac8442-d9a5-45e1-abbe-78147d140d03",
   "metadata": {},
   "outputs": [
    {
     "name": "stdout",
     "output_type": "stream",
     "text": [
      "True == True:  True\n",
      "True == False:  False\n",
      "False == False: True\n",
      "True and True:  True\n",
      "True or False: True\n"
     ]
    }
   ],
   "source": [
    "print('True == True: ', True == True)\n",
    "print('True == False: ', True == False)\n",
    "print('False == False:', False == False)\n",
    "print('True and True: ', True and True)\n",
    "print('True or False:', True or False)"
   ]
  },
  {
   "cell_type": "code",
   "execution_count": null,
   "id": "1e4857bc-a011-4ad8-9044-8e23063ed890",
   "metadata": {},
   "outputs": [],
   "source": [
    "# Another way comparison "
   ]
  },
  {
   "cell_type": "code",
   "execution_count": 17,
   "id": "5129b529-fdc0-4c53-8bb8-2da03d12e4e7",
   "metadata": {},
   "outputs": [
    {
     "name": "stdout",
     "output_type": "stream",
     "text": [
      "1 is 1 True\n",
      "1 is not 2 True\n",
      "A in Apurva True\n",
      "B in Apurva False\n",
      "True\n",
      "a in an: True\n",
      "4 is 2 ** 2: True\n",
      "True\n",
      "False\n",
      "False\n",
      "True\n",
      "True\n",
      "False\n",
      "False\n",
      "False\n",
      "True\n",
      "True\n",
      "False\n"
     ]
    },
    {
     "name": "stderr",
     "output_type": "stream",
     "text": [
      "<>:1: SyntaxWarning: \"is\" with 'int' literal. Did you mean \"==\"?\n",
      "<>:2: SyntaxWarning: \"is not\" with 'int' literal. Did you mean \"!=\"?\n",
      "<>:7: SyntaxWarning: \"is\" with 'int' literal. Did you mean \"==\"?\n",
      "<>:1: SyntaxWarning: \"is\" with 'int' literal. Did you mean \"==\"?\n",
      "<>:2: SyntaxWarning: \"is not\" with 'int' literal. Did you mean \"!=\"?\n",
      "<>:7: SyntaxWarning: \"is\" with 'int' literal. Did you mean \"==\"?\n",
      "C:\\Users\\Dell\\AppData\\Local\\Temp\\ipykernel_20864\\1874325271.py:1: SyntaxWarning: \"is\" with 'int' literal. Did you mean \"==\"?\n",
      "  print('1 is 1', 1 is 1)\n",
      "C:\\Users\\Dell\\AppData\\Local\\Temp\\ipykernel_20864\\1874325271.py:2: SyntaxWarning: \"is not\" with 'int' literal. Did you mean \"!=\"?\n",
      "  print('1 is not 2', 1 is not 2)\n",
      "C:\\Users\\Dell\\AppData\\Local\\Temp\\ipykernel_20864\\1874325271.py:7: SyntaxWarning: \"is\" with 'int' literal. Did you mean \"==\"?\n",
      "  print('4 is 2 ** 2:', 4 is 2 ** 2)\n"
     ]
    }
   ],
   "source": [
    "print('1 is 1', 1 is 1)                   \n",
    "print('1 is not 2', 1 is not 2)           \n",
    "print('A in Apurva', 'A' in 'Asabeneh') \n",
    "print('B in Apurva', 'B' in 'Asabeneh') \n",
    "print('coding' in 'coding for all') \n",
    "print('a in an:', 'a' in 'an')      \n",
    "print('4 is 2 ** 2:', 4 is 2 ** 2)   \n",
    "\n",
    "print(3 > 2 and 4 > 3) \n",
    "print(3 > 2 and 4 < 3) \n",
    "print(3 < 2 and 4 < 3) \n",
    "print(3 > 2 or 4 > 3)  \n",
    "print(3 > 2 or 4 < 3)  \n",
    "print(3 < 2 or 4 < 3)  \n",
    "print(not 3 > 2)     \n",
    "print(not True)     \n",
    "print(not False)     \n",
    "print(not not True) \n",
    "print(not not False) "
   ]
  },
  {
   "cell_type": "code",
   "execution_count": null,
   "id": "49193a6c-9470-448d-b078-bedb293a5e83",
   "metadata": {},
   "outputs": [],
   "source": []
  }
 ],
 "metadata": {
  "kernelspec": {
   "display_name": "Python 3 (ipykernel)",
   "language": "python",
   "name": "python3"
  },
  "language_info": {
   "codemirror_mode": {
    "name": "ipython",
    "version": 3
   },
   "file_extension": ".py",
   "mimetype": "text/x-python",
   "name": "python",
   "nbconvert_exporter": "python",
   "pygments_lexer": "ipython3",
   "version": "3.12.7"
  }
 },
 "nbformat": 4,
 "nbformat_minor": 5
}
