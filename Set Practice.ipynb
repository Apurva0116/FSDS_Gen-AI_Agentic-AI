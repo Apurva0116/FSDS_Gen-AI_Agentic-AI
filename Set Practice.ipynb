{
 "cells": [
  {
   "cell_type": "code",
   "execution_count": 3,
   "id": "c9f785e1-d562-47dd-aa92-3e0741d6e618",
   "metadata": {},
   "outputs": [
    {
     "data": {
      "text/plain": [
       "{}"
      ]
     },
     "execution_count": 3,
     "metadata": {},
     "output_type": "execute_result"
    }
   ],
   "source": [
    "s={}\n",
    "s"
   ]
  },
  {
   "cell_type": "code",
   "execution_count": 4,
   "id": "0d4a04d9-14cd-45d1-af8d-b6f9b8e6143e",
   "metadata": {},
   "outputs": [
    {
     "data": {
      "text/plain": [
       "dict"
      ]
     },
     "execution_count": 4,
     "metadata": {},
     "output_type": "execute_result"
    }
   ],
   "source": [
    "type(s)"
   ]
  },
  {
   "cell_type": "code",
   "execution_count": 5,
   "id": "3ff28db4-48af-4c96-bfab-05d7be3a984b",
   "metadata": {},
   "outputs": [
    {
     "data": {
      "text/plain": [
       "set()"
      ]
     },
     "execution_count": 5,
     "metadata": {},
     "output_type": "execute_result"
    }
   ],
   "source": [
    "s1=set()\n",
    "s1"
   ]
  },
  {
   "cell_type": "code",
   "execution_count": 6,
   "id": "ac1c02bc-1940-4110-94ce-ca2a45784cfa",
   "metadata": {},
   "outputs": [
    {
     "data": {
      "text/plain": [
       "set"
      ]
     },
     "execution_count": 6,
     "metadata": {},
     "output_type": "execute_result"
    }
   ],
   "source": [
    "type(s1)"
   ]
  },
  {
   "cell_type": "code",
   "execution_count": 8,
   "id": "fcf83add-f243-440b-a01a-6f405fb90527",
   "metadata": {},
   "outputs": [
    {
     "data": {
      "text/plain": [
       "{'Apurva'}"
      ]
     },
     "execution_count": 8,
     "metadata": {},
     "output_type": "execute_result"
    }
   ],
   "source": [
    "s1.add('Apurva')\n",
    "s1"
   ]
  },
  {
   "cell_type": "code",
   "execution_count": 9,
   "id": "de754d76-cbde-4831-981d-6de169791402",
   "metadata": {},
   "outputs": [],
   "source": [
    "s1.add('ABCD')\n",
    "s1.add('EFGH')\n",
    "s1.add('IJKL')"
   ]
  },
  {
   "cell_type": "code",
   "execution_count": 10,
   "id": "b0cf5b7c-5d13-43b3-9aac-2bdf9b672261",
   "metadata": {},
   "outputs": [
    {
     "data": {
      "text/plain": [
       "{'ABCD', 'Apurva', 'EFGH', 'IJKL'}"
      ]
     },
     "execution_count": 10,
     "metadata": {},
     "output_type": "execute_result"
    }
   ],
   "source": [
    "s1"
   ]
  },
  {
   "cell_type": "code",
   "execution_count": 11,
   "id": "b72b5ce2-9417-4f91-8375-12713a0e18e1",
   "metadata": {},
   "outputs": [
    {
     "data": {
      "text/plain": [
       "{'ABCD', 'Apurva', 'EFGH', 'IJKL'}"
      ]
     },
     "execution_count": 11,
     "metadata": {},
     "output_type": "execute_result"
    }
   ],
   "source": [
    "s1"
   ]
  },
  {
   "cell_type": "code",
   "execution_count": 12,
   "id": "156a4a72-ba4c-4577-aab9-c55307ca2fb6",
   "metadata": {},
   "outputs": [
    {
     "data": {
      "text/plain": [
       "set()"
      ]
     },
     "execution_count": 12,
     "metadata": {},
     "output_type": "execute_result"
    }
   ],
   "source": [
    "s2=set()\n",
    "s2"
   ]
  },
  {
   "cell_type": "code",
   "execution_count": 13,
   "id": "a0531ad4-ab0a-46bc-abd0-ae09e1de28bc",
   "metadata": {},
   "outputs": [],
   "source": [
    "s2.add('Pune')\n",
    "s2.add('Hydrabad')\n",
    "s2.add('Mumbai')\n",
    "s2.add('Delhi')"
   ]
  },
  {
   "cell_type": "code",
   "execution_count": 14,
   "id": "0054ac4f-76d4-4468-9875-b578d03bfd54",
   "metadata": {},
   "outputs": [
    {
     "data": {
      "text/plain": [
       "{'Delhi', 'Hydrabad', 'Mumbai', 'Pune'}"
      ]
     },
     "execution_count": 14,
     "metadata": {},
     "output_type": "execute_result"
    }
   ],
   "source": [
    "s2"
   ]
  },
  {
   "cell_type": "code",
   "execution_count": 15,
   "id": "e366ae3d-3139-4a7a-8a8e-d2453030c889",
   "metadata": {},
   "outputs": [
    {
     "name": "stdout",
     "output_type": "stream",
     "text": [
      "{'ABCD', 'EFGH', 'IJKL', 'Apurva'}\n",
      "{'Hydrabad', 'Delhi', 'Pune', 'Mumbai'}\n"
     ]
    }
   ],
   "source": [
    "print(s1)\n",
    "print(s2)"
   ]
  },
  {
   "cell_type": "code",
   "execution_count": 16,
   "id": "66a64a13-1df9-49c6-8502-5ca2cf3375bb",
   "metadata": {},
   "outputs": [
    {
     "data": {
      "text/plain": [
       "False"
      ]
     },
     "execution_count": 16,
     "metadata": {},
     "output_type": "execute_result"
    }
   ],
   "source": [
    "id(s1)==id(s2)"
   ]
  },
  {
   "cell_type": "code",
   "execution_count": 17,
   "id": "6708246d-54d8-4ef5-927d-7fe95b11a591",
   "metadata": {},
   "outputs": [
    {
     "data": {
      "text/plain": [
       "{'Delhi', 'Hydrabad', 'Mumbai', 'Pune'}"
      ]
     },
     "execution_count": 17,
     "metadata": {},
     "output_type": "execute_result"
    }
   ],
   "source": [
    "s3=s2.copy()\n",
    "s3"
   ]
  },
  {
   "cell_type": "code",
   "execution_count": 18,
   "id": "f8e98184-9199-425d-a909-c91e7a5e0a01",
   "metadata": {},
   "outputs": [
    {
     "name": "stdout",
     "output_type": "stream",
     "text": [
      "{'ABCD', 'EFGH', 'IJKL', 'Apurva'}\n",
      "{'Hydrabad', 'Delhi', 'Pune', 'Mumbai'}\n",
      "{'Hydrabad', 'Delhi', 'Pune', 'Mumbai'}\n"
     ]
    }
   ],
   "source": [
    "print(s1)\n",
    "print(s2)\n",
    "print(s3)"
   ]
  },
  {
   "cell_type": "code",
   "execution_count": 19,
   "id": "c2958050-9e13-4fc3-b9de-937c773f8f74",
   "metadata": {},
   "outputs": [
    {
     "data": {
      "text/plain": [
       "{'Delhi', 'Hydrabad', 'Mumbai', 'Pune'}"
      ]
     },
     "execution_count": 19,
     "metadata": {},
     "output_type": "execute_result"
    }
   ],
   "source": [
    "s2"
   ]
  },
  {
   "cell_type": "code",
   "execution_count": 20,
   "id": "a7575b33-d3e5-4952-ac1a-5e7459cec9b2",
   "metadata": {},
   "outputs": [
    {
     "data": {
      "text/plain": [
       "'Hydrabad'"
      ]
     },
     "execution_count": 20,
     "metadata": {},
     "output_type": "execute_result"
    }
   ],
   "source": [
    "s2.pop()"
   ]
  },
  {
   "cell_type": "code",
   "execution_count": 21,
   "id": "7b362bb5-5e89-42f1-a38c-2d4a66d2a6a5",
   "metadata": {},
   "outputs": [
    {
     "data": {
      "text/plain": [
       "{'Delhi', 'Mumbai', 'Pune'}"
      ]
     },
     "execution_count": 21,
     "metadata": {},
     "output_type": "execute_result"
    }
   ],
   "source": [
    "s2"
   ]
  },
  {
   "cell_type": "code",
   "execution_count": 22,
   "id": "38d1cb96-5b7a-43fc-94c5-f36bb0b0086c",
   "metadata": {},
   "outputs": [
    {
     "data": {
      "text/plain": [
       "{'Delhi', 'Hydrabad', 'Mumbai', 'Pune'}"
      ]
     },
     "execution_count": 22,
     "metadata": {},
     "output_type": "execute_result"
    }
   ],
   "source": [
    "s3"
   ]
  },
  {
   "cell_type": "code",
   "execution_count": 23,
   "id": "573f386f-f957-4724-afbd-b2e12ef017c3",
   "metadata": {},
   "outputs": [],
   "source": [
    "s3.remove('Delhi')"
   ]
  },
  {
   "cell_type": "code",
   "execution_count": 24,
   "id": "4d5367cc-4ce8-495c-a37f-32d2c63f4165",
   "metadata": {},
   "outputs": [
    {
     "data": {
      "text/plain": [
       "{'Hydrabad', 'Mumbai', 'Pune'}"
      ]
     },
     "execution_count": 24,
     "metadata": {},
     "output_type": "execute_result"
    }
   ],
   "source": [
    "s3"
   ]
  },
  {
   "cell_type": "code",
   "execution_count": 25,
   "id": "bfea3c99-6a22-4a45-a1db-7cf5950ebd4d",
   "metadata": {},
   "outputs": [],
   "source": [
    "s3.discard(True)"
   ]
  },
  {
   "cell_type": "code",
   "execution_count": 26,
   "id": "e8536d3c-5d26-4eca-b440-718ac8e37bf5",
   "metadata": {},
   "outputs": [
    {
     "data": {
      "text/plain": [
       "{'Hydrabad', 'Mumbai', 'Pune'}"
      ]
     },
     "execution_count": 26,
     "metadata": {},
     "output_type": "execute_result"
    }
   ],
   "source": [
    "s3"
   ]
  },
  {
   "cell_type": "code",
   "execution_count": 27,
   "id": "4c8fae95-4880-497a-9dac-8656f2fd83a6",
   "metadata": {},
   "outputs": [
    {
     "name": "stdout",
     "output_type": "stream",
     "text": [
      "{'ABCD', 'EFGH', 'IJKL', 'Apurva'}\n",
      "{'Delhi', 'Pune', 'Mumbai'}\n",
      "{'Hydrabad', 'Pune', 'Mumbai'}\n"
     ]
    }
   ],
   "source": [
    "print(s1)\n",
    "print(s2)\n",
    "print(s3)"
   ]
  },
  {
   "cell_type": "code",
   "execution_count": 28,
   "id": "bc81f6ea-2c8a-4ca0-911b-39ceea11022d",
   "metadata": {},
   "outputs": [
    {
     "name": "stdout",
     "output_type": "stream",
     "text": [
      "ABCD\n",
      "EFGH\n",
      "IJKL\n",
      "Apurva\n"
     ]
    }
   ],
   "source": [
    "for i in s1:\n",
    "    print(i)"
   ]
  },
  {
   "cell_type": "code",
   "execution_count": 30,
   "id": "850fc16c-7333-451f-a20e-fe2b8e4786fd",
   "metadata": {},
   "outputs": [],
   "source": [
    "a={10,20,30,40}\n",
    "b={50,60,70}\n",
    "c={80,90}"
   ]
  },
  {
   "cell_type": "code",
   "execution_count": 31,
   "id": "8e5b4bff-d203-41d4-a67a-8fbbad366116",
   "metadata": {},
   "outputs": [
    {
     "data": {
      "text/plain": [
       "{10, 20, 30, 40, 50, 60, 70}"
      ]
     },
     "execution_count": 31,
     "metadata": {},
     "output_type": "execute_result"
    }
   ],
   "source": [
    "a.union(b)"
   ]
  },
  {
   "cell_type": "code",
   "execution_count": 32,
   "id": "c6fe85db-6d08-453f-97ee-c22c1251f8da",
   "metadata": {},
   "outputs": [
    {
     "data": {
      "text/plain": [
       "{10, 20, 30, 40, 50, 60, 70}"
      ]
     },
     "execution_count": 32,
     "metadata": {},
     "output_type": "execute_result"
    }
   ],
   "source": [
    "a|b"
   ]
  },
  {
   "cell_type": "code",
   "execution_count": 33,
   "id": "6592b4e2-7c73-4781-9857-bc879bde1938",
   "metadata": {},
   "outputs": [
    {
     "data": {
      "text/plain": [
       "{50, 60, 70, 80, 90}"
      ]
     },
     "execution_count": 33,
     "metadata": {},
     "output_type": "execute_result"
    }
   ],
   "source": [
    "b|c"
   ]
  },
  {
   "cell_type": "code",
   "execution_count": 34,
   "id": "8dd81164-2bf2-4948-906e-7dbc087cfb3b",
   "metadata": {},
   "outputs": [
    {
     "data": {
      "text/plain": [
       "{10, 20, 30, 40, 50, 60, 70, 80, 90}"
      ]
     },
     "execution_count": 34,
     "metadata": {},
     "output_type": "execute_result"
    }
   ],
   "source": [
    "a|b|c"
   ]
  },
  {
   "cell_type": "code",
   "execution_count": 35,
   "id": "3b834291-d3da-49b0-a3e6-77fa92c811c4",
   "metadata": {},
   "outputs": [
    {
     "name": "stdout",
     "output_type": "stream",
     "text": [
      "{40, 10, 20, 30}\n",
      "{50, 60, 70}\n",
      "{80, 90}\n"
     ]
    }
   ],
   "source": [
    "print(a)\n",
    "print(b)\n",
    "print(c)"
   ]
  },
  {
   "cell_type": "code",
   "execution_count": 36,
   "id": "052bb884-7b26-438b-b8da-4a5d083a2646",
   "metadata": {},
   "outputs": [
    {
     "data": {
      "text/plain": [
       "{10, 20, 30, 40}"
      ]
     },
     "execution_count": 36,
     "metadata": {},
     "output_type": "execute_result"
    }
   ],
   "source": [
    "a.difference(b)"
   ]
  },
  {
   "cell_type": "code",
   "execution_count": 37,
   "id": "d497601f-186e-4b70-a8b1-05bea5cbc15a",
   "metadata": {},
   "outputs": [
    {
     "data": {
      "text/plain": [
       "{10, 20, 30, 40}"
      ]
     },
     "execution_count": 37,
     "metadata": {},
     "output_type": "execute_result"
    }
   ],
   "source": [
    "a.difference(c)"
   ]
  },
  {
   "cell_type": "code",
   "execution_count": 38,
   "id": "a771a3ef-c482-483b-b544-a393b5b921dd",
   "metadata": {},
   "outputs": [
    {
     "data": {
      "text/plain": [
       "{80, 90}"
      ]
     },
     "execution_count": 38,
     "metadata": {},
     "output_type": "execute_result"
    }
   ],
   "source": [
    "c.difference(b)"
   ]
  },
  {
   "cell_type": "code",
   "execution_count": 39,
   "id": "b39789f5-342e-4418-9965-3ccf505272b8",
   "metadata": {},
   "outputs": [
    {
     "data": {
      "text/plain": [
       "set()"
      ]
     },
     "execution_count": 39,
     "metadata": {},
     "output_type": "execute_result"
    }
   ],
   "source": [
    "c.difference(c)"
   ]
  },
  {
   "cell_type": "code",
   "execution_count": null,
   "id": "d8cede74-8d0a-443f-a798-908b666320bb",
   "metadata": {},
   "outputs": [],
   "source": []
  }
 ],
 "metadata": {
  "kernelspec": {
   "display_name": "Python 3 (ipykernel)",
   "language": "python",
   "name": "python3"
  },
  "language_info": {
   "codemirror_mode": {
    "name": "ipython",
    "version": 3
   },
   "file_extension": ".py",
   "mimetype": "text/x-python",
   "name": "python",
   "nbconvert_exporter": "python",
   "pygments_lexer": "ipython3",
   "version": "3.12.7"
  }
 },
 "nbformat": 4,
 "nbformat_minor": 5
}
