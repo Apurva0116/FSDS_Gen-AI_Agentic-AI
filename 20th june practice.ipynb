{
 "cells": [
  {
   "cell_type": "code",
   "execution_count": 4,
   "id": "a5465707-79a8-4ae2-8853-6e5799d62ef7",
   "metadata": {},
   "outputs": [
    {
     "name": "stdout",
     "output_type": "stream",
     "text": [
      "['False', 'None', 'True', 'and', 'as', 'assert', 'async', 'await', 'break', 'class', 'continue', 'def', 'del', 'elif', 'else', 'except', 'finally', 'for', 'from', 'global', 'if', 'import', 'in', 'is', 'lambda', 'nonlocal', 'not', 'or', 'pass', 'raise', 'return', 'try', 'while', 'with', 'yield']\n"
     ]
    }
   ],
   "source": [
    "import keyword\n",
    "print(keyword.kwlist)"
   ]
  },
  {
   "cell_type": "code",
   "execution_count": null,
   "id": "640db541-2297-4c42-b153-4a1fee7d0079",
   "metadata": {},
   "outputs": [],
   "source": [
    "##Keyword"
   ]
  },
  {
   "cell_type": "code",
   "execution_count": 5,
   "id": "31fe95da-fdba-4cde-9d70-0775bd846bc8",
   "metadata": {},
   "outputs": [
    {
     "data": {
      "text/plain": [
       "35"
      ]
     },
     "execution_count": 5,
     "metadata": {},
     "output_type": "execute_result"
    }
   ],
   "source": [
    "len(keyword.kwlist)"
   ]
  },
  {
   "cell_type": "code",
   "execution_count": null,
   "id": "79288cdb-a44d-487d-a61e-407bfaac534e",
   "metadata": {},
   "outputs": [],
   "source": [
    "##Statements"
   ]
  },
  {
   "cell_type": "code",
   "execution_count": 7,
   "id": "ec3bac7e-f606-4fa9-bd78-9d370857d3bd",
   "metadata": {},
   "outputs": [
    {
     "data": {
      "text/plain": [
       "(20, int, '0x7ffbec072c18')"
      ]
     },
     "execution_count": 7,
     "metadata": {},
     "output_type": "execute_result"
    }
   ],
   "source": [
    "p=20\n",
    "q=20\n",
    "r=q\n",
    "p, type(p), hex(id(p))"
   ]
  },
  {
   "cell_type": "code",
   "execution_count": 8,
   "id": "9d5c50da-496a-40fd-a885-9cb708f32d09",
   "metadata": {},
   "outputs": [
    {
     "data": {
      "text/plain": [
       "(20, int, '0x7ffbec072c18')"
      ]
     },
     "execution_count": 8,
     "metadata": {},
     "output_type": "execute_result"
    }
   ],
   "source": [
    "q , type(q), hex(id(q))"
   ]
  },
  {
   "cell_type": "code",
   "execution_count": 9,
   "id": "8f4caec0-93a5-4360-bbe4-25b68bb7307a",
   "metadata": {},
   "outputs": [
    {
     "data": {
      "text/plain": [
       "(20, int, '0x7ffbec072c18')"
      ]
     },
     "execution_count": 9,
     "metadata": {},
     "output_type": "execute_result"
    }
   ],
   "source": [
    "r , type(r), hex(id(r))"
   ]
  },
  {
   "cell_type": "code",
   "execution_count": 10,
   "id": "aff653ae-d706-4ab0-ace1-09330ce9af94",
   "metadata": {},
   "outputs": [
    {
     "data": {
      "text/plain": [
       "30"
      ]
     },
     "execution_count": 10,
     "metadata": {},
     "output_type": "execute_result"
    }
   ],
   "source": [
    "p=20\n",
    "p=p+10\n",
    "p"
   ]
  },
  {
   "cell_type": "code",
   "execution_count": null,
   "id": "f482d843-5f92-41ea-a7b2-2d00f9db14b8",
   "metadata": {},
   "outputs": [],
   "source": [
    "##Variable Assignment"
   ]
  },
  {
   "cell_type": "code",
   "execution_count": 11,
   "id": "fb4c09dd-e73b-456d-8f48-dbb4db7a91af",
   "metadata": {},
   "outputs": [
    {
     "name": "stdout",
     "output_type": "stream",
     "text": [
      "10\n",
      "2.57\n",
      "Python Language\n"
     ]
    }
   ],
   "source": [
    "intvar = 10\n",
    "floatvar = 2.57\n",
    "strvar = \"Python Language\"\n",
    "\n",
    "print(intvar)\n",
    "print(floatvar)\n",
    "print(strvar)"
   ]
  },
  {
   "cell_type": "code",
   "execution_count": null,
   "id": "c9ac783b-50c7-4eae-b4e0-9368952ef694",
   "metadata": {},
   "outputs": [],
   "source": [
    "##Multiple Assignment"
   ]
  },
  {
   "cell_type": "code",
   "execution_count": 12,
   "id": "1cf1cfbb-0092-424f-a65e-b20af22227dd",
   "metadata": {},
   "outputs": [
    {
     "name": "stdout",
     "output_type": "stream",
     "text": [
      "10\n",
      "2.57\n",
      "Python Language\n"
     ]
    }
   ],
   "source": [
    "intvar , floatvar , strvar = 10,2.57,\"Python Language\"\n",
    "print(intvar)\n",
    "print(floatvar) \n",
    "print(strvar)"
   ]
  },
  {
   "cell_type": "code",
   "execution_count": 13,
   "id": "4c491d4b-570e-45a6-97a3-1f6fe82a4e61",
   "metadata": {},
   "outputs": [
    {
     "name": "stdout",
     "output_type": "stream",
     "text": [
      "44 44 44 44\n"
     ]
    }
   ],
   "source": [
    "p1 = p2 = p3 = p4 = 44\n",
    "print(p1,p2,p3,p4)"
   ]
  },
  {
   "cell_type": "code",
   "execution_count": 5,
   "id": "08215623-bd72-45e2-91e2-40bcc70760e4",
   "metadata": {},
   "outputs": [
    {
     "name": "stdout",
     "output_type": "stream",
     "text": [
      "10\n",
      "<class 'int'>\n",
      "10  is Integer? True\n"
     ]
    }
   ],
   "source": [
    "val1=10 \n",
    "print(val1)\n",
    "print(type(val1)) \n",
    "print(val1, \" is Integer?\", isinstance(val1, int))"
   ]
  },
  {
   "cell_type": "code",
   "execution_count": 7,
   "id": "1feb1697-6b97-457f-9383-6cbdedee2591",
   "metadata": {},
   "outputs": [
    {
     "name": "stdout",
     "output_type": "stream",
     "text": [
      "92.78\n",
      "<class 'float'>\n",
      "92.78  is float? True\n"
     ]
    }
   ],
   "source": [
    "val2 = 92.78 \n",
    "print(val2)\n",
    "print(type(val2))  \n",
    "print(val2, \" is float?\", isinstance(val2, float))"
   ]
  },
  {
   "cell_type": "code",
   "execution_count": 9,
   "id": "2976d6d7-0fc1-4edf-bab5-75960a650e27",
   "metadata": {},
   "outputs": [
    {
     "name": "stdout",
     "output_type": "stream",
     "text": [
      "(25+10j)\n",
      "<class 'complex'>\n",
      "(25+10j)  is complex? True\n"
     ]
    }
   ],
   "source": [
    "val3 = 25 + 10j \n",
    "print(val3)\n",
    "print(type(val3)) \n",
    "print(val3, \" is complex?\", isinstance(val3, complex))"
   ]
  },
  {
   "cell_type": "code",
   "execution_count": null,
   "id": "2c990796-e685-4d57-865c-598a9abcbc83",
   "metadata": {},
   "outputs": [],
   "source": [
    "#Boolean"
   ]
  },
  {
   "cell_type": "code",
   "execution_count": null,
   "id": "5df42a73-987c-45d2-800b-8a00e24a4e8f",
   "metadata": {},
   "outputs": [],
   "source": [
    "bool = True"
   ]
  },
  {
   "cell_type": "code",
   "execution_count": 13,
   "id": "8e3c53bc-1618-4db6-963d-eea118fa3040",
   "metadata": {},
   "outputs": [],
   "source": [
    "bool = False"
   ]
  },
  {
   "cell_type": "code",
   "execution_count": 18,
   "id": "82d027d0-2027-4c32-bfc8-5a4374fd12b8",
   "metadata": {},
   "outputs": [
    {
     "name": "stdout",
     "output_type": "stream",
     "text": [
      "HELLO PYTHON\n"
     ]
    }
   ],
   "source": [
    "str1 = \"HELLO PYTHON\"\n",
    "print(str1)"
   ]
  },
  {
   "cell_type": "code",
   "execution_count": 21,
   "id": "f957c75a-e0d0-41dc-95f1-4541d1d2b755",
   "metadata": {},
   "outputs": [
    {
     "name": "stdout",
     "output_type": "stream",
     "text": [
      "Apurva\n"
     ]
    }
   ],
   "source": [
    "mystr = 'Apurva' # Define string using single quotes\n",
    "print(mystr)"
   ]
  },
  {
   "cell_type": "code",
   "execution_count": 22,
   "id": "4a337503-8ea8-457c-bb80-8340380889df",
   "metadata": {},
   "outputs": [
    {
     "name": "stdout",
     "output_type": "stream",
     "text": [
      "Apurva\n"
     ]
    }
   ],
   "source": [
    "mystr = \"Apurva\" # Define string using double quotes\n",
    "print(mystr)"
   ]
  },
  {
   "cell_type": "code",
   "execution_count": 23,
   "id": "fa2a62f7-42a9-4988-ac26-888721feeeee",
   "metadata": {},
   "outputs": [
    {
     "name": "stdout",
     "output_type": "stream",
     "text": [
      "Hello\n",
      "Apurva\n"
     ]
    }
   ],
   "source": [
    "mystr = '''Hello\n",
    "Apurva''' # Define string using triple quotes\n",
    "print(mystr)"
   ]
  },
  {
   "cell_type": "code",
   "execution_count": 24,
   "id": "08928fbf-d4e3-4f44-bc1a-dd05cfe086e0",
   "metadata": {},
   "outputs": [
    {
     "name": "stdout",
     "output_type": "stream",
     "text": [
      "Happy Monday Everyone\n"
     ]
    }
   ],
   "source": [
    "mystr = ('Happy '\n",
    "'Monday ' 'Everyone')\n",
    "print(mystr)"
   ]
  },
  {
   "cell_type": "code",
   "execution_count": 17,
   "id": "246afc37-c151-4281-8a71-1b67d65cb6fe",
   "metadata": {},
   "outputs": [
    {
     "data": {
      "text/plain": [
       "'hieeeeee hieeeeee hieeeeee hieeeeee hieeeeee '"
      ]
     },
     "execution_count": 17,
     "metadata": {},
     "output_type": "execute_result"
    }
   ],
   "source": [
    "mystr2='hieeeeee ' \n",
    "mystr2=mystr2*5 \n",
    "mystr2"
   ]
  },
  {
   "cell_type": "code",
   "execution_count": 18,
   "id": "577b8cb9-79e0-402f-b668-1e7ed072e5c4",
   "metadata": {},
   "outputs": [
    {
     "data": {
      "text/plain": [
       "45"
      ]
     },
     "execution_count": 18,
     "metadata": {},
     "output_type": "execute_result"
    }
   ],
   "source": [
    "len(mystr2)"
   ]
  },
  {
   "cell_type": "code",
   "execution_count": null,
   "id": "7b9664ad-1357-474c-b5a5-c00e38253a68",
   "metadata": {},
   "outputs": [],
   "source": [
    "#String Indexing"
   ]
  },
  {
   "cell_type": "code",
   "execution_count": 20,
   "id": "36c9a698-22be-4e57-bdd9-89774d3a3580",
   "metadata": {},
   "outputs": [
    {
     "data": {
      "text/plain": [
       "'HELLO PYTHON'"
      ]
     },
     "execution_count": 20,
     "metadata": {},
     "output_type": "execute_result"
    }
   ],
   "source": [
    "str1"
   ]
  },
  {
   "cell_type": "code",
   "execution_count": 21,
   "id": "4e4ffc57-bb23-4f68-86a5-ad32f0301c56",
   "metadata": {},
   "outputs": [
    {
     "data": {
      "text/plain": [
       "'H'"
      ]
     },
     "execution_count": 21,
     "metadata": {},
     "output_type": "execute_result"
    }
   ],
   "source": [
    "str1[0]"
   ]
  },
  {
   "cell_type": "code",
   "execution_count": 22,
   "id": "707983c1-46db-4a4e-b732-4ed8c226c8c3",
   "metadata": {},
   "outputs": [
    {
     "data": {
      "text/plain": [
       "'N'"
      ]
     },
     "execution_count": 22,
     "metadata": {},
     "output_type": "execute_result"
    }
   ],
   "source": [
    "str1[len(str1)-1]"
   ]
  },
  {
   "cell_type": "code",
   "execution_count": 23,
   "id": "6c3bb079-bd2b-4dbb-bafa-21579009e314",
   "metadata": {},
   "outputs": [
    {
     "data": {
      "text/plain": [
       "'N'"
      ]
     },
     "execution_count": 23,
     "metadata": {},
     "output_type": "execute_result"
    }
   ],
   "source": [
    "str1[-1]"
   ]
  },
  {
   "cell_type": "code",
   "execution_count": 24,
   "id": "c7f82b99-d4d6-4758-9ff0-121986cd1dba",
   "metadata": {},
   "outputs": [
    {
     "data": {
      "text/plain": [
       "'P'"
      ]
     },
     "execution_count": 24,
     "metadata": {},
     "output_type": "execute_result"
    }
   ],
   "source": [
    "str1[6]"
   ]
  },
  {
   "cell_type": "code",
   "execution_count": 25,
   "id": "1bdb3cd8-addb-4e14-b060-29f69a6a680e",
   "metadata": {},
   "outputs": [
    {
     "data": {
      "text/plain": [
       "' '"
      ]
     },
     "execution_count": 25,
     "metadata": {},
     "output_type": "execute_result"
    }
   ],
   "source": [
    "str1[5]"
   ]
  },
  {
   "cell_type": "code",
   "execution_count": null,
   "id": "768a1ab0-b0c9-4afb-836c-44e13870c1c6",
   "metadata": {},
   "outputs": [],
   "source": [
    "#String Slicing"
   ]
  },
  {
   "cell_type": "code",
   "execution_count": 26,
   "id": "2d193dc3-d0a9-4b21-8804-ddbe2ec815d7",
   "metadata": {},
   "outputs": [
    {
     "data": {
      "text/plain": [
       "'HELLO'"
      ]
     },
     "execution_count": 26,
     "metadata": {},
     "output_type": "execute_result"
    }
   ],
   "source": [
    "str1[0:5]"
   ]
  },
  {
   "cell_type": "code",
   "execution_count": 27,
   "id": "bad7afad-94c6-4aaf-b738-c65d3dc79f5e",
   "metadata": {},
   "outputs": [
    {
     "data": {
      "text/plain": [
       "'PYTHON'"
      ]
     },
     "execution_count": 27,
     "metadata": {},
     "output_type": "execute_result"
    }
   ],
   "source": [
    "str1[6:12]"
   ]
  },
  {
   "cell_type": "code",
   "execution_count": 28,
   "id": "73097934-0f89-4c9a-8623-484d19ead450",
   "metadata": {},
   "outputs": [
    {
     "data": {
      "text/plain": [
       "'THON'"
      ]
     },
     "execution_count": 28,
     "metadata": {},
     "output_type": "execute_result"
    }
   ],
   "source": [
    "str1[-4:]"
   ]
  },
  {
   "cell_type": "code",
   "execution_count": 29,
   "id": "5e07a9b5-cdbc-4b35-924c-c66156ec0cf0",
   "metadata": {},
   "outputs": [
    {
     "data": {
      "text/plain": [
       "'PYTHON'"
      ]
     },
     "execution_count": 29,
     "metadata": {},
     "output_type": "execute_result"
    }
   ],
   "source": [
    "str1[-6:]"
   ]
  },
  {
   "cell_type": "code",
   "execution_count": 30,
   "id": "b422d57f-daf2-4b53-855c-229be0ef1670",
   "metadata": {},
   "outputs": [
    {
     "data": {
      "text/plain": [
       "'HELL'"
      ]
     },
     "execution_count": 30,
     "metadata": {},
     "output_type": "execute_result"
    }
   ],
   "source": [
    "str1[:4]"
   ]
  },
  {
   "cell_type": "code",
   "execution_count": 31,
   "id": "e9af0d6b-9c01-43db-a2a1-4964a2d2c115",
   "metadata": {},
   "outputs": [
    {
     "data": {
      "text/plain": [
       "'HELLO '"
      ]
     },
     "execution_count": 31,
     "metadata": {},
     "output_type": "execute_result"
    }
   ],
   "source": [
    "str1[:6]"
   ]
  },
  {
   "cell_type": "code",
   "execution_count": null,
   "id": "7e305fc6-afa6-4282-b878-f7f67c9aa51f",
   "metadata": {},
   "outputs": [],
   "source": [
    "#Update & Delete String"
   ]
  },
  {
   "cell_type": "code",
   "execution_count": 32,
   "id": "c9ce9ef0-3bc4-4225-9ed6-0997aaf92b32",
   "metadata": {},
   "outputs": [
    {
     "data": {
      "text/plain": [
       "'HELLO PYTHON'"
      ]
     },
     "execution_count": 32,
     "metadata": {},
     "output_type": "execute_result"
    }
   ],
   "source": [
    "str1"
   ]
  },
  {
   "cell_type": "code",
   "execution_count": 33,
   "id": "3bf83468-058e-477a-8be7-fb2a6e36e0d3",
   "metadata": {},
   "outputs": [
    {
     "ename": "TypeError",
     "evalue": "'str' object does not support item assignment",
     "output_type": "error",
     "traceback": [
      "\u001b[1;31m---------------------------------------------------------------------------\u001b[0m",
      "\u001b[1;31mTypeError\u001b[0m                                 Traceback (most recent call last)",
      "Cell \u001b[1;32mIn[33], line 1\u001b[0m\n\u001b[1;32m----> 1\u001b[0m str1[\u001b[38;5;241m0\u001b[39m:\u001b[38;5;241m5\u001b[39m] \u001b[38;5;241m=\u001b[39m \u001b[38;5;124m'\u001b[39m\u001b[38;5;124mHOLAA\u001b[39m\u001b[38;5;124m'\u001b[39m\n",
      "\u001b[1;31mTypeError\u001b[0m: 'str' object does not support item assignment"
     ]
    }
   ],
   "source": [
    "str1[0:5] = 'HOLAA'"
   ]
  },
  {
   "cell_type": "code",
   "execution_count": 34,
   "id": "e1bff949-190e-4ec4-9ba0-c9082ec2afcc",
   "metadata": {},
   "outputs": [
    {
     "ename": "NameError",
     "evalue": "name 'srt1' is not defined",
     "output_type": "error",
     "traceback": [
      "\u001b[1;31m---------------------------------------------------------------------------\u001b[0m",
      "\u001b[1;31mNameError\u001b[0m                                 Traceback (most recent call last)",
      "Cell \u001b[1;32mIn[34], line 2\u001b[0m\n\u001b[0;32m      1\u001b[0m \u001b[38;5;28;01mdel\u001b[39;00m str1 \u001b[38;5;66;03m# Delete a string\u001b[39;00m\n\u001b[1;32m----> 2\u001b[0m \u001b[38;5;28mprint\u001b[39m(srt1)\n",
      "\u001b[1;31mNameError\u001b[0m: name 'srt1' is not defined"
     ]
    }
   ],
   "source": [
    "del str1 \n",
    "print(srt1)"
   ]
  },
  {
   "cell_type": "code",
   "execution_count": null,
   "id": "3774d965-e41a-49c7-b5b5-f22ed7ddd730",
   "metadata": {},
   "outputs": [],
   "source": [
    "#String Concatination"
   ]
  },
  {
   "cell_type": "code",
   "execution_count": 35,
   "id": "4c9e2476-5e0d-4c38-a9bf-931fb48bac55",
   "metadata": {},
   "outputs": [
    {
     "name": "stdout",
     "output_type": "stream",
     "text": [
      "HelloApurva\n"
     ]
    }
   ],
   "source": [
    "s1 = \"Hello\" \n",
    "s2 = \"Apurva\" \n",
    "s3 = s1 + s2 \n",
    "print(s3)"
   ]
  },
  {
   "cell_type": "code",
   "execution_count": null,
   "id": "eec538d4-5c8b-46f9-842f-cb1924e40c77",
   "metadata": {},
   "outputs": [],
   "source": []
  }
 ],
 "metadata": {
  "kernelspec": {
   "display_name": "Python 3 (ipykernel)",
   "language": "python",
   "name": "python3"
  },
  "language_info": {
   "codemirror_mode": {
    "name": "ipython",
    "version": 3
   },
   "file_extension": ".py",
   "mimetype": "text/x-python",
   "name": "python",
   "nbconvert_exporter": "python",
   "pygments_lexer": "ipython3",
   "version": "3.12.7"
  }
 },
 "nbformat": 4,
 "nbformat_minor": 5
}
