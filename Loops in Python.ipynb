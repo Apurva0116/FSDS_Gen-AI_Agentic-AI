{
 "cells": [
  {
   "cell_type": "code",
   "execution_count": 1,
   "id": "60c15c7b-21a7-4f9b-a494-cf9656a97761",
   "metadata": {},
   "outputs": [
    {
     "name": "stdout",
     "output_type": "stream",
     "text": [
      "World is Beautiful\n",
      "World is Beautiful\n",
      "World is Beautiful\n",
      "World is Beautiful\n",
      "World is Beautiful\n"
     ]
    }
   ],
   "source": [
    "print('World is Beautiful')\n",
    "print('World is Beautiful')\n",
    "print('World is Beautiful')\n",
    "print('World is Beautiful')\n",
    "print('World is Beautiful')"
   ]
  },
  {
   "cell_type": "code",
   "execution_count": 2,
   "id": "e4b40ba0-adfa-4dcc-baa9-e31b47704ed2",
   "metadata": {},
   "outputs": [
    {
     "name": "stdout",
     "output_type": "stream",
     "text": [
      "World is Beautiful\n",
      "World is Beautiful\n",
      "World is Beautiful\n",
      "World is Beautiful\n",
      "World is Beautiful\n"
     ]
    }
   ],
   "source": [
    "i = 1         \n",
    "\n",
    "while i<=5:   \n",
    "    print('World is Beautiful')\n",
    "    i = i + 1  "
   ]
  },
  {
   "cell_type": "code",
   "execution_count": 3,
   "id": "a48bd355-7910-469c-80fe-c74843f95158",
   "metadata": {},
   "outputs": [
    {
     "name": "stdout",
     "output_type": "stream",
     "text": [
      "World is Beautiful\n",
      "World is Beautiful\n",
      "World is Beautiful\n",
      "World is Beautiful\n",
      "World is Beautiful\n"
     ]
    }
   ],
   "source": [
    "i = 5          \n",
    "\n",
    "while i>=1:   \n",
    "    print('World is Beautiful')\n",
    "    i = i - 1  "
   ]
  },
  {
   "cell_type": "code",
   "execution_count": 4,
   "id": "91c3ac52-2477-4b82-ba98-9e37808d46fa",
   "metadata": {},
   "outputs": [
    {
     "name": "stdout",
     "output_type": "stream",
     "text": [
      "World is Beautiful:  1\n",
      "World is Beautiful:  2\n",
      "World is Beautiful:  3\n",
      "World is Beautiful:  4\n",
      "World is Beautiful:  5\n",
      "World is Beautiful:  6\n"
     ]
    }
   ],
   "source": [
    "i = 1        \n",
    "while i<=6:    \n",
    "    print('World is Beautiful: ', i)\n",
    "    i = i + 1  "
   ]
  },
  {
   "cell_type": "code",
   "execution_count": 5,
   "id": "2715228a-e936-428c-9bb1-556a7e0ceee0",
   "metadata": {},
   "outputs": [
    {
     "name": "stdout",
     "output_type": "stream",
     "text": [
      "World is Beautiful : 6\n",
      "World is Beautiful : 5\n",
      "World is Beautiful : 4\n",
      "World is Beautiful : 3\n",
      "World is Beautiful : 2\n",
      "World is Beautiful : 1\n"
     ]
    }
   ],
   "source": [
    "i = 6         \n",
    "while i>=1:    \n",
    "    print('World is Beautiful :',i)\n",
    "    i = i - 1  "
   ]
  },
  {
   "cell_type": "code",
   "execution_count": 6,
   "id": "15c0974b-56e8-4198-beed-47a288a35f75",
   "metadata": {},
   "outputs": [
    {
     "name": "stdout",
     "output_type": "stream",
     "text": [
      "data science\n",
      "technology\n",
      "technology\n",
      "technology\n",
      "technology\n",
      "\n",
      "data science\n",
      "technology\n",
      "technology\n",
      "technology\n",
      "technology\n",
      "\n",
      "data science\n",
      "technology\n",
      "technology\n",
      "technology\n",
      "technology\n",
      "\n",
      "data science\n",
      "technology\n",
      "technology\n",
      "technology\n",
      "technology\n",
      "\n",
      "data science\n",
      "technology\n",
      "technology\n",
      "technology\n",
      "technology\n",
      "\n"
     ]
    }
   ],
   "source": [
    "i = 1\n",
    "\n",
    "while i<=5:\n",
    "    print('data science') \n",
    "    j = 1\n",
    "    while j<=4:\n",
    "        print('technology')\n",
    "        j = j + 1\n",
    "        \n",
    "    i = i + 1\n",
    "    print()"
   ]
  },
  {
   "cell_type": "code",
   "execution_count": 7,
   "id": "80c2fbba-0b12-41b2-b3a6-46dd319e630c",
   "metadata": {},
   "outputs": [
    {
     "name": "stdout",
     "output_type": "stream",
     "text": [
      " datascience technology technology technology technology\n",
      " datascience technology technology technology technology\n",
      " datascience technology technology technology technology\n",
      " datascience technology technology technology technology\n",
      " datascience technology technology technology technology\n"
     ]
    }
   ],
   "source": [
    "i = 1\n",
    "while i<=5:\n",
    "    print(' datascience', end = \"\") # when we mention end then new line will not create\n",
    "    j = 1\n",
    "    while j<=4:\n",
    "        print(' technology', end=\"\")\n",
    "        j = j + 1\n",
    "        \n",
    "    i = i + 1\n",
    "    print()"
   ]
  },
  {
   "cell_type": "code",
   "execution_count": 8,
   "id": "ff9fbd11-45cd-4234-98ab-afc2298b51e4",
   "metadata": {},
   "outputs": [
    {
     "name": "stdout",
     "output_type": "stream",
     "text": [
      "0 1 2 \n",
      "0 2 4 \n"
     ]
    }
   ],
   "source": [
    "i = 1\n",
    "\n",
    "while i <= 2 :\n",
    "    j = 0\n",
    "    while  j <= 2 :\n",
    "        print(i*j, end=\" \")\n",
    "        j += 1\n",
    "    print()\n",
    "    i += 1"
   ]
  },
  {
   "cell_type": "code",
   "execution_count": 9,
   "id": "8212a525-20c3-4579-9821-be519c3d05ac",
   "metadata": {},
   "outputs": [
    {
     "name": "stdout",
     "output_type": "stream",
     "text": [
      "0 1 2 3 \n",
      "0 2 4 6 \n",
      "0 3 6 9 \n",
      "0 4 8 12 \n"
     ]
    }
   ],
   "source": [
    "i = 1\n",
    "while i <= 4 :\n",
    "    j = 0\n",
    "    while  j <= 3 :\n",
    "        print(i*j, end=\" \")\n",
    "        j += 1\n",
    "    print()\n",
    "    i += 1"
   ]
  },
  {
   "cell_type": "code",
   "execution_count": 10,
   "id": "54d0545a-4788-4876-b4e0-4132f98b7057",
   "metadata": {},
   "outputs": [
    {
     "name": "stdout",
     "output_type": "stream",
     "text": [
      "A\n",
      "p\n",
      "u\n",
      "r\n",
      "v\n",
      "a\n"
     ]
    }
   ],
   "source": [
    "name = 'Apurva'\n",
    "\n",
    "for i in name:\n",
    "    print(i)"
   ]
  },
  {
   "cell_type": "code",
   "execution_count": 11,
   "id": "dd05c767-8957-4c95-a5bd-44fd9e04d29b",
   "metadata": {},
   "outputs": [
    {
     "name": "stdout",
     "output_type": "stream",
     "text": [
      "1\n",
      "2.3\n",
      "Hieeee\n"
     ]
    }
   ],
   "source": [
    "name1 = [1,2.3,'Hieeee'] \n",
    "\n",
    "for i in name1:\n",
    "    print(i)"
   ]
  },
  {
   "cell_type": "code",
   "execution_count": 12,
   "id": "da15f0f2-d860-4bf6-9f75-2f9bf09b421d",
   "metadata": {},
   "outputs": [
    {
     "name": "stdout",
     "output_type": "stream",
     "text": [
      "2\n",
      "3\n",
      "7.8\n",
      "hieee\n"
     ]
    }
   ],
   "source": [
    "for i in [2, 3, 7.8, 'hieee']:\n",
    "    print(i)"
   ]
  },
  {
   "cell_type": "code",
   "execution_count": 13,
   "id": "bde20865-d4c7-4bed-857a-ec55dbdc192c",
   "metadata": {},
   "outputs": [
    {
     "data": {
      "text/plain": [
       "range(0, 5)"
      ]
     },
     "execution_count": 13,
     "metadata": {},
     "output_type": "execute_result"
    }
   ],
   "source": [
    "range(5)"
   ]
  },
  {
   "cell_type": "code",
   "execution_count": 14,
   "id": "3171016d-879c-4173-bddb-954c2cdd5c24",
   "metadata": {},
   "outputs": [
    {
     "name": "stdout",
     "output_type": "stream",
     "text": [
      "0\n",
      "1\n",
      "2\n",
      "3\n",
      "4\n"
     ]
    }
   ],
   "source": [
    "for i in range(5):\n",
    "    print(i)"
   ]
  },
  {
   "cell_type": "code",
   "execution_count": 15,
   "id": "e3646ed3-9810-41cf-9b05-5a8b1f7072f2",
   "metadata": {},
   "outputs": [
    {
     "name": "stdout",
     "output_type": "stream",
     "text": [
      "2\n",
      "3\n",
      "4\n"
     ]
    }
   ],
   "source": [
    "for i in range(2,5):\n",
    "    print(i)"
   ]
  },
  {
   "cell_type": "code",
   "execution_count": 16,
   "id": "dfc238c3-2e05-4047-b481-fad67349d248",
   "metadata": {},
   "outputs": [
    {
     "name": "stdout",
     "output_type": "stream",
     "text": [
      "1\n",
      "4\n",
      "7\n"
     ]
    }
   ],
   "source": [
    "for i in range(1,10,3):\n",
    "    print(i)"
   ]
  },
  {
   "cell_type": "code",
   "execution_count": 17,
   "id": "77cf2265-87f1-4b80-9116-8f009e5d4671",
   "metadata": {},
   "outputs": [
    {
     "name": "stdout",
     "output_type": "stream",
     "text": [
      "1\n",
      "2\n",
      "3\n",
      "4\n",
      "5\n",
      "6\n",
      "7\n",
      "8\n",
      "9\n",
      "10\n",
      "11\n",
      "12\n",
      "13\n",
      "14\n",
      "15\n",
      "16\n",
      "17\n",
      "18\n",
      "19\n",
      "20\n"
     ]
    }
   ],
   "source": [
    "for i in range(1,21):\n",
    "    print(i)"
   ]
  },
  {
   "cell_type": "code",
   "execution_count": 18,
   "id": "e90f744d-1ad8-4476-8dfe-1b130543cfb0",
   "metadata": {},
   "outputs": [
    {
     "name": "stdout",
     "output_type": "stream",
     "text": [
      "5\n",
      "10\n",
      "15\n",
      "20\n",
      "25\n",
      "30\n",
      "35\n",
      "40\n",
      "45\n",
      "50\n"
     ]
    }
   ],
   "source": [
    "for i in range(1,51):\n",
    "    \n",
    "    if i%5==0 :\n",
    "        print(i)"
   ]
  },
  {
   "cell_type": "code",
   "execution_count": 19,
   "id": "9ff9f446-ec43-49d4-ba5f-b89b72bbc57b",
   "metadata": {},
   "outputs": [
    {
     "name": "stdout",
     "output_type": "stream",
     "text": [
      "1\n",
      "2\n",
      "3\n",
      "4\n",
      "6\n",
      "7\n",
      "8\n",
      "9\n",
      "11\n",
      "12\n",
      "13\n",
      "14\n",
      "16\n",
      "17\n",
      "18\n",
      "19\n",
      "21\n",
      "22\n",
      "23\n",
      "24\n",
      "26\n",
      "27\n",
      "28\n",
      "29\n",
      "31\n",
      "32\n",
      "33\n",
      "34\n",
      "36\n",
      "37\n",
      "38\n",
      "39\n",
      "41\n",
      "42\n",
      "43\n",
      "44\n",
      "46\n",
      "47\n",
      "48\n",
      "49\n"
     ]
    }
   ],
   "source": [
    "for i in range(1,51):\n",
    "    \n",
    "    if i%5!=0 :\n",
    "        print(i)"
   ]
  },
  {
   "cell_type": "code",
   "execution_count": 20,
   "id": "e61bf434-b4bb-489e-8126-a7fffbc96773",
   "metadata": {},
   "outputs": [
    {
     "name": "stdin",
     "output_type": "stream",
     "text": [
      "How many chocolates you want:? 4\n"
     ]
    },
    {
     "name": "stdout",
     "output_type": "stream",
     "text": [
      "chocolate\n",
      "chocolate\n",
      "chocolate\n",
      "chocolate\n"
     ]
    }
   ],
   "source": [
    "\n",
    "x = int(input('How many chocolates you want:?'))\n",
    "\n",
    "i = 1\n",
    "while i<=x:\n",
    "    print('chocolate')\n",
    "    i += 1"
   ]
  },
  {
   "cell_type": "code",
   "execution_count": 22,
   "id": "849a1c63-9ec7-44fc-acaa-28fb4c3ca217",
   "metadata": {},
   "outputs": [
    {
     "name": "stdin",
     "output_type": "stream",
     "text": [
      "How many chocolates you want:? 5\n"
     ]
    },
    {
     "name": "stdout",
     "output_type": "stream",
     "text": [
      "chocolates\n",
      "chocolates\n",
      "chocolates\n",
      "chocolates\n",
      "chocolates\n"
     ]
    }
   ],
   "source": [
    "ava = 5 # the machine has only 5 choclet \n",
    "\n",
    "x = int(input('How many chocolates you want:?'))\n",
    "\n",
    "i = 1\n",
    "while i<=x:\n",
    "    print('chocolates')\n",
    "    i += 1  "
   ]
  },
  {
   "cell_type": "code",
   "execution_count": 24,
   "id": "7494e86a-fa0b-42e8-8968-97a12b277022",
   "metadata": {},
   "outputs": [
    {
     "name": "stdin",
     "output_type": "stream",
     "text": [
      "How many chocolate user want:? 5\n"
     ]
    },
    {
     "name": "stdout",
     "output_type": "stream",
     "text": [
      "chocolatet\n",
      "chocolatet\n",
      "chocolatet\n",
      "chocolatet\n",
      "chocolatet\n",
      "bye for now\n"
     ]
    }
   ],
   "source": [
    "available_chocolate = 5\n",
    "\n",
    "x = int(input('How many chocolate user want:?'))\n",
    "\n",
    "i = 1\n",
    "while i<=x:\n",
    "    \n",
    "    if i>available_chocolate: \n",
    "        break \n",
    "    print('chocolatet')\n",
    "    i += 1   \n",
    "    \n",
    "print('bye for now')"
   ]
  },
  {
   "cell_type": "code",
   "execution_count": 26,
   "id": "1a312794-d38c-4ce3-97ef-6917cfea22d0",
   "metadata": {},
   "outputs": [
    {
     "name": "stdin",
     "output_type": "stream",
     "text": [
      "How many chocolate user want:? 6\n"
     ]
    },
    {
     "name": "stdout",
     "output_type": "stream",
     "text": [
      "chocolatet\n",
      "chocolatet\n",
      "chocolatet\n",
      "chocolatet\n",
      "chocolatet\n",
      "Out of Stock\n",
      "bye for now\n"
     ]
    }
   ],
   "source": [
    "available_chocolate = 5\n",
    "\n",
    "x = int(input('How many chocolate user want:?'))\n",
    "\n",
    "i = 1\n",
    "while i<=x:\n",
    "    \n",
    "    if i>available_chocolate: \n",
    "       print('Out of Stock')\n",
    "       break\n",
    "    print('chocolatet')\n",
    "    i += 1   \n",
    "    \n",
    "print('bye for now')"
   ]
  },
  {
   "cell_type": "code",
   "execution_count": 27,
   "id": "ae1ccab2-0a5f-4086-8cec-6d6cb0325ad2",
   "metadata": {},
   "outputs": [
    {
     "name": "stdout",
     "output_type": "stream",
     "text": [
      "1\n",
      "2\n",
      "3\n",
      "4\n",
      "5\n",
      "6\n",
      "7\n",
      "8\n",
      "9\n",
      "10\n"
     ]
    }
   ],
   "source": [
    "for i in range(1,11):\n",
    "    print(i)"
   ]
  },
  {
   "cell_type": "code",
   "execution_count": 28,
   "id": "71b82606-19d0-497d-a265-aba1d9cb3147",
   "metadata": {},
   "outputs": [
    {
     "name": "stdout",
     "output_type": "stream",
     "text": [
      "1\n",
      "2\n",
      "3\n",
      "4\n",
      "5\n"
     ]
    }
   ],
   "source": [
    "for i in range(1,11):\n",
    "    if i == 6:\n",
    "       break \n",
    "    print(i)"
   ]
  },
  {
   "cell_type": "code",
   "execution_count": 29,
   "id": "447e99d1-0e0e-4f55-a385-0284e2c848e6",
   "metadata": {},
   "outputs": [
    {
     "name": "stdout",
     "output_type": "stream",
     "text": [
      "1\n",
      "2\n",
      "4\n",
      "5\n",
      "6\n",
      "7\n",
      "8\n",
      "9\n",
      "10\n"
     ]
    }
   ],
   "source": [
    "for i in range(1,11):\n",
    "    if i == 3:\n",
    "        continue \n",
    "    print(i)"
   ]
  },
  {
   "cell_type": "code",
   "execution_count": 31,
   "id": "f2dad988-6848-4002-9a76-67620a5c6c80",
   "metadata": {},
   "outputs": [
    {
     "name": "stdout",
     "output_type": "stream",
     "text": [
      "Hieeee : 1\n",
      "Hieeee : 2\n",
      "Hieeee : 3\n",
      "Hieeee : 4\n",
      "Hieeee : 5\n",
      "Hieeee : 7\n",
      "Hieeee : 8\n",
      "Hieeee : 9\n",
      "Hieeee : 10\n"
     ]
    }
   ],
   "source": [
    "for i in range(1,11):\n",
    "    if i == 6:\n",
    "        continue  \n",
    "    print('Hieeee :',i)  "
   ]
  },
  {
   "cell_type": "code",
   "execution_count": 34,
   "id": "ec727505-1e97-4875-887d-3aa2a40e7457",
   "metadata": {},
   "outputs": [],
   "source": [
    "for i in range(1,11): \n",
    "    pass"
   ]
  },
  {
   "cell_type": "code",
   "execution_count": 35,
   "id": "7b96b804-dce5-45eb-b75a-b3b524b85bfe",
   "metadata": {},
   "outputs": [
    {
     "name": "stdout",
     "output_type": "stream",
     "text": [
      "3\n",
      "6\n",
      "9\n",
      "12\n",
      "15\n",
      "18\n",
      "21\n",
      "24\n",
      "27\n",
      "30\n",
      "33\n",
      "36\n",
      "39\n",
      "42\n",
      "45\n",
      "48\n",
      "end\n"
     ]
    }
   ],
   "source": [
    "for i in range(1,51):\n",
    "    \n",
    "    if i%3 == 0:\n",
    "    \n",
    "        print(i)\n",
    "print('end') "
   ]
  },
  {
   "cell_type": "code",
   "execution_count": 36,
   "id": "70a7cc8a-e212-4654-8983-871177e3ab72",
   "metadata": {},
   "outputs": [
    {
     "name": "stdout",
     "output_type": "stream",
     "text": [
      "1\n",
      "2\n",
      "4\n",
      "5\n",
      "7\n",
      "8\n",
      "10\n",
      "11\n",
      "13\n",
      "14\n",
      "16\n",
      "17\n",
      "19\n",
      "20\n",
      "22\n",
      "23\n",
      "25\n",
      "26\n",
      "28\n",
      "29\n",
      "31\n",
      "32\n",
      "34\n",
      "35\n",
      "37\n",
      "38\n",
      "40\n",
      "41\n",
      "43\n",
      "44\n",
      "46\n",
      "47\n",
      "49\n",
      "50\n",
      "end\n"
     ]
    }
   ],
   "source": [
    "for i in range(1,51):\n",
    "    \n",
    "    if i%3 == 0:\n",
    "        continue\n",
    "    print(i)\n",
    "print('end') "
   ]
  },
  {
   "cell_type": "code",
   "execution_count": 37,
   "id": "867bc991-e19b-4f77-a483-694d7bf33baf",
   "metadata": {},
   "outputs": [
    {
     "name": "stdout",
     "output_type": "stream",
     "text": [
      "1\n",
      "2\n",
      "4\n",
      "7\n",
      "8\n",
      "11\n",
      "13\n",
      "14\n",
      "16\n",
      "17\n",
      "19\n",
      "22\n",
      "23\n",
      "26\n",
      "28\n",
      "29\n",
      "31\n",
      "32\n",
      "34\n",
      "37\n",
      "38\n",
      "41\n",
      "43\n",
      "44\n",
      "46\n",
      "47\n",
      "49\n"
     ]
    }
   ],
   "source": [
    "for i in range(1,51):\n",
    "    \n",
    "    if i%3 == 0 or i%5 == 0:\n",
    "        continue\n",
    "    print(i)"
   ]
  },
  {
   "cell_type": "code",
   "execution_count": 38,
   "id": "fe6efbd1-23e8-45a1-aa11-5bdb26ce6e04",
   "metadata": {},
   "outputs": [
    {
     "name": "stdout",
     "output_type": "stream",
     "text": [
      "1\n",
      "2\n",
      "4\n",
      "7\n",
      "8\n",
      "11\n",
      "13\n",
      "14\n",
      "16\n",
      "17\n",
      "19\n",
      "22\n",
      "23\n",
      "26\n",
      "28\n",
      "29\n",
      "31\n",
      "32\n",
      "34\n",
      "37\n",
      "38\n",
      "41\n",
      "43\n",
      "44\n",
      "46\n",
      "47\n",
      "49\n",
      "end\n"
     ]
    }
   ],
   "source": [
    "for i in range(1,50):\n",
    "    if i%3 == 0 or i%5 == 0:\n",
    "        continue\n",
    "    print(i)\n",
    "print('end')"
   ]
  },
  {
   "cell_type": "code",
   "execution_count": 39,
   "id": "88601b1a-f1f3-4e74-8613-12ba849c269c",
   "metadata": {},
   "outputs": [
    {
     "name": "stdout",
     "output_type": "stream",
     "text": [
      "1\n",
      "3\n",
      "5\n",
      "7\n",
      "9\n",
      "11\n",
      "13\n",
      "15\n",
      "17\n",
      "19\n",
      "21\n",
      "23\n",
      "25\n",
      "27\n",
      "29\n",
      "31\n",
      "33\n",
      "35\n",
      "37\n",
      "39\n",
      "41\n",
      "43\n",
      "45\n",
      "47\n",
      "49\n",
      "bye\n"
     ]
    }
   ],
   "source": [
    "for i in range(1,51):\n",
    "    \n",
    "    if (i%2 == 0):\n",
    "        #print('even')\n",
    "        continue\n",
    "    else:\n",
    "        print(i)\n",
    "print('bye')"
   ]
  },
  {
   "cell_type": "code",
   "execution_count": 40,
   "id": "7178df3b-47c1-4927-bc74-2da78b04f39b",
   "metadata": {},
   "outputs": [],
   "source": [
    "## Printing Pattern in Python"
   ]
  },
  {
   "cell_type": "code",
   "execution_count": 41,
   "id": "de00db0f-75f9-4244-9021-19d06f0a584e",
   "metadata": {},
   "outputs": [
    {
     "name": "stdout",
     "output_type": "stream",
     "text": [
      "# # # #\n",
      "# # # #\n",
      "# # # #\n",
      "# # # #\n"
     ]
    }
   ],
   "source": [
    "print('# # # #')\n",
    "print('# # # #')\n",
    "print('# # # #')\n",
    "print('# # # #')"
   ]
  },
  {
   "cell_type": "code",
   "execution_count": 52,
   "id": "ed9d8eaf-598a-415f-8167-9b914cbe15c7",
   "metadata": {},
   "outputs": [
    {
     "name": "stdout",
     "output_type": "stream",
     "text": [
      "****\n",
      "****\n",
      "****\n",
      "****\n"
     ]
    }
   ],
   "source": [
    "for i in range(1,5):\n",
    "    i=i+1\n",
    "    print('****')"
   ]
  },
  {
   "cell_type": "code",
   "execution_count": 43,
   "id": "0eef0533-7ae0-44b8-b242-89d46811ee7d",
   "metadata": {},
   "outputs": [
    {
     "name": "stdout",
     "output_type": "stream",
     "text": [
      "# # # #\n",
      "# # # #\n",
      "# # # #\n",
      "# # # #\n"
     ]
    }
   ],
   "source": [
    "for i in range(1,5):\n",
    "    if i<=5:\n",
    "        print('# # # #')"
   ]
  },
  {
   "cell_type": "code",
   "execution_count": 44,
   "id": "25fd0613-e600-41dd-a10f-6bbd55a8e996",
   "metadata": {},
   "outputs": [
    {
     "name": "stdout",
     "output_type": "stream",
     "text": [
      "#\n",
      "#\n",
      "#\n",
      "#\n"
     ]
    }
   ],
   "source": [
    "for j in range(4):\n",
    "    print('#')"
   ]
  },
  {
   "cell_type": "code",
   "execution_count": 53,
   "id": "75a79e4e-85e5-4b5e-a209-ec8ec2dc26bd",
   "metadata": {},
   "outputs": [
    {
     "name": "stdout",
     "output_type": "stream",
     "text": [
      "* * * *\n",
      "* * * *\n",
      "* * * *\n",
      "* * * *\n"
     ]
    }
   ],
   "source": [
    "for j in range(4):\n",
    "    print('* * * *')"
   ]
  },
  {
   "cell_type": "code",
   "execution_count": 46,
   "id": "05fc00fb-309f-4a44-a8e5-6a05554802c5",
   "metadata": {},
   "outputs": [
    {
     "name": "stdout",
     "output_type": "stream",
     "text": [
      "# # # # "
     ]
    }
   ],
   "source": [
    "for j in range(4):\n",
    "    print('#', end = \" \")"
   ]
  },
  {
   "cell_type": "code",
   "execution_count": 47,
   "id": "de18d2ff-6ebf-44dd-a3d1-20ad17d87f4f",
   "metadata": {},
   "outputs": [
    {
     "name": "stdout",
     "output_type": "stream",
     "text": [
      "# # # # # # # # "
     ]
    }
   ],
   "source": [
    "for j in range(4):\n",
    "    print('#', end=\" \")\n",
    "\n",
    "for j in range(4):\n",
    "    print('#', end=\" \")"
   ]
  },
  {
   "cell_type": "code",
   "execution_count": 48,
   "id": "bff31995-68dc-47e3-b926-8a11883074f1",
   "metadata": {},
   "outputs": [
    {
     "name": "stdout",
     "output_type": "stream",
     "text": [
      "# # # # \n",
      "# # # # "
     ]
    }
   ],
   "source": [
    "for j in range(4):\n",
    "    print('#', end=\" \")\n",
    "    \n",
    "print()\n",
    "    \n",
    "for j in range(4):\n",
    "    print('#', end=\" \")"
   ]
  },
  {
   "cell_type": "code",
   "execution_count": 49,
   "id": "b37c0452-5a03-4a54-9870-8a297a902460",
   "metadata": {},
   "outputs": [
    {
     "name": "stdout",
     "output_type": "stream",
     "text": [
      "#  #  #  #  \n",
      "#  #  #  #  \n",
      "#  #  #  #  \n",
      "#  #  #  #  "
     ]
    }
   ],
   "source": [
    "for j in range(4):\n",
    "    print('#', end=\"  \")\n",
    "    \n",
    "print()\n",
    "\n",
    "for j in range(4):\n",
    "    print('#', end=\"  \")\n",
    "\n",
    "print()\n",
    "\n",
    "for j in range(4):\n",
    "    print('#', end=\"  \")\n",
    "    \n",
    "print()\n",
    "\n",
    "for j in range(4):\n",
    "    print('#', end=\"  \")"
   ]
  },
  {
   "cell_type": "code",
   "execution_count": 50,
   "id": "ec1c49f7-eef9-4150-8183-e8a4be28436f",
   "metadata": {},
   "outputs": [
    {
     "name": "stdout",
     "output_type": "stream",
     "text": [
      "#  #  #  #  \n",
      "#  #  #  #  \n",
      "#  #  #  #  \n",
      "#  #  #  #  \n"
     ]
    }
   ],
   "source": [
    "for i in range(4):\n",
    "    for j in range(4):\n",
    "        print('#', end=\"  \")\n",
    "    print()"
   ]
  },
  {
   "cell_type": "code",
   "execution_count": 54,
   "id": "4affda35-b21d-4539-9bd6-29fdf26cae3c",
   "metadata": {},
   "outputs": [
    {
     "name": "stdout",
     "output_type": "stream",
     "text": [
      "* \n",
      "* * \n",
      "* * * \n",
      "* * * * \n"
     ]
    }
   ],
   "source": [
    "for i in range(4):\n",
    "    for j in range(i+1):\n",
    "        print('*', end = \" \")\n",
    "    print()"
   ]
  },
  {
   "cell_type": "code",
   "execution_count": 56,
   "id": "0ca6eff4-2c17-4dee-83cb-f0ba57cf2814",
   "metadata": {},
   "outputs": [
    {
     "name": "stdout",
     "output_type": "stream",
     "text": [
      "* \n",
      "* * \n",
      "* * * \n",
      "* * * * \n"
     ]
    }
   ],
   "source": [
    "for i in range(1,5):\n",
    "    print(\"* \"*i)"
   ]
  },
  {
   "cell_type": "code",
   "execution_count": 57,
   "id": "b4fc194e-ee19-4db5-aa1f-1112cc56a52a",
   "metadata": {},
   "outputs": [
    {
     "data": {
      "text/plain": [
       "[0, 1, 2, 3, 4]"
      ]
     },
     "execution_count": 57,
     "metadata": {},
     "output_type": "execute_result"
    }
   ],
   "source": [
    "list(range(5))"
   ]
  },
  {
   "cell_type": "code",
   "execution_count": 59,
   "id": "d5f6744c-44c7-4cee-9cd9-92aecdc14412",
   "metadata": {},
   "outputs": [
    {
     "name": "stdout",
     "output_type": "stream",
     "text": [
      "\n",
      "*  \n",
      "*  *  \n",
      "*  *  *  \n"
     ]
    }
   ],
   "source": [
    "for i in range(4):\n",
    "    for j in range(i):\n",
    "        print('*', end=\"  \")\n",
    "    print()"
   ]
  },
  {
   "cell_type": "code",
   "execution_count": 60,
   "id": "ad847951-ff45-4a92-b83c-13255c936161",
   "metadata": {},
   "outputs": [
    {
     "name": "stdout",
     "output_type": "stream",
     "text": [
      "#  #  #  #  \n",
      "#  #  #  \n",
      "#  #  \n",
      "#  \n"
     ]
    }
   ],
   "source": [
    "for i in range(4):\n",
    "    for j in range(4-i):\n",
    "        print('#', end=\"  \")\n",
    "    print()"
   ]
  },
  {
   "cell_type": "code",
   "execution_count": 61,
   "id": "0e86deb5-cd6c-457a-97bb-5d1cd692fe21",
   "metadata": {},
   "outputs": [
    {
     "name": "stdout",
     "output_type": "stream",
     "text": [
      "# # # # \n",
      "# # # \n",
      "# # \n",
      "# \n"
     ]
    }
   ],
   "source": [
    "for i in range(1,5):\n",
    "    print(\"# \"*(5-i))"
   ]
  },
  {
   "cell_type": "code",
   "execution_count": null,
   "id": "8eaf85e2-fd3d-4a06-8d34-31bd26d1a285",
   "metadata": {},
   "outputs": [],
   "source": []
  }
 ],
 "metadata": {
  "kernelspec": {
   "display_name": "Python 3 (ipykernel)",
   "language": "python",
   "name": "python3"
  },
  "language_info": {
   "codemirror_mode": {
    "name": "ipython",
    "version": 3
   },
   "file_extension": ".py",
   "mimetype": "text/x-python",
   "name": "python",
   "nbconvert_exporter": "python",
   "pygments_lexer": "ipython3",
   "version": "3.12.7"
  }
 },
 "nbformat": 4,
 "nbformat_minor": 5
}
