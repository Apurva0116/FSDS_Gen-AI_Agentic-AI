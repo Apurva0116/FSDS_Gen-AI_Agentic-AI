{
 "cells": [
  {
   "cell_type": "code",
   "execution_count": 1,
   "id": "62421529-824d-4ce4-b1c6-434dc6141032",
   "metadata": {},
   "outputs": [],
   "source": [
    "#Tuple Creation"
   ]
  },
  {
   "cell_type": "code",
   "execution_count": null,
   "id": "4aad0ff2-aeae-4c34-b374-4d90c17fd3ba",
   "metadata": {},
   "outputs": [],
   "source": [
    "tup1=()"
   ]
  },
  {
   "cell_type": "code",
   "execution_count": 2,
   "id": "1755088a-5a88-473c-8aad-5f259406c1bb",
   "metadata": {},
   "outputs": [],
   "source": [
    "tup2=(10,30,60)"
   ]
  },
  {
   "cell_type": "code",
   "execution_count": 3,
   "id": "746d7ef2-c217-435f-b551-07d7fe404f17",
   "metadata": {},
   "outputs": [],
   "source": [
    "tup3=(10.77,30.66,60.89)"
   ]
  },
  {
   "cell_type": "code",
   "execution_count": 4,
   "id": "d54fefaa-eeec-46ef-b699-b7c1bf51de9d",
   "metadata": {},
   "outputs": [],
   "source": [
    "tup4=('one','two',\"three\")"
   ]
  },
  {
   "cell_type": "code",
   "execution_count": 5,
   "id": "56747b6b-8c07-4e24-8046-f8baa1403a2c",
   "metadata": {},
   "outputs": [],
   "source": [
    "tup5=('Apurva', 23,(50,100),(150,90))"
   ]
  },
  {
   "cell_type": "code",
   "execution_count": 7,
   "id": "1f246da8-0064-4315-8dcb-9df403e37b96",
   "metadata": {},
   "outputs": [],
   "source": [
    "tup6=(100, 'Apurva', 17.765)"
   ]
  },
  {
   "cell_type": "code",
   "execution_count": 8,
   "id": "da5ec373-33ba-49b6-9f08-eb059e52a9dc",
   "metadata": {},
   "outputs": [],
   "source": [
    "tup7=('Apurva', 23 ,[50,100],[150,90], {'Apurva' , 'Gaware'},(99,22,33))"
   ]
  },
  {
   "cell_type": "code",
   "execution_count": 9,
   "id": "c2d4a7cd-800a-4289-9505-d258c892a70d",
   "metadata": {},
   "outputs": [
    {
     "data": {
      "text/plain": [
       "6"
      ]
     },
     "execution_count": 9,
     "metadata": {},
     "output_type": "execute_result"
    }
   ],
   "source": [
    "len(tup7)"
   ]
  },
  {
   "cell_type": "code",
   "execution_count": null,
   "id": "511eb8e8-42b4-4975-a57e-a2d90fc53e78",
   "metadata": {},
   "outputs": [],
   "source": [
    "#Tuple Indexing"
   ]
  },
  {
   "cell_type": "code",
   "execution_count": 10,
   "id": "8062e69c-1c5e-4d86-9bcb-a54c9af67c8e",
   "metadata": {},
   "outputs": [
    {
     "data": {
      "text/plain": [
       "10"
      ]
     },
     "execution_count": 10,
     "metadata": {},
     "output_type": "execute_result"
    }
   ],
   "source": [
    "tup2[0]"
   ]
  },
  {
   "cell_type": "code",
   "execution_count": 11,
   "id": "43bd8cb3-9870-49c8-93ec-81d85e0c5f39",
   "metadata": {},
   "outputs": [
    {
     "data": {
      "text/plain": [
       "'one'"
      ]
     },
     "execution_count": 11,
     "metadata": {},
     "output_type": "execute_result"
    }
   ],
   "source": [
    "tup4[0]"
   ]
  },
  {
   "cell_type": "code",
   "execution_count": 12,
   "id": "2b3c9920-184b-4f1b-a312-1085a7ff78c8",
   "metadata": {},
   "outputs": [
    {
     "data": {
      "text/plain": [
       "'o'"
      ]
     },
     "execution_count": 12,
     "metadata": {},
     "output_type": "execute_result"
    }
   ],
   "source": [
    "tup4[0][0]"
   ]
  },
  {
   "cell_type": "code",
   "execution_count": 13,
   "id": "32634179-6689-46c9-b588-000907c6828d",
   "metadata": {},
   "outputs": [
    {
     "data": {
      "text/plain": [
       "'three'"
      ]
     },
     "execution_count": 13,
     "metadata": {},
     "output_type": "execute_result"
    }
   ],
   "source": [
    "tup4[-1]"
   ]
  },
  {
   "cell_type": "code",
   "execution_count": 14,
   "id": "d02de457-0b9c-4d4e-9b63-e3b7083b8ed4",
   "metadata": {},
   "outputs": [
    {
     "data": {
      "text/plain": [
       "(150, 90)"
      ]
     },
     "execution_count": 14,
     "metadata": {},
     "output_type": "execute_result"
    }
   ],
   "source": [
    "tup5[-1]"
   ]
  },
  {
   "cell_type": "code",
   "execution_count": 15,
   "id": "9ba27982-81b1-4a9b-bff2-fb5d867bfee4",
   "metadata": {},
   "outputs": [],
   "source": [
    "#Tuple Slicing"
   ]
  },
  {
   "cell_type": "code",
   "execution_count": 16,
   "id": "43d39e0f-ccdd-4012-8352-2e45ef0a838f",
   "metadata": {},
   "outputs": [],
   "source": [
    "mytuple = ('one' , 'two' , 'three' , 'four' , 'five' , 'six' , 'seven' , 'eight')"
   ]
  },
  {
   "cell_type": "code",
   "execution_count": 17,
   "id": "58469bcf-e74d-4354-a73c-024bd6bca7e2",
   "metadata": {},
   "outputs": [
    {
     "data": {
      "text/plain": [
       "('one', 'two', 'three')"
      ]
     },
     "execution_count": 17,
     "metadata": {},
     "output_type": "execute_result"
    }
   ],
   "source": [
    "mytuple[0:3]"
   ]
  },
  {
   "cell_type": "code",
   "execution_count": 18,
   "id": "2682a66a-74be-42ff-bcab-6c940ff63a1d",
   "metadata": {},
   "outputs": [
    {
     "data": {
      "text/plain": [
       "('three', 'four', 'five')"
      ]
     },
     "execution_count": 18,
     "metadata": {},
     "output_type": "execute_result"
    }
   ],
   "source": [
    "mytuple[2:5]"
   ]
  },
  {
   "cell_type": "code",
   "execution_count": 19,
   "id": "36b490ed-1663-44f3-a039-bf6ef8337ca5",
   "metadata": {},
   "outputs": [
    {
     "data": {
      "text/plain": [
       "('one', 'two', 'three')"
      ]
     },
     "execution_count": 19,
     "metadata": {},
     "output_type": "execute_result"
    }
   ],
   "source": [
    "mytuple[:3]"
   ]
  },
  {
   "cell_type": "code",
   "execution_count": 20,
   "id": "9d1aa430-1377-48c9-a79e-62150c76351c",
   "metadata": {},
   "outputs": [
    {
     "data": {
      "text/plain": [
       "('one', 'two')"
      ]
     },
     "execution_count": 20,
     "metadata": {},
     "output_type": "execute_result"
    }
   ],
   "source": [
    "mytuple[:2]"
   ]
  },
  {
   "cell_type": "code",
   "execution_count": 21,
   "id": "bc2103a3-cac8-4759-91bb-b9ce889f615e",
   "metadata": {},
   "outputs": [
    {
     "data": {
      "text/plain": [
       "('six', 'seven', 'eight')"
      ]
     },
     "execution_count": 21,
     "metadata": {},
     "output_type": "execute_result"
    }
   ],
   "source": [
    "mytuple[-3:]"
   ]
  },
  {
   "cell_type": "code",
   "execution_count": 23,
   "id": "10a0a8f1-7ed3-437f-a819-70916be8db13",
   "metadata": {},
   "outputs": [
    {
     "data": {
      "text/plain": [
       "('seven', 'eight')"
      ]
     },
     "execution_count": 23,
     "metadata": {},
     "output_type": "execute_result"
    }
   ],
   "source": [
    "mytuple[-2:]"
   ]
  },
  {
   "cell_type": "code",
   "execution_count": 24,
   "id": "3a65657d-703a-403a-9ddd-3bd683819de1",
   "metadata": {},
   "outputs": [
    {
     "data": {
      "text/plain": [
       "'eight'"
      ]
     },
     "execution_count": 24,
     "metadata": {},
     "output_type": "execute_result"
    }
   ],
   "source": [
    "mytuple[-1]"
   ]
  },
  {
   "cell_type": "code",
   "execution_count": 25,
   "id": "096227d8-e4ab-41bb-81ef-ffd6de2f5124",
   "metadata": {},
   "outputs": [
    {
     "data": {
      "text/plain": [
       "('one', 'two', 'three', 'four', 'five', 'six', 'seven', 'eight')"
      ]
     },
     "execution_count": 25,
     "metadata": {},
     "output_type": "execute_result"
    }
   ],
   "source": [
    "mytuple[:]"
   ]
  },
  {
   "cell_type": "code",
   "execution_count": null,
   "id": "84f7b0a8-e4b2-4891-bab1-656a9dcf2e25",
   "metadata": {},
   "outputs": [],
   "source": [
    "#Remove & Change Items"
   ]
  },
  {
   "cell_type": "code",
   "execution_count": 26,
   "id": "2cff9c93-4774-4b26-a5cb-513cfa8431e3",
   "metadata": {},
   "outputs": [
    {
     "ename": "TypeError",
     "evalue": "'tuple' object doesn't support item deletion",
     "output_type": "error",
     "traceback": [
      "\u001b[1;31m---------------------------------------------------------------------------\u001b[0m",
      "\u001b[1;31mTypeError\u001b[0m                                 Traceback (most recent call last)",
      "Cell \u001b[1;32mIn[26], line 1\u001b[0m\n\u001b[1;32m----> 1\u001b[0m \u001b[38;5;28;01mdel\u001b[39;00m mytuple[\u001b[38;5;241m0\u001b[39m]\n",
      "\u001b[1;31mTypeError\u001b[0m: 'tuple' object doesn't support item deletion"
     ]
    }
   ],
   "source": [
    "del mytuple[0]"
   ]
  },
  {
   "cell_type": "code",
   "execution_count": 27,
   "id": "37f239a6-2ade-451e-aace-bc0b770a2476",
   "metadata": {},
   "outputs": [
    {
     "ename": "TypeError",
     "evalue": "'tuple' object does not support item assignment",
     "output_type": "error",
     "traceback": [
      "\u001b[1;31m---------------------------------------------------------------------------\u001b[0m",
      "\u001b[1;31mTypeError\u001b[0m                                 Traceback (most recent call last)",
      "Cell \u001b[1;32mIn[27], line 1\u001b[0m\n\u001b[1;32m----> 1\u001b[0m mytuple[\u001b[38;5;241m0\u001b[39m]\u001b[38;5;241m=\u001b[39m\u001b[38;5;241m1\u001b[39m\n",
      "\u001b[1;31mTypeError\u001b[0m: 'tuple' object does not support item assignment"
     ]
    }
   ],
   "source": [
    "mytuple[0]=1"
   ]
  },
  {
   "cell_type": "code",
   "execution_count": 36,
   "id": "dc46536e-66dc-4d40-9ff7-cd5f77afd79c",
   "metadata": {},
   "outputs": [],
   "source": [
    "#Loop through a tuple"
   ]
  },
  {
   "cell_type": "code",
   "execution_count": 37,
   "id": "91c1064f-16b8-4360-a3b8-201171b1d963",
   "metadata": {},
   "outputs": [],
   "source": [
    "mytuple = ('one' , 'two' , 'three' , 'four' , 'five' , 'six' , 'seven' , 'eight')"
   ]
  },
  {
   "cell_type": "code",
   "execution_count": 38,
   "id": "12de860f-6624-41e7-ba34-5cb85c1ef711",
   "metadata": {},
   "outputs": [
    {
     "name": "stdout",
     "output_type": "stream",
     "text": [
      "one\n",
      "two\n",
      "three\n",
      "four\n",
      "five\n",
      "six\n",
      "seven\n",
      "eight\n"
     ]
    }
   ],
   "source": [
    "for i in mytuple:\n",
    "    print(i)"
   ]
  },
  {
   "cell_type": "code",
   "execution_count": 40,
   "id": "10a75629-9482-4c7f-831c-fdd821ad5bad",
   "metadata": {},
   "outputs": [
    {
     "name": "stdout",
     "output_type": "stream",
     "text": [
      "(0, 'one')\n",
      "(1, 'two')\n",
      "(2, 'three')\n",
      "(3, 'four')\n",
      "(4, 'five')\n",
      "(5, 'six')\n",
      "(6, 'seven')\n",
      "(7, 'eight')\n"
     ]
    }
   ],
   "source": [
    "for i in enumerate(mytuple):\n",
    "    print(i)"
   ]
  },
  {
   "cell_type": "code",
   "execution_count": 41,
   "id": "8b98d099-c5d4-4eac-9a90-577511b05123",
   "metadata": {},
   "outputs": [],
   "source": [
    "# Tuple Membership"
   ]
  },
  {
   "cell_type": "code",
   "execution_count": 42,
   "id": "91618f71-0bae-41a2-89ca-7e69c471cd01",
   "metadata": {},
   "outputs": [
    {
     "data": {
      "text/plain": [
       "('one', 'two', 'three', 'four', 'five', 'six', 'seven', 'eight')"
      ]
     },
     "execution_count": 42,
     "metadata": {},
     "output_type": "execute_result"
    }
   ],
   "source": [
    "mytuple"
   ]
  },
  {
   "cell_type": "code",
   "execution_count": 43,
   "id": "695cfd3c-8462-4f59-9312-5032df40c2aa",
   "metadata": {},
   "outputs": [
    {
     "data": {
      "text/plain": [
       "True"
      ]
     },
     "execution_count": 43,
     "metadata": {},
     "output_type": "execute_result"
    }
   ],
   "source": [
    "'one' in mytuple"
   ]
  },
  {
   "cell_type": "code",
   "execution_count": 44,
   "id": "9fb2645a-8ff8-4291-8e91-d103cb2cd1b2",
   "metadata": {},
   "outputs": [
    {
     "data": {
      "text/plain": [
       "False"
      ]
     },
     "execution_count": 44,
     "metadata": {},
     "output_type": "execute_result"
    }
   ],
   "source": [
    "'ten' in mytuple"
   ]
  },
  {
   "cell_type": "code",
   "execution_count": 45,
   "id": "a9f03629-891d-41be-a723-ef8652cdb567",
   "metadata": {},
   "outputs": [
    {
     "name": "stdout",
     "output_type": "stream",
     "text": [
      "eleven is present in the tuple\n"
     ]
    }
   ],
   "source": [
    "if 'three' in mytuple:\n",
    "    print('eleven is present in the tuple')\n",
    "else:\n",
    "    print('eleven is not present in the tuple')"
   ]
  },
  {
   "cell_type": "code",
   "execution_count": 46,
   "id": "f0fb892d-8a52-478b-bd0c-db311558efe7",
   "metadata": {},
   "outputs": [],
   "source": [
    "# Index Position"
   ]
  },
  {
   "cell_type": "code",
   "execution_count": 47,
   "id": "08047049-656c-4b5f-bf9f-c20ae2c247d9",
   "metadata": {},
   "outputs": [
    {
     "data": {
      "text/plain": [
       "('one', 'two', 'three', 'four', 'five', 'six', 'seven', 'eight')"
      ]
     },
     "execution_count": 47,
     "metadata": {},
     "output_type": "execute_result"
    }
   ],
   "source": [
    "mytuple"
   ]
  },
  {
   "cell_type": "code",
   "execution_count": 48,
   "id": "dda3bc20-b1e8-4313-a038-0099bf9e06cd",
   "metadata": {},
   "outputs": [
    {
     "data": {
      "text/plain": [
       "0"
      ]
     },
     "execution_count": 48,
     "metadata": {},
     "output_type": "execute_result"
    }
   ],
   "source": [
    "mytuple.index('one')"
   ]
  },
  {
   "cell_type": "code",
   "execution_count": 50,
   "id": "ed755e3b-520c-48b0-945e-04626cf19d4d",
   "metadata": {},
   "outputs": [
    {
     "data": {
      "text/plain": [
       "4"
      ]
     },
     "execution_count": 50,
     "metadata": {},
     "output_type": "execute_result"
    }
   ],
   "source": [
    "mytuple.index('five')"
   ]
  },
  {
   "cell_type": "code",
   "execution_count": 52,
   "id": "3ff55f77-9d74-473c-a59b-4e8f52eb2c03",
   "metadata": {},
   "outputs": [],
   "source": [
    "mytuple2=(43,67,99,12,6,90,67)"
   ]
  },
  {
   "cell_type": "code",
   "execution_count": 53,
   "id": "20331b0b-48b8-42a4-b32f-5da7e0ffb958",
   "metadata": {},
   "outputs": [
    {
     "data": {
      "text/plain": [
       "[6, 12, 43, 67, 67, 90, 99]"
      ]
     },
     "execution_count": 53,
     "metadata": {},
     "output_type": "execute_result"
    }
   ],
   "source": [
    "sorted(mytuple2)"
   ]
  },
  {
   "cell_type": "code",
   "execution_count": 54,
   "id": "716c1a19-4456-4203-8c62-78f1898d9c02",
   "metadata": {},
   "outputs": [
    {
     "data": {
      "text/plain": [
       "[99, 90, 67, 67, 43, 12, 6]"
      ]
     },
     "execution_count": 54,
     "metadata": {},
     "output_type": "execute_result"
    }
   ],
   "source": [
    "sorted(mytuple2, reverse=True)"
   ]
  },
  {
   "cell_type": "code",
   "execution_count": null,
   "id": "ebba75d9-e13a-4e1d-a2d5-77d198b8a5ee",
   "metadata": {},
   "outputs": [],
   "source": []
  }
 ],
 "metadata": {
  "kernelspec": {
   "display_name": "Python 3 (ipykernel)",
   "language": "python",
   "name": "python3"
  },
  "language_info": {
   "codemirror_mode": {
    "name": "ipython",
    "version": 3
   },
   "file_extension": ".py",
   "mimetype": "text/x-python",
   "name": "python",
   "nbconvert_exporter": "python",
   "pygments_lexer": "ipython3",
   "version": "3.12.7"
  }
 },
 "nbformat": 4,
 "nbformat_minor": 5
}
