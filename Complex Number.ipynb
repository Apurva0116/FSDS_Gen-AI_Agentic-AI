{
 "cells": [
  {
   "cell_type": "code",
   "execution_count": 1,
   "id": "540fee2a-895e-4bb9-af51-3b78c2a9c7ac",
   "metadata": {},
   "outputs": [],
   "source": [
    "z=3+4j"
   ]
  },
  {
   "cell_type": "code",
   "execution_count": 3,
   "id": "30e568f1-23a0-4839-8f78-5aae719e00d6",
   "metadata": {},
   "outputs": [
    {
     "name": "stdout",
     "output_type": "stream",
     "text": [
      "3.0\n",
      "4.0\n"
     ]
    }
   ],
   "source": [
    "print(z.real)\n",
    "print(z.imag)"
   ]
  },
  {
   "cell_type": "code",
   "execution_count": 4,
   "id": "fad98e37-06c4-44d5-a358-dd43e7b105b5",
   "metadata": {},
   "outputs": [
    {
     "name": "stdout",
     "output_type": "stream",
     "text": [
      "(4+6j)\n",
      "(2+2j)\n",
      "(-5+10j)\n",
      "(2.2-0.4j)\n"
     ]
    }
   ],
   "source": [
    "a=3+4j\n",
    "b=1+2j\n",
    "print(a+b)\n",
    "print(a-b)\n",
    "print(a*b)\n",
    "print(a/b)"
   ]
  },
  {
   "cell_type": "code",
   "execution_count": 5,
   "id": "578e35f0-3b93-46ad-af2b-226e65043aed",
   "metadata": {},
   "outputs": [],
   "source": [
    "#Built-in Fuction"
   ]
  },
  {
   "cell_type": "code",
   "execution_count": 7,
   "id": "d98a5261-9ecc-4353-bb76-d1a08e93b353",
   "metadata": {},
   "outputs": [
    {
     "name": "stdout",
     "output_type": "stream",
     "text": [
      "5.0\n",
      "(3-4j)\n"
     ]
    }
   ],
   "source": [
    "z=3+4j\n",
    "print(abs(z))\n",
    "print(z.conjugate())"
   ]
  },
  {
   "cell_type": "code",
   "execution_count": null,
   "id": "c4d7b9d5-1432-4326-a236-7b4239b76a6b",
   "metadata": {},
   "outputs": [],
   "source": [
    "#Complex Number in the cmath Module"
   ]
  },
  {
   "cell_type": "code",
   "execution_count": 12,
   "id": "5351358e-1889-4b30-ba24-454470e73248",
   "metadata": {},
   "outputs": [
    {
     "name": "stdout",
     "output_type": "stream",
     "text": [
      "0.7853981633974483\n",
      "(1.4142135623730951, 0.7853981633974483)\n",
      "(1.09868411346781+0.45508986056222733j)\n"
     ]
    }
   ],
   "source": [
    "import cmath\n",
    "\n",
    "z = 1 + 1j\n",
    "print(cmath.phase(z))\n",
    "print(cmath.polar(z))\n",
    "print(cmath.sqrt(z))"
   ]
  },
  {
   "cell_type": "code",
   "execution_count": null,
   "id": "4d46ec75-3f1c-49f9-bf46-4d2cb3b941ab",
   "metadata": {},
   "outputs": [],
   "source": []
  }
 ],
 "metadata": {
  "kernelspec": {
   "display_name": "Python 3 (ipykernel)",
   "language": "python",
   "name": "python3"
  },
  "language_info": {
   "codemirror_mode": {
    "name": "ipython",
    "version": 3
   },
   "file_extension": ".py",
   "mimetype": "text/x-python",
   "name": "python",
   "nbconvert_exporter": "python",
   "pygments_lexer": "ipython3",
   "version": "3.12.7"
  }
 },
 "nbformat": 4,
 "nbformat_minor": 5
}
