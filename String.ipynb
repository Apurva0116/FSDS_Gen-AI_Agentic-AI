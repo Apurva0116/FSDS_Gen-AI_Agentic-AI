{
 "cells": [
  {
   "cell_type": "code",
   "execution_count": 1,
   "id": "f39f4689-2160-42de-87d7-885e709a7b78",
   "metadata": {},
   "outputs": [],
   "source": [
    "letter = 'P'"
   ]
  },
  {
   "cell_type": "code",
   "execution_count": 2,
   "id": "16a62ecb-0563-42b0-a6ab-fa59ccf9d04d",
   "metadata": {},
   "outputs": [
    {
     "name": "stdout",
     "output_type": "stream",
     "text": [
      "P\n",
      "1\n",
      "Hello, World!\n",
      "13\n",
      "I hope you are enjoying 30 days of python challenge\n"
     ]
    }
   ],
   "source": [
    "print(letter)               \n",
    "print(len(letter))          \n",
    "greeting = 'Hello, World!'  \n",
    "print(greeting)            \n",
    "print(len(greeting))        \n",
    "sentence = \"I hope you are enjoying 30 days of python challenge\"\n",
    "print(sentence)"
   ]
  },
  {
   "cell_type": "code",
   "execution_count": 3,
   "id": "3a25e6b6-b450-4af1-b8a4-83678d9594fe",
   "metadata": {},
   "outputs": [],
   "source": [
    "# Multiline String"
   ]
  },
  {
   "cell_type": "code",
   "execution_count": 4,
   "id": "f82773e9-973d-498a-aa07-53aec778a7a5",
   "metadata": {},
   "outputs": [
    {
     "name": "stdout",
     "output_type": "stream",
     "text": [
      "I am a teacher and enjoy teaching.\n",
      "I didn't find anything as rewarding as empowering people.\n",
      "That is why I created 30 days of python.\n"
     ]
    }
   ],
   "source": [
    "multiline_string = '''I am a teacher and enjoy teaching.\n",
    "I didn't find anything as rewarding as empowering people.\n",
    "That is why I created 30 days of python.'''\n",
    "print(multiline_string)"
   ]
  },
  {
   "cell_type": "code",
   "execution_count": null,
   "id": "6d62b5c6-b105-4036-a81a-ec524a715070",
   "metadata": {},
   "outputs": [],
   "source": [
    "# Another way of doing the same thing"
   ]
  },
  {
   "cell_type": "code",
   "execution_count": 5,
   "id": "7c042dde-9a76-47d2-8774-80ad2c3dcd9f",
   "metadata": {},
   "outputs": [
    {
     "name": "stdout",
     "output_type": "stream",
     "text": [
      "I am a teacher and enjoy teaching.\n",
      "I didn't find anything as rewarding as empowering people.\n",
      "That is why I created 30 days of python.\n"
     ]
    }
   ],
   "source": [
    "multiline_string = \"\"\"I am a teacher and enjoy teaching.\n",
    "I didn't find anything as rewarding as empowering people.\n",
    "That is why I created 30 days of python.\"\"\"\n",
    "print(multiline_string)"
   ]
  },
  {
   "cell_type": "code",
   "execution_count": null,
   "id": "214914fe-c0f4-447d-a8fa-fdca1e62bf0a",
   "metadata": {},
   "outputs": [],
   "source": [
    "# String Concatenation"
   ]
  },
  {
   "cell_type": "code",
   "execution_count": 6,
   "id": "d94ed238-9281-4d5b-9cd3-aeeffd8b3b97",
   "metadata": {},
   "outputs": [
    {
     "name": "stdout",
     "output_type": "stream",
     "text": [
      "Apurva Gaware\n"
     ]
    }
   ],
   "source": [
    "first_name = 'Apurva'\n",
    "last_name = 'Gaware'\n",
    "space = ' '\n",
    "full_name = first_name  +  space + last_name\n",
    "print(full_name) "
   ]
  },
  {
   "cell_type": "code",
   "execution_count": null,
   "id": "cc9e8ab0-d0b1-4e6c-bb3b-c6d5e4160c0e",
   "metadata": {},
   "outputs": [],
   "source": [
    "# Checking length of a string using len() builtin function"
   ]
  },
  {
   "cell_type": "code",
   "execution_count": 7,
   "id": "762cbfe0-6765-42b1-a8ca-1599d313dadb",
   "metadata": {},
   "outputs": [
    {
     "name": "stdout",
     "output_type": "stream",
     "text": [
      "6\n",
      "6\n",
      "False\n",
      "13\n"
     ]
    }
   ],
   "source": [
    "print(len(first_name))  \n",
    "print(len(last_name))   \n",
    "print(len(first_name) > len(last_name)) \n",
    "print(len(full_name)) "
   ]
  },
  {
   "cell_type": "code",
   "execution_count": 8,
   "id": "19c4fd39-0f59-4521-83af-818eb1605434",
   "metadata": {},
   "outputs": [],
   "source": [
    "#### Unpacking characters "
   ]
  },
  {
   "cell_type": "code",
   "execution_count": 9,
   "id": "8c41d9c5-433b-475b-934e-6c8946b16f7e",
   "metadata": {},
   "outputs": [
    {
     "name": "stdout",
     "output_type": "stream",
     "text": [
      "P\n",
      "y\n",
      "t\n",
      "h\n",
      "o\n",
      "n\n"
     ]
    }
   ],
   "source": [
    "language = 'Python'\n",
    "a,b,c,d,e,f = language\n",
    "print(a) \n",
    "print(b) \n",
    "print(c) \n",
    "print(d) \n",
    "print(e) \n",
    "print(f) "
   ]
  },
  {
   "cell_type": "code",
   "execution_count": 10,
   "id": "78a089ee-9548-4aee-9e2b-4c2e01a11c97",
   "metadata": {},
   "outputs": [],
   "source": [
    "# Accessing characters in strings by index"
   ]
  },
  {
   "cell_type": "code",
   "execution_count": 11,
   "id": "57a8b1be-5c27-43b6-9c63-2b329cdc448f",
   "metadata": {},
   "outputs": [
    {
     "name": "stdout",
     "output_type": "stream",
     "text": [
      "P\n",
      "y\n",
      "n\n"
     ]
    }
   ],
   "source": [
    "language = 'Python'\n",
    "first_letter = language[0]\n",
    "print(first_letter) \n",
    "second_letter = language[1]\n",
    "print(second_letter) \n",
    "last_index = len(language) - 1\n",
    "last_letter = language[last_index]\n",
    "print(last_letter) "
   ]
  },
  {
   "cell_type": "code",
   "execution_count": null,
   "id": "2c99f2dc-052e-41b5-9709-e2b8aeec2c3b",
   "metadata": {},
   "outputs": [],
   "source": [
    "# If we want to start from right end we can use negative indexing. -1 is the last index"
   ]
  },
  {
   "cell_type": "code",
   "execution_count": 12,
   "id": "e1d3a978-ed37-4731-a6ca-6c42c5c8ef3b",
   "metadata": {},
   "outputs": [
    {
     "name": "stdout",
     "output_type": "stream",
     "text": [
      "n\n",
      "o\n"
     ]
    }
   ],
   "source": [
    "language = 'Python'\n",
    "last_letter = language[-1]\n",
    "print(last_letter) \n",
    "second_last = language[-2]\n",
    "print(second_last) "
   ]
  },
  {
   "cell_type": "code",
   "execution_count": null,
   "id": "2336c4b7-213e-45f6-8591-66a77f428c8d",
   "metadata": {},
   "outputs": [],
   "source": [
    "# Slicing"
   ]
  },
  {
   "cell_type": "code",
   "execution_count": 13,
   "id": "4f67b89c-4ae0-4d1d-ae3e-40eb1d7d9d11",
   "metadata": {},
   "outputs": [
    {
     "name": "stdout",
     "output_type": "stream",
     "text": [
      "hon\n"
     ]
    }
   ],
   "source": [
    "language = 'Python'\n",
    "first_three = language[0:3] \n",
    "last_three = language[3:6]\n",
    "print(last_three) "
   ]
  },
  {
   "cell_type": "code",
   "execution_count": 14,
   "id": "bf939708-da7a-4ffb-9457-d703a8d80dfc",
   "metadata": {},
   "outputs": [],
   "source": [
    "#Another Way"
   ]
  },
  {
   "cell_type": "code",
   "execution_count": 15,
   "id": "6a70a273-b4a4-4cc5-8e99-ad5529ffe726",
   "metadata": {},
   "outputs": [
    {
     "name": "stdout",
     "output_type": "stream",
     "text": [
      "hon\n",
      "hon\n"
     ]
    }
   ],
   "source": [
    "last_three = language[-3:]\n",
    "print(last_three)   \n",
    "last_three = language[3:]\n",
    "print(last_three)   "
   ]
  },
  {
   "cell_type": "code",
   "execution_count": 16,
   "id": "423177d2-f71b-4db9-a3b5-b8033200dc42",
   "metadata": {},
   "outputs": [],
   "source": [
    "# Skipping character while splitting Python strings"
   ]
  },
  {
   "cell_type": "code",
   "execution_count": 17,
   "id": "886ee9e9-701e-49ce-832c-6468c1af667f",
   "metadata": {},
   "outputs": [
    {
     "name": "stdout",
     "output_type": "stream",
     "text": [
      "Pto\n"
     ]
    }
   ],
   "source": [
    "language = 'Python'\n",
    "pto = language[0:6:2] \n",
    "print(pto) "
   ]
  },
  {
   "cell_type": "code",
   "execution_count": 18,
   "id": "8001e20e-0c80-47b2-bc90-ec79f72551f7",
   "metadata": {},
   "outputs": [],
   "source": [
    "# Escape sequence"
   ]
  },
  {
   "cell_type": "code",
   "execution_count": 19,
   "id": "0686fbf6-a47e-4491-b68f-b5af939fec05",
   "metadata": {},
   "outputs": [
    {
     "name": "stdout",
     "output_type": "stream",
     "text": [
      "I hope every one enjoying the python challenge.\n",
      "Do you ?\n",
      "Days\tTopics\tExercises\n",
      "Day 1\t3\t5\n",
      "Day 2\t3\t5\n",
      "Day 3\t3\t5\n",
      "Day 4\t3\t5\n",
      "This is a back slash  symbol (\\)\n",
      "In every programming language it starts with \"Hello, World!\"\n"
     ]
    }
   ],
   "source": [
    "print('I hope every one enjoying the python challenge.\\nDo you ?') \n",
    "print('Days\\tTopics\\tExercises')\n",
    "print('Day 1\\t3\\t5')\n",
    "print('Day 2\\t3\\t5')\n",
    "print('Day 3\\t3\\t5')\n",
    "print('Day 4\\t3\\t5')\n",
    "print('This is a back slash  symbol (\\\\)') \n",
    "print('In every programming language it starts with \\\"Hello, World!\\\"')"
   ]
  },
  {
   "cell_type": "code",
   "execution_count": 20,
   "id": "ad7c799d-8639-47fd-8a9b-d7e798beae91",
   "metadata": {},
   "outputs": [],
   "source": [
    "## String Methods"
   ]
  },
  {
   "cell_type": "code",
   "execution_count": 21,
   "id": "8fb6be7b-3ac2-40a4-98e8-dc6577232e83",
   "metadata": {},
   "outputs": [],
   "source": [
    "# capitalize(): Converts the first character the string to Capital Letter"
   ]
  },
  {
   "cell_type": "code",
   "execution_count": 22,
   "id": "45b82704-dd53-4607-80b5-8402731697b4",
   "metadata": {},
   "outputs": [
    {
     "name": "stdout",
     "output_type": "stream",
     "text": [
      "Thirty days of python\n"
     ]
    }
   ],
   "source": [
    "challenge = 'thirty days of python'\n",
    "print(challenge.capitalize())"
   ]
  },
  {
   "cell_type": "code",
   "execution_count": 23,
   "id": "b0864c1d-4c08-4e92-971f-7a6525721a42",
   "metadata": {},
   "outputs": [],
   "source": [
    "# count(): returns occurrences of substring in string, count(substring, start=.., end=..)"
   ]
  },
  {
   "cell_type": "code",
   "execution_count": 24,
   "id": "571a7c41-d21f-45f9-91ef-4ac5c3fb752c",
   "metadata": {},
   "outputs": [
    {
     "name": "stdout",
     "output_type": "stream",
     "text": [
      "3\n",
      "1\n",
      "2\n"
     ]
    }
   ],
   "source": [
    "challenge = 'thirty days of python'\n",
    "print(challenge.count('y')) \n",
    "print(challenge.count('y', 7, 14)) \n",
    "print(challenge.count('th')) "
   ]
  },
  {
   "cell_type": "code",
   "execution_count": null,
   "id": "7c89f1c1-93fb-40a3-8813-6d0b16663338",
   "metadata": {},
   "outputs": [],
   "source": [
    "# endswith(): Checks if a string ends with a specified ending"
   ]
  },
  {
   "cell_type": "code",
   "execution_count": 25,
   "id": "a795baf9-653e-44ef-9540-3c23e2b91ffb",
   "metadata": {},
   "outputs": [
    {
     "name": "stdout",
     "output_type": "stream",
     "text": [
      "True\n",
      "False\n"
     ]
    }
   ],
   "source": [
    "challenge = 'thirty days of python'\n",
    "print(challenge.endswith('on'))   \n",
    "print(challenge.endswith('tion')) "
   ]
  },
  {
   "cell_type": "code",
   "execution_count": null,
   "id": "86e71a40-e298-4d7b-87c5-c7f6c5eab280",
   "metadata": {},
   "outputs": [],
   "source": [
    "# expandtabs(): Replaces tab character with spaces, default tab size is 8. It takes tab size argument"
   ]
  },
  {
   "cell_type": "code",
   "execution_count": 26,
   "id": "37eeb2ed-2458-4018-9a92-683d16dde281",
   "metadata": {},
   "outputs": [
    {
     "name": "stdout",
     "output_type": "stream",
     "text": [
      "thirty  days    of      python\n",
      "thirty    days      of        python\n"
     ]
    }
   ],
   "source": [
    "challenge = 'thirty\\tdays\\tof\\tpython'\n",
    "print(challenge.expandtabs())   \n",
    "print(challenge.expandtabs(10)) "
   ]
  },
  {
   "cell_type": "code",
   "execution_count": null,
   "id": "c1913e78-1d0e-4be1-bd4b-fefeeefa44f3",
   "metadata": {},
   "outputs": [],
   "source": [
    "# find(): Returns the index of first occurrence of substring"
   ]
  },
  {
   "cell_type": "code",
   "execution_count": 27,
   "id": "2f6a5eb0-11ff-4b7c-bf68-4fb1599e2146",
   "metadata": {},
   "outputs": [
    {
     "name": "stdout",
     "output_type": "stream",
     "text": [
      "5\n",
      "0\n"
     ]
    }
   ],
   "source": [
    "challenge = 'thirty days of python'\n",
    "print(challenge.find('y'))  \n",
    "print(challenge.find('th')) "
   ]
  },
  {
   "cell_type": "code",
   "execution_count": null,
   "id": "7066321d-179f-455c-a1c2-e0ddbb35218a",
   "metadata": {},
   "outputs": [],
   "source": [
    "# format()\tformats string into nicer output "
   ]
  },
  {
   "cell_type": "code",
   "execution_count": 29,
   "id": "da414708-99f7-43e0-bb96-c6199606bb27",
   "metadata": {},
   "outputs": [
    {
     "name": "stdout",
     "output_type": "stream",
     "text": [
      "I am Apurva Gaware. I am a Teacher. I live in India.\n"
     ]
    }
   ],
   "source": [
    "first_name = 'Apurva'\n",
    "last_name = 'Gaware'\n",
    "job = 'Teacher'\n",
    "country = 'India'\n",
    "sentence = 'I am {} {}. I am a {}. I live in {}.'.format(first_name, last_name, job, country)\n",
    "print(sentence) "
   ]
  },
  {
   "cell_type": "code",
   "execution_count": 30,
   "id": "952beec5-765b-49d8-a056-8ff1ba73eb3b",
   "metadata": {},
   "outputs": [
    {
     "name": "stdout",
     "output_type": "stream",
     "text": [
      "The area of circle with 10 is 3.14\n"
     ]
    }
   ],
   "source": [
    "radius = 10\n",
    "pi = 3.14\n",
    "area = pi \n",
    "result = 'The area of circle with {} is {}'.format(str(radius), str(area))\n",
    "print(result)"
   ]
  },
  {
   "cell_type": "code",
   "execution_count": 31,
   "id": "f931416b-7565-4096-8723-957d836ac5df",
   "metadata": {},
   "outputs": [],
   "source": [
    "# index(): Returns the index of substring"
   ]
  },
  {
   "cell_type": "code",
   "execution_count": 32,
   "id": "831f55ce-8abd-4b0b-8701-1732dad1be5b",
   "metadata": {},
   "outputs": [
    {
     "name": "stdout",
     "output_type": "stream",
     "text": [
      "5\n",
      "0\n"
     ]
    }
   ],
   "source": [
    "challenge = 'thirty days of python'\n",
    "print(challenge.find('y'))  \n",
    "print(challenge.find('th')) "
   ]
  },
  {
   "cell_type": "code",
   "execution_count": 33,
   "id": "d022be60-a764-41fb-915d-5fda8c1f6e52",
   "metadata": {},
   "outputs": [],
   "source": [
    "# isalnum(): Checks alphanumeric character"
   ]
  },
  {
   "cell_type": "code",
   "execution_count": 34,
   "id": "7f6c3171-7c0c-4036-ba5d-7307287525f3",
   "metadata": {},
   "outputs": [
    {
     "name": "stdout",
     "output_type": "stream",
     "text": [
      "True\n"
     ]
    }
   ],
   "source": [
    "challenge = 'ThirtyDaysPython'\n",
    "print(challenge.isalnum()) "
   ]
  },
  {
   "cell_type": "code",
   "execution_count": 36,
   "id": "f0989fee-19b6-45d9-87ab-7281069488ef",
   "metadata": {},
   "outputs": [
    {
     "name": "stdout",
     "output_type": "stream",
     "text": [
      "True\n"
     ]
    }
   ],
   "source": [
    "challenge = '30DaysPython'\n",
    "print(challenge.isalnum())"
   ]
  },
  {
   "cell_type": "code",
   "execution_count": 37,
   "id": "5a98e416-9410-411d-aa8f-86335c56fccb",
   "metadata": {},
   "outputs": [
    {
     "name": "stdout",
     "output_type": "stream",
     "text": [
      "False\n"
     ]
    }
   ],
   "source": [
    "challenge = 'thirty days of python'\n",
    "print(challenge.isalnum()) "
   ]
  },
  {
   "cell_type": "code",
   "execution_count": 38,
   "id": "f46be472-e593-4db7-97cb-cbd219d16812",
   "metadata": {},
   "outputs": [
    {
     "name": "stdout",
     "output_type": "stream",
     "text": [
      "False\n"
     ]
    }
   ],
   "source": [
    "challenge = 'thirty days of python 2019'\n",
    "print(challenge.isalnum()) "
   ]
  },
  {
   "cell_type": "code",
   "execution_count": 39,
   "id": "a29b6bd8-b636-4692-8735-dfa87b4ed580",
   "metadata": {},
   "outputs": [],
   "source": [
    "# isalpha(): Checks if all characters are alphabets"
   ]
  },
  {
   "cell_type": "code",
   "execution_count": 40,
   "id": "a3d4ace9-42a1-43a9-b68a-0113dacb96b9",
   "metadata": {},
   "outputs": [
    {
     "name": "stdout",
     "output_type": "stream",
     "text": [
      "False\n",
      "False\n"
     ]
    }
   ],
   "source": [
    "challenge = 'thirty days of python'\n",
    "print(challenge.isalpha()) \n",
    "num = '123'\n",
    "print(num.isalpha())      "
   ]
  },
  {
   "cell_type": "code",
   "execution_count": 41,
   "id": "b6080f46-d7aa-4350-8a3e-99fede5b7f9c",
   "metadata": {},
   "outputs": [],
   "source": [
    "# isdecimal(): Checks Decimal Characters"
   ]
  },
  {
   "cell_type": "code",
   "execution_count": 42,
   "id": "22527845-b623-4bd1-bc79-4564d0b33ff2",
   "metadata": {},
   "outputs": [
    {
     "name": "stdout",
     "output_type": "stream",
     "text": [
      "5\n",
      "0\n"
     ]
    }
   ],
   "source": [
    "challenge = 'thirty days of python'\n",
    "print(challenge.find('y'))  \n",
    "print(challenge.find('th')) "
   ]
  },
  {
   "cell_type": "code",
   "execution_count": 43,
   "id": "4b30ec94-fa79-4d5e-af1b-542ff1f92c1c",
   "metadata": {},
   "outputs": [],
   "source": [
    "# isdigit(): Checks Digit Characters"
   ]
  },
  {
   "cell_type": "code",
   "execution_count": 49,
   "id": "03a23fd3-002a-4af3-8a16-01b1bc363f1a",
   "metadata": {},
   "outputs": [
    {
     "name": "stdout",
     "output_type": "stream",
     "text": [
      "False\n"
     ]
    }
   ],
   "source": [
    "challenge = 'Thirty'\n",
    "print(challenge.isdigit()) \n",
    "    "
   ]
  },
  {
   "cell_type": "code",
   "execution_count": 50,
   "id": "f16e8278-6c97-430b-b3a4-322725e85ed4",
   "metadata": {},
   "outputs": [],
   "source": [
    "# isdecimal():Checks decimal characters"
   ]
  },
  {
   "cell_type": "code",
   "execution_count": 51,
   "id": "81473c5b-3b1f-4d1c-a302-43b3de764547",
   "metadata": {},
   "outputs": [
    {
     "name": "stdout",
     "output_type": "stream",
     "text": [
      "True\n",
      "False\n"
     ]
    }
   ],
   "source": [
    "num = '10'\n",
    "print(num.isdecimal()) \n",
    "num = '10.5'\n",
    "print(num.isdecimal()) "
   ]
  },
  {
   "cell_type": "code",
   "execution_count": null,
   "id": "a6ff3278-a154-4820-8f8a-8ca04f45a29d",
   "metadata": {},
   "outputs": [],
   "source": [
    "# isidentifier():Checks for valid identifier means it check if a string is a valid variable name\n"
   ]
  },
  {
   "cell_type": "code",
   "execution_count": 52,
   "id": "5d45516f-7610-4299-bdfd-b4b8a5cdb838",
   "metadata": {},
   "outputs": [
    {
     "name": "stdout",
     "output_type": "stream",
     "text": [
      "False\n",
      "True\n"
     ]
    }
   ],
   "source": [
    "challenge = '30DaysOfPython'\n",
    "print(challenge.isidentifier()) \n",
    "challenge = 'thirty_days_of_python'\n",
    "print(challenge.isidentifier()) "
   ]
  },
  {
   "cell_type": "code",
   "execution_count": 53,
   "id": "a2170527-8fe2-40e9-a42f-957f6efe060b",
   "metadata": {},
   "outputs": [],
   "source": [
    "# islower():Checks if all alphabets in a string are lowercase"
   ]
  },
  {
   "cell_type": "code",
   "execution_count": 54,
   "id": "d685d862-f165-4898-b39e-16e6281a968f",
   "metadata": {},
   "outputs": [
    {
     "name": "stdout",
     "output_type": "stream",
     "text": [
      "True\n",
      "False\n"
     ]
    }
   ],
   "source": [
    "challenge = 'thirty days of python'\n",
    "print(challenge.islower()) \n",
    "challenge = 'Thirty days of python'\n",
    "print(challenge.islower()) "
   ]
  },
  {
   "cell_type": "code",
   "execution_count": 55,
   "id": "dd43e13c-7b02-436e-b1ab-a3ab68368cdf",
   "metadata": {},
   "outputs": [],
   "source": [
    "# isupper(): returns if all characters are uppercase characters"
   ]
  },
  {
   "cell_type": "code",
   "execution_count": 56,
   "id": "00175808-dad8-4352-954c-831c39a54697",
   "metadata": {},
   "outputs": [
    {
     "name": "stdout",
     "output_type": "stream",
     "text": [
      "False\n",
      "True\n"
     ]
    }
   ],
   "source": [
    "challenge = 'thirty days of python'\n",
    "print(challenge.isupper()) \n",
    "challenge = 'THIRTY DAYS OF PYTHON'\n",
    "print(challenge.isupper()) \n"
   ]
  },
  {
   "cell_type": "code",
   "execution_count": 57,
   "id": "d19948fa-afc2-4be5-a739-681da9df7f5f",
   "metadata": {},
   "outputs": [],
   "source": [
    "# isnumeric():Checks numeric characters"
   ]
  },
  {
   "cell_type": "code",
   "execution_count": 58,
   "id": "ff16a949-a8a0-4841-8723-c22a86cfc799",
   "metadata": {},
   "outputs": [
    {
     "name": "stdout",
     "output_type": "stream",
     "text": [
      "True\n",
      "False\n"
     ]
    }
   ],
   "source": [
    "num = '10'\n",
    "print(num.isnumeric())      \n",
    "print('ten'.isnumeric())    "
   ]
  },
  {
   "cell_type": "code",
   "execution_count": 59,
   "id": "14e02b96-612c-437e-889a-b40141386830",
   "metadata": {},
   "outputs": [],
   "source": [
    "# join(): Returns a concatenated string"
   ]
  },
  {
   "cell_type": "code",
   "execution_count": 60,
   "id": "79099b96-eba6-4e56-ac10-715128ada753",
   "metadata": {},
   "outputs": [
    {
     "name": "stdout",
     "output_type": "stream",
     "text": [
      "HTML#, CSS#, JavaScript#, React\n"
     ]
    }
   ],
   "source": [
    "web_tech = ['HTML', 'CSS', 'JavaScript', 'React']\n",
    "result = '#, '.join(web_tech)\n",
    "print(result) "
   ]
  },
  {
   "cell_type": "code",
   "execution_count": 61,
   "id": "b11ed205-ade1-4eea-bdbc-da5ad94ddeb7",
   "metadata": {},
   "outputs": [],
   "source": [
    "# strip(): Removes both leading and trailing characters"
   ]
  },
  {
   "cell_type": "code",
   "execution_count": 62,
   "id": "7f7e0b38-2fcb-428e-8999-b0491d3652d0",
   "metadata": {},
   "outputs": [
    {
     "name": "stdout",
     "output_type": "stream",
     "text": [
      " thirty days of python \n"
     ]
    }
   ],
   "source": [
    "challenge = ' thirty days of python '\n",
    "print(challenge.strip('y')) "
   ]
  },
  {
   "cell_type": "code",
   "execution_count": 63,
   "id": "4255d490-fe85-4926-911e-49853ee46d64",
   "metadata": {},
   "outputs": [],
   "source": [
    "# replace(): Replaces substring inside"
   ]
  },
  {
   "cell_type": "code",
   "execution_count": 64,
   "id": "78de6cdc-45e1-44d1-ac76-13d8fbf2e109",
   "metadata": {},
   "outputs": [
    {
     "name": "stdout",
     "output_type": "stream",
     "text": [
      "thirty days of coding\n"
     ]
    }
   ],
   "source": [
    "challenge = 'thirty days of python'\n",
    "print(challenge.replace('python', 'coding')) "
   ]
  },
  {
   "cell_type": "code",
   "execution_count": 65,
   "id": "fe3a4771-de3f-48f4-a63d-9444b869be09",
   "metadata": {},
   "outputs": [],
   "source": [
    "# split():Splits String from Left"
   ]
  },
  {
   "cell_type": "code",
   "execution_count": 66,
   "id": "1bdcc6c3-0727-4761-bad3-46d25cfb5e16",
   "metadata": {},
   "outputs": [
    {
     "name": "stdout",
     "output_type": "stream",
     "text": [
      "['thirty', 'days', 'of', 'python']\n"
     ]
    }
   ],
   "source": [
    "challenge = 'thirty days of python'\n",
    "print(challenge.split()) "
   ]
  },
  {
   "cell_type": "code",
   "execution_count": null,
   "id": "86f0bea0-8b4d-47e9-a850-18a9fb9ee25a",
   "metadata": {},
   "outputs": [],
   "source": [
    "#title(): Returns a Title Cased String"
   ]
  },
  {
   "cell_type": "code",
   "execution_count": 67,
   "id": "93a1f172-09e7-41e9-8c82-c90c72511c81",
   "metadata": {},
   "outputs": [
    {
     "name": "stdout",
     "output_type": "stream",
     "text": [
      "Thirty Days Of Python\n"
     ]
    }
   ],
   "source": [
    "challenge = 'thirty days of python'\n",
    "print(challenge.title()) "
   ]
  },
  {
   "cell_type": "code",
   "execution_count": 68,
   "id": "6f47a694-bc8f-4a77-92a1-368470e0a4aa",
   "metadata": {},
   "outputs": [],
   "source": [
    "# swapcase(): Checks if String Starts with the Specified String"
   ]
  },
  {
   "cell_type": "code",
   "execution_count": 69,
   "id": "3ddabfd8-2b3e-49ed-ae55-0ec5ef08fdce",
   "metadata": {},
   "outputs": [
    {
     "name": "stdout",
     "output_type": "stream",
     "text": [
      "THIRTY DAYS OF PYTHON\n",
      "tHIRTY dAYS oF pYTHON\n"
     ]
    }
   ],
   "source": [
    "challenge = 'thirty days of python'\n",
    "print(challenge.swapcase())  \n",
    "challenge = 'Thirty Days Of Python'\n",
    "print(challenge.swapcase())  "
   ]
  },
  {
   "cell_type": "code",
   "execution_count": 70,
   "id": "9661579d-63bc-46ff-88ee-5683f33c26ab",
   "metadata": {},
   "outputs": [],
   "source": [
    "# startswith(): Checks if String Starts with the Specified String"
   ]
  },
  {
   "cell_type": "code",
   "execution_count": 71,
   "id": "edba6a42-32fd-4afe-a7b2-e134cd358b49",
   "metadata": {},
   "outputs": [
    {
     "name": "stdout",
     "output_type": "stream",
     "text": [
      "True\n",
      "False\n"
     ]
    }
   ],
   "source": [
    "challenge = 'thirty days of python'\n",
    "print(challenge.startswith('thirty')) \n",
    "challenge = '30 days of python'\n",
    "print(challenge.startswith('thirty')) "
   ]
  },
  {
   "cell_type": "code",
   "execution_count": null,
   "id": "8c5e8586-be4b-4be6-9c5d-ee13d9bd5c5d",
   "metadata": {},
   "outputs": [],
   "source": []
  }
 ],
 "metadata": {
  "kernelspec": {
   "display_name": "Python 3 (ipykernel)",
   "language": "python",
   "name": "python3"
  },
  "language_info": {
   "codemirror_mode": {
    "name": "ipython",
    "version": 3
   },
   "file_extension": ".py",
   "mimetype": "text/x-python",
   "name": "python",
   "nbconvert_exporter": "python",
   "pygments_lexer": "ipython3",
   "version": "3.12.7"
  }
 },
 "nbformat": 4,
 "nbformat_minor": 5
}
