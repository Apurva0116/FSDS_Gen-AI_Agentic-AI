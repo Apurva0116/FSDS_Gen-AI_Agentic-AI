{
 "cells": [
  {
   "cell_type": "code",
   "execution_count": 1,
   "id": "7542f8d0-8fb9-4140-82e1-551aef81f3a6",
   "metadata": {},
   "outputs": [],
   "source": [
    "Tuple Creation"
   ]
  },
  {
   "cell_type": "code",
   "execution_count": null,
   "id": "26522dec-b61b-4e87-b806-cc00f94d4476",
   "metadata": {},
   "outputs": [],
   "source": [
    "tup1=()"
   ]
  },
  {
   "cell_type": "code",
   "execution_count": 15,
   "id": "c8d71053-4cdf-472d-ad54-0155d7d61280",
   "metadata": {},
   "outputs": [],
   "source": [
    "tup2 =(10,200,300)"
   ]
  },
  {
   "cell_type": "code",
   "execution_count": 3,
   "id": "2475bd3e-2afe-455a-966a-92218c512011",
   "metadata": {},
   "outputs": [],
   "source": [
    "tup3=(50.6,60.3,80.3)"
   ]
  },
  {
   "cell_type": "code",
   "execution_count": 4,
   "id": "4db6f76a-9e85-4e83-9de6-a681f4b62c0f",
   "metadata": {},
   "outputs": [],
   "source": [
    "tup4=('Pune','Mumbai','Delhi')"
   ]
  },
  {
   "cell_type": "code",
   "execution_count": 6,
   "id": "37c9f264-61fa-4403-9d3d-18f57420ca0f",
   "metadata": {},
   "outputs": [],
   "source": [
    "tup5=(200,'Pune', (50,100),(150,0))"
   ]
  },
  {
   "cell_type": "code",
   "execution_count": 7,
   "id": "ef609a7f-23fd-42a3-a8b7-51491d94a4bb",
   "metadata": {},
   "outputs": [],
   "source": [
    "tup6=(100,'Apurva', 50.65)"
   ]
  },
  {
   "cell_type": "code",
   "execution_count": 8,
   "id": "f47d6682-9d84-4893-9d5a-156f3237552a",
   "metadata": {},
   "outputs": [],
   "source": [
    "tup7=('Apurva',25,[50,100],[150,90],{'Pune','Mumbai'},(99,22,33))"
   ]
  },
  {
   "cell_type": "code",
   "execution_count": 9,
   "id": "09ec2165-5e98-47d8-afad-5b6c2c3d7d83",
   "metadata": {},
   "outputs": [
    {
     "data": {
      "text/plain": [
       "6"
      ]
     },
     "execution_count": 9,
     "metadata": {},
     "output_type": "execute_result"
    }
   ],
   "source": [
    "len(tup7)"
   ]
  },
  {
   "cell_type": "code",
   "execution_count": null,
   "id": "db301c95-c035-4ef9-a6b8-1be74f3066ec",
   "metadata": {},
   "outputs": [],
   "source": [
    "## Tuple Indexing"
   ]
  },
  {
   "cell_type": "code",
   "execution_count": 16,
   "id": "8e0f0a85-59d2-4436-9ef3-326820120960",
   "metadata": {},
   "outputs": [
    {
     "data": {
      "text/plain": [
       "10"
      ]
     },
     "execution_count": 16,
     "metadata": {},
     "output_type": "execute_result"
    }
   ],
   "source": [
    "tup2[0]"
   ]
  },
  {
   "cell_type": "code",
   "execution_count": 17,
   "id": "71b2babc-47bc-4568-baee-31fddb8676eb",
   "metadata": {},
   "outputs": [
    {
     "data": {
      "text/plain": [
       "'P'"
      ]
     },
     "execution_count": 17,
     "metadata": {},
     "output_type": "execute_result"
    }
   ],
   "source": [
    "tup4[0][0]"
   ]
  },
  {
   "cell_type": "code",
   "execution_count": 18,
   "id": "a4f63f2c-29ff-4e90-a5a9-5e0962981a12",
   "metadata": {},
   "outputs": [
    {
     "data": {
      "text/plain": [
       "'Delhi'"
      ]
     },
     "execution_count": 18,
     "metadata": {},
     "output_type": "execute_result"
    }
   ],
   "source": [
    "tup4[-1]"
   ]
  },
  {
   "cell_type": "code",
   "execution_count": 19,
   "id": "9440d689-b21d-4d26-b9eb-f988d4e22a3b",
   "metadata": {},
   "outputs": [
    {
     "data": {
      "text/plain": [
       "(150, 0)"
      ]
     },
     "execution_count": 19,
     "metadata": {},
     "output_type": "execute_result"
    }
   ],
   "source": [
    "tup5[-1]"
   ]
  },
  {
   "cell_type": "code",
   "execution_count": 20,
   "id": "47d83467-0435-4da4-bb76-f1714c7a9769",
   "metadata": {},
   "outputs": [],
   "source": [
    "#Tuple Slicing"
   ]
  },
  {
   "cell_type": "code",
   "execution_count": 23,
   "id": "3d0da5e7-e3d9-4e89-8bd3-0e81ccc410ed",
   "metadata": {},
   "outputs": [],
   "source": [
    "mytuple=('one' , 'two' , 'three' , 'four' , 'five' , 'six' , 'seven' , 'eight')"
   ]
  },
  {
   "cell_type": "code",
   "execution_count": 24,
   "id": "740195d6-aaba-4bd7-b509-9c36061280a3",
   "metadata": {},
   "outputs": [
    {
     "data": {
      "text/plain": [
       "('one', 'two', 'three')"
      ]
     },
     "execution_count": 24,
     "metadata": {},
     "output_type": "execute_result"
    }
   ],
   "source": [
    "mytuple[0:3]"
   ]
  },
  {
   "cell_type": "code",
   "execution_count": 25,
   "id": "6d7aa6f5-7d88-4260-8a76-d24c40a4b60d",
   "metadata": {},
   "outputs": [
    {
     "data": {
      "text/plain": [
       "('three', 'four', 'five')"
      ]
     },
     "execution_count": 25,
     "metadata": {},
     "output_type": "execute_result"
    }
   ],
   "source": [
    "mytuple[2:5]"
   ]
  },
  {
   "cell_type": "code",
   "execution_count": 26,
   "id": "2b0436af-f76a-4fbe-b5a9-a995a7bd0da1",
   "metadata": {},
   "outputs": [
    {
     "data": {
      "text/plain": [
       "('one', 'two', 'three')"
      ]
     },
     "execution_count": 26,
     "metadata": {},
     "output_type": "execute_result"
    }
   ],
   "source": [
    "mytuple[:3]"
   ]
  },
  {
   "cell_type": "code",
   "execution_count": 27,
   "id": "38b4d7d6-cd35-4bef-83b2-356b796c0ff4",
   "metadata": {},
   "outputs": [
    {
     "data": {
      "text/plain": [
       "('one', 'two')"
      ]
     },
     "execution_count": 27,
     "metadata": {},
     "output_type": "execute_result"
    }
   ],
   "source": [
    "mytuple[:2]"
   ]
  },
  {
   "cell_type": "code",
   "execution_count": 28,
   "id": "79141c12-094a-49f7-847b-dd7e44aeb4c7",
   "metadata": {},
   "outputs": [
    {
     "data": {
      "text/plain": [
       "('six', 'seven', 'eight')"
      ]
     },
     "execution_count": 28,
     "metadata": {},
     "output_type": "execute_result"
    }
   ],
   "source": [
    "mytuple[-3:]"
   ]
  },
  {
   "cell_type": "code",
   "execution_count": 29,
   "id": "fdfd083d-6033-46ef-9bb2-5cb3d332d76d",
   "metadata": {},
   "outputs": [
    {
     "data": {
      "text/plain": [
       "('seven', 'eight')"
      ]
     },
     "execution_count": 29,
     "metadata": {},
     "output_type": "execute_result"
    }
   ],
   "source": [
    "mytuple[-2:]"
   ]
  },
  {
   "cell_type": "code",
   "execution_count": 30,
   "id": "a6427457-29e3-47bc-b6ee-dda32528188f",
   "metadata": {},
   "outputs": [
    {
     "data": {
      "text/plain": [
       "'eight'"
      ]
     },
     "execution_count": 30,
     "metadata": {},
     "output_type": "execute_result"
    }
   ],
   "source": [
    "mytuple[-1]"
   ]
  },
  {
   "cell_type": "code",
   "execution_count": 31,
   "id": "5361a0ae-fbb6-4f8d-95c6-2a735cb8a808",
   "metadata": {},
   "outputs": [
    {
     "data": {
      "text/plain": [
       "('one', 'two', 'three', 'four', 'five', 'six', 'seven', 'eight')"
      ]
     },
     "execution_count": 31,
     "metadata": {},
     "output_type": "execute_result"
    }
   ],
   "source": [
    "mytuple[:]"
   ]
  },
  {
   "cell_type": "code",
   "execution_count": 32,
   "id": "cd092a3a-60d7-42b8-a928-c061553f19e3",
   "metadata": {},
   "outputs": [],
   "source": [
    "#Remove & Change Items"
   ]
  },
  {
   "cell_type": "code",
   "execution_count": 33,
   "id": "691dd445-4930-4ed1-b58d-eda534b71150",
   "metadata": {},
   "outputs": [
    {
     "data": {
      "text/plain": [
       "('one', 'two', 'three', 'four', 'five', 'six', 'seven', 'eight')"
      ]
     },
     "execution_count": 33,
     "metadata": {},
     "output_type": "execute_result"
    }
   ],
   "source": [
    "mytuple"
   ]
  },
  {
   "cell_type": "code",
   "execution_count": 34,
   "id": "39b4b9f2-4597-4408-ae92-f6d32a427a72",
   "metadata": {},
   "outputs": [
    {
     "name": "stdout",
     "output_type": "stream",
     "text": [
      "one\n",
      "two\n",
      "three\n",
      "four\n",
      "five\n",
      "six\n",
      "seven\n",
      "eight\n"
     ]
    }
   ],
   "source": [
    "for i in mytuple: \n",
    "    print(i)"
   ]
  },
  {
   "cell_type": "code",
   "execution_count": 35,
   "id": "f43a304d-4d97-4d71-8a5d-ea74ea76e267",
   "metadata": {},
   "outputs": [
    {
     "name": "stdout",
     "output_type": "stream",
     "text": [
      "(0, 'one')\n",
      "(1, 'two')\n",
      "(2, 'three')\n",
      "(3, 'four')\n",
      "(4, 'five')\n",
      "(5, 'six')\n",
      "(6, 'seven')\n",
      "(7, 'eight')\n"
     ]
    }
   ],
   "source": [
    "for i in enumerate(mytuple): \n",
    "    print(i)"
   ]
  },
  {
   "cell_type": "code",
   "execution_count": null,
   "id": "a6ecfef7-60da-4587-b88b-61af79647fa1",
   "metadata": {},
   "outputs": [],
   "source": [
    "# Count"
   ]
  },
  {
   "cell_type": "code",
   "execution_count": 36,
   "id": "fb0ddb25-5b24-492f-ab99-7e2cbc0e51e8",
   "metadata": {},
   "outputs": [],
   "source": [
    "mytuple1 =('one', 'two', 'three', 'four', 'one', 'one', 'two', 'three')"
   ]
  },
  {
   "cell_type": "code",
   "execution_count": 37,
   "id": "8d714a83-acc3-4f54-8ab9-d16101cbd127",
   "metadata": {},
   "outputs": [
    {
     "data": {
      "text/plain": [
       "3"
      ]
     },
     "execution_count": 37,
     "metadata": {},
     "output_type": "execute_result"
    }
   ],
   "source": [
    "mytuple1.count('one')"
   ]
  },
  {
   "cell_type": "code",
   "execution_count": 38,
   "id": "831b9695-6ec8-428a-b78d-ae4c6b9f0039",
   "metadata": {},
   "outputs": [
    {
     "data": {
      "text/plain": [
       "2"
      ]
     },
     "execution_count": 38,
     "metadata": {},
     "output_type": "execute_result"
    }
   ],
   "source": [
    "mytuple1.count('two')"
   ]
  },
  {
   "cell_type": "code",
   "execution_count": 39,
   "id": "98e76577-2189-42f8-9b73-6f4fce841c70",
   "metadata": {},
   "outputs": [
    {
     "data": {
      "text/plain": [
       "1"
      ]
     },
     "execution_count": 39,
     "metadata": {},
     "output_type": "execute_result"
    }
   ],
   "source": [
    "mytuple1.count('four')"
   ]
  },
  {
   "cell_type": "code",
   "execution_count": 40,
   "id": "7de921be-2fd6-4ee0-941e-97bcbb32299c",
   "metadata": {},
   "outputs": [],
   "source": [
    "## Tuple Membership"
   ]
  },
  {
   "cell_type": "code",
   "execution_count": 41,
   "id": "64f987cb-04f9-4b77-8885-cb07ebb6d333",
   "metadata": {},
   "outputs": [
    {
     "data": {
      "text/plain": [
       "('one', 'two', 'three', 'four', 'five', 'six', 'seven', 'eight')"
      ]
     },
     "execution_count": 41,
     "metadata": {},
     "output_type": "execute_result"
    }
   ],
   "source": [
    "mytuple"
   ]
  },
  {
   "cell_type": "code",
   "execution_count": 42,
   "id": "8955830f-2d6a-416c-a08e-af85a026ee87",
   "metadata": {},
   "outputs": [
    {
     "data": {
      "text/plain": [
       "True"
      ]
     },
     "execution_count": 42,
     "metadata": {},
     "output_type": "execute_result"
    }
   ],
   "source": [
    "'one' in mytuple"
   ]
  },
  {
   "cell_type": "code",
   "execution_count": 43,
   "id": "12b3a2f2-5bca-46e7-8d70-8cb2c447270b",
   "metadata": {},
   "outputs": [
    {
     "data": {
      "text/plain": [
       "False"
      ]
     },
     "execution_count": 43,
     "metadata": {},
     "output_type": "execute_result"
    }
   ],
   "source": [
    "'ten' in mytuple"
   ]
  },
  {
   "cell_type": "code",
   "execution_count": 44,
   "id": "b70f7fd8-2a94-41cf-8945-edd470c5242b",
   "metadata": {},
   "outputs": [
    {
     "name": "stdout",
     "output_type": "stream",
     "text": [
      "Three is present in the tuple\n"
     ]
    }
   ],
   "source": [
    "if 'three' in mytuple:\n",
    "    print('Three is present in the tuple')\n",
    "else:\n",
    "    print('Three is not present in the tuple')"
   ]
  },
  {
   "cell_type": "code",
   "execution_count": 46,
   "id": "3617a3f6-f48c-41a5-accb-343569459919",
   "metadata": {},
   "outputs": [
    {
     "name": "stdout",
     "output_type": "stream",
     "text": [
      "eleven is not present in the tuple\n"
     ]
    }
   ],
   "source": [
    "if 'eleven' in mytuple: \n",
    "    print('eleven is present in the tuple')\n",
    "else:\n",
    "    print('eleven is not present in the tuple')"
   ]
  },
  {
   "cell_type": "code",
   "execution_count": null,
   "id": "4fa228e9-5db3-473f-a679-5e5824597710",
   "metadata": {},
   "outputs": [],
   "source": [
    "## Index Position"
   ]
  },
  {
   "cell_type": "code",
   "execution_count": 47,
   "id": "3a20cf94-576b-4974-9c09-f4a6e68d84e7",
   "metadata": {},
   "outputs": [
    {
     "data": {
      "text/plain": [
       "('one', 'two', 'three', 'four', 'five', 'six', 'seven', 'eight')"
      ]
     },
     "execution_count": 47,
     "metadata": {},
     "output_type": "execute_result"
    }
   ],
   "source": [
    "mytuple"
   ]
  },
  {
   "cell_type": "code",
   "execution_count": 48,
   "id": "0e2a8900-0acb-4c68-86cc-94b6bef613b3",
   "metadata": {},
   "outputs": [
    {
     "data": {
      "text/plain": [
       "0"
      ]
     },
     "execution_count": 48,
     "metadata": {},
     "output_type": "execute_result"
    }
   ],
   "source": [
    "mytuple.index('one')"
   ]
  },
  {
   "cell_type": "code",
   "execution_count": 49,
   "id": "59647661-ba50-4515-abe5-c2d1d1f0e8a9",
   "metadata": {},
   "outputs": [
    {
     "data": {
      "text/plain": [
       "4"
      ]
     },
     "execution_count": 49,
     "metadata": {},
     "output_type": "execute_result"
    }
   ],
   "source": [
    "mytuple.index('five')"
   ]
  },
  {
   "cell_type": "code",
   "execution_count": 50,
   "id": "5da961aa-97b2-4e4c-b311-fa0c0353e251",
   "metadata": {},
   "outputs": [
    {
     "data": {
      "text/plain": [
       "('one', 'two', 'three', 'four', 'one', 'one', 'two', 'three')"
      ]
     },
     "execution_count": 50,
     "metadata": {},
     "output_type": "execute_result"
    }
   ],
   "source": [
    "mytuple1"
   ]
  },
  {
   "cell_type": "code",
   "execution_count": 51,
   "id": "27642586-69c2-4165-ae7d-cd0449641dbb",
   "metadata": {},
   "outputs": [
    {
     "data": {
      "text/plain": [
       "0"
      ]
     },
     "execution_count": 51,
     "metadata": {},
     "output_type": "execute_result"
    }
   ],
   "source": [
    "mytuple1.index('one')"
   ]
  },
  {
   "cell_type": "code",
   "execution_count": null,
   "id": "f7ee4d10-8a2a-4995-a14c-6f4b74031d54",
   "metadata": {},
   "outputs": [],
   "source": [
    "## Sorting"
   ]
  },
  {
   "cell_type": "code",
   "execution_count": 53,
   "id": "c392befe-b2b3-4215-93c6-1383866ec76e",
   "metadata": {},
   "outputs": [],
   "source": [
    "mytuple2=(40,50,60,70,80,90)"
   ]
  },
  {
   "cell_type": "code",
   "execution_count": 54,
   "id": "6ad6cc00-88ea-4fe9-851e-7583d5ebf145",
   "metadata": {},
   "outputs": [
    {
     "data": {
      "text/plain": [
       "[40, 50, 60, 70, 80, 90]"
      ]
     },
     "execution_count": 54,
     "metadata": {},
     "output_type": "execute_result"
    }
   ],
   "source": [
    "sorted(mytuple2)"
   ]
  },
  {
   "cell_type": "code",
   "execution_count": 55,
   "id": "fb2c26a4-3cb0-4962-a60c-72de1c4dc718",
   "metadata": {},
   "outputs": [
    {
     "data": {
      "text/plain": [
       "[90, 80, 70, 60, 50, 40]"
      ]
     },
     "execution_count": 55,
     "metadata": {},
     "output_type": "execute_result"
    }
   ],
   "source": [
    "sorted(mytuple2, reverse=True)"
   ]
  },
  {
   "cell_type": "code",
   "execution_count": 56,
   "id": "9ec14021-e67c-4577-815e-aad71eff6226",
   "metadata": {},
   "outputs": [],
   "source": [
    "## Sets"
   ]
  },
  {
   "cell_type": "code",
   "execution_count": 57,
   "id": "462cf6d0-e710-4f33-badb-86edf85ab2ea",
   "metadata": {},
   "outputs": [
    {
     "data": {
      "text/plain": [
       "{1, 2, 3, 4, 5}"
      ]
     },
     "execution_count": 57,
     "metadata": {},
     "output_type": "execute_result"
    }
   ],
   "source": [
    "myset={1,2,3,4,5}\n",
    "myset"
   ]
  },
  {
   "cell_type": "code",
   "execution_count": 58,
   "id": "6b354510-8e58-4b12-a721-3c0890dcdb44",
   "metadata": {},
   "outputs": [
    {
     "data": {
      "text/plain": [
       "5"
      ]
     },
     "execution_count": 58,
     "metadata": {},
     "output_type": "execute_result"
    }
   ],
   "source": [
    "len(myset)"
   ]
  },
  {
   "cell_type": "code",
   "execution_count": 59,
   "id": "4476e6cd-4eb1-4e5a-ba3a-8d699abdecbb",
   "metadata": {},
   "outputs": [
    {
     "data": {
      "text/plain": [
       "{3, 4, 5, 6, 7}"
      ]
     },
     "execution_count": 59,
     "metadata": {},
     "output_type": "execute_result"
    }
   ],
   "source": [
    "my_set = {3,3,4,4,5,6,7,7}\n",
    "my_set"
   ]
  },
  {
   "cell_type": "code",
   "execution_count": 60,
   "id": "ee2e9ad5-a852-402a-8564-c3c488ab4b48",
   "metadata": {},
   "outputs": [
    {
     "data": {
      "text/plain": [
       "{5.23, 62.3, 78.5, 90.5, 99.9}"
      ]
     },
     "execution_count": 60,
     "metadata": {},
     "output_type": "execute_result"
    }
   ],
   "source": [
    "myset1 = {5.23,62.3,90.5,78.5,99.9}\n",
    "myset1"
   ]
  },
  {
   "cell_type": "code",
   "execution_count": 61,
   "id": "552dbb47-0eed-4f5b-b093-5026318b13da",
   "metadata": {},
   "outputs": [
    {
     "data": {
      "text/plain": [
       "{'Delhi', 'Hydrabad', 'Mumbai', 'Pune'}"
      ]
     },
     "execution_count": 61,
     "metadata": {},
     "output_type": "execute_result"
    }
   ],
   "source": [
    "myset2 = {'Pune','Hydrabad','Mumbai','Delhi'}\n",
    "myset2"
   ]
  },
  {
   "cell_type": "code",
   "execution_count": 62,
   "id": "d8455d51-65f8-4ad9-9bf8-bd2279dfae4c",
   "metadata": {},
   "outputs": [
    {
     "data": {
      "text/plain": [
       "{(50, 66, 99), 100, 50, 'Hiee'}"
      ]
     },
     "execution_count": 62,
     "metadata": {},
     "output_type": "execute_result"
    }
   ],
   "source": [
    "myset3 = {50,100, \"Hiee\", (50, 66, 99)}\n",
    "myset3"
   ]
  },
  {
   "cell_type": "code",
   "execution_count": 63,
   "id": "7ca28a53-e392-4d51-9824-7f2b675d9d03",
   "metadata": {},
   "outputs": [
    {
     "name": "stdout",
     "output_type": "stream",
     "text": [
      "<class 'set'>\n"
     ]
    }
   ],
   "source": [
    "myset4 = set()\n",
    "print(type(myset4))"
   ]
  },
  {
   "cell_type": "code",
   "execution_count": 64,
   "id": "f4f09b1f-cb92-47d1-bec5-b1e813a1d13c",
   "metadata": {},
   "outputs": [
    {
     "data": {
      "text/plain": [
       "{'four', 'one', 'three', 'two'}"
      ]
     },
     "execution_count": 64,
     "metadata": {},
     "output_type": "execute_result"
    }
   ],
   "source": [
    "my_set1 = set(('one' , 'two' , 'three' , 'four')) \n",
    "my_set1"
   ]
  },
  {
   "cell_type": "code",
   "execution_count": 2,
   "id": "a20abd3f-5046-4e4e-9f5b-a7d2e0b02c70",
   "metadata": {},
   "outputs": [],
   "source": [
    "myset = {'Apple','Chiku','Orange','Grapes','Straberry'}"
   ]
  },
  {
   "cell_type": "code",
   "execution_count": 3,
   "id": "adb32489-0636-4515-a95c-871a964a3ef7",
   "metadata": {},
   "outputs": [
    {
     "name": "stdout",
     "output_type": "stream",
     "text": [
      "Chiku\n",
      "Straberry\n",
      "Grapes\n",
      "Orange\n",
      "Apple\n"
     ]
    }
   ],
   "source": [
    "for i in myset:\n",
    "    print(i)"
   ]
  },
  {
   "cell_type": "code",
   "execution_count": 4,
   "id": "4b473471-0889-4625-a7c6-2ae765cc1bc8",
   "metadata": {},
   "outputs": [
    {
     "name": "stdout",
     "output_type": "stream",
     "text": [
      "(0, 'Chiku')\n",
      "(1, 'Straberry')\n",
      "(2, 'Grapes')\n",
      "(3, 'Orange')\n",
      "(4, 'Apple')\n"
     ]
    }
   ],
   "source": [
    "for i in enumerate(myset): \n",
    "    print(i)"
   ]
  },
  {
   "cell_type": "code",
   "execution_count": 5,
   "id": "946bf891-275b-4c4f-a1ea-a4f3a7ba8ff6",
   "metadata": {},
   "outputs": [],
   "source": [
    "##Set Membership"
   ]
  },
  {
   "cell_type": "code",
   "execution_count": 6,
   "id": "3d23ff5b-56c7-4f3e-9cc6-86c7116f168f",
   "metadata": {},
   "outputs": [
    {
     "data": {
      "text/plain": [
       "{'Apple', 'Chiku', 'Grapes', 'Orange', 'Straberry'}"
      ]
     },
     "execution_count": 6,
     "metadata": {},
     "output_type": "execute_result"
    }
   ],
   "source": [
    "myset"
   ]
  },
  {
   "cell_type": "code",
   "execution_count": 7,
   "id": "b5eb02f8-0e58-42b3-9c07-fb81ca59c0dc",
   "metadata": {},
   "outputs": [
    {
     "data": {
      "text/plain": [
       "True"
      ]
     },
     "execution_count": 7,
     "metadata": {},
     "output_type": "execute_result"
    }
   ],
   "source": [
    "'Apple' in myset"
   ]
  },
  {
   "cell_type": "code",
   "execution_count": 8,
   "id": "28078f12-772e-43a5-8088-2655e81ff952",
   "metadata": {},
   "outputs": [
    {
     "data": {
      "text/plain": [
       "False"
      ]
     },
     "execution_count": 8,
     "metadata": {},
     "output_type": "execute_result"
    }
   ],
   "source": [
    "'Banana' in myset"
   ]
  },
  {
   "cell_type": "code",
   "execution_count": 9,
   "id": "4688b3fe-7385-4c4d-82dc-ba73436aa8d4",
   "metadata": {},
   "outputs": [
    {
     "name": "stdout",
     "output_type": "stream",
     "text": [
      "Straberry is present in the set\n"
     ]
    }
   ],
   "source": [
    "if 'Straberry' in myset: \n",
    "   print('Straberry is present in the set')\n",
    "else:\n",
    "   print('Straberry is not present in the set')"
   ]
  },
  {
   "cell_type": "code",
   "execution_count": 10,
   "id": "05fe164e-7efc-48ea-934c-47209edac54b",
   "metadata": {},
   "outputs": [
    {
     "name": "stdout",
     "output_type": "stream",
     "text": [
      "Pineapple is not present in the set\n"
     ]
    }
   ],
   "source": [
    "if 'Pineapple' in myset:\n",
    "     print('Pineapple is present in the set')\n",
    "else:\n",
    "     print('Pineapple is not present in the set')"
   ]
  },
  {
   "cell_type": "code",
   "execution_count": null,
   "id": "db6000fc-1e1b-4c5f-b705-9d350937c928",
   "metadata": {},
   "outputs": [],
   "source": [
    "# Add & Remove Items"
   ]
  },
  {
   "cell_type": "code",
   "execution_count": 11,
   "id": "9f9c7cdc-d667-40bb-b748-5b5c6bc036d2",
   "metadata": {},
   "outputs": [
    {
     "data": {
      "text/plain": [
       "{'Apple', 'Chiku', 'Grapes', 'Orange', 'Straberry'}"
      ]
     },
     "execution_count": 11,
     "metadata": {},
     "output_type": "execute_result"
    }
   ],
   "source": [
    "myset"
   ]
  },
  {
   "cell_type": "code",
   "execution_count": 12,
   "id": "7e012176-db98-401a-9b8b-b8ba393e1882",
   "metadata": {},
   "outputs": [
    {
     "data": {
      "text/plain": [
       "{'Apple', 'Chiku', 'Grapes', 'Mango', 'Orange', 'Straberry'}"
      ]
     },
     "execution_count": 12,
     "metadata": {},
     "output_type": "execute_result"
    }
   ],
   "source": [
    "myset.add('Mango')\n",
    "myset"
   ]
  },
  {
   "cell_type": "code",
   "execution_count": 13,
   "id": "125bb83e-5416-48d2-a84a-b798ff438884",
   "metadata": {},
   "outputs": [
    {
     "data": {
      "text/plain": [
       "{'Apple',\n",
       " 'Chiku',\n",
       " 'Grapes',\n",
       " 'Jackfruit',\n",
       " 'Mango',\n",
       " 'Orange',\n",
       " 'Starfruit',\n",
       " 'Straberry'}"
      ]
     },
     "execution_count": 13,
     "metadata": {},
     "output_type": "execute_result"
    }
   ],
   "source": [
    "myset.update(['Jackfruit','Starfruit'])\n",
    "myset"
   ]
  },
  {
   "cell_type": "code",
   "execution_count": 14,
   "id": "da9a5f10-a899-470f-8f91-5fdf66893606",
   "metadata": {},
   "outputs": [
    {
     "data": {
      "text/plain": [
       "{'Apple', 'Chiku', 'Grapes', 'Jackfruit', 'Mango', 'Orange', 'Straberry'}"
      ]
     },
     "execution_count": 14,
     "metadata": {},
     "output_type": "execute_result"
    }
   ],
   "source": [
    "myset.remove('Starfruit')\n",
    "myset"
   ]
  },
  {
   "cell_type": "code",
   "execution_count": 15,
   "id": "25640e11-8652-48c6-802b-6f0ab47a181b",
   "metadata": {},
   "outputs": [
    {
     "data": {
      "text/plain": [
       "{'Apple', 'Grapes', 'Jackfruit', 'Mango', 'Orange', 'Straberry'}"
      ]
     },
     "execution_count": 15,
     "metadata": {},
     "output_type": "execute_result"
    }
   ],
   "source": [
    "myset.discard('Chiku')\n",
    "myset"
   ]
  },
  {
   "cell_type": "code",
   "execution_count": 16,
   "id": "93785ec5-0321-4bbd-9508-8951d150ae51",
   "metadata": {},
   "outputs": [
    {
     "data": {
      "text/plain": [
       "set()"
      ]
     },
     "execution_count": 16,
     "metadata": {},
     "output_type": "execute_result"
    }
   ],
   "source": [
    "myset.clear()\n",
    "myset"
   ]
  },
  {
   "cell_type": "code",
   "execution_count": 18,
   "id": "8b6e6be0-8447-49f4-8f90-99acbc536ea9",
   "metadata": {},
   "outputs": [
    {
     "ename": "NameError",
     "evalue": "name 'myset' is not defined",
     "output_type": "error",
     "traceback": [
      "\u001b[1;31m---------------------------------------------------------------------------\u001b[0m",
      "\u001b[1;31mNameError\u001b[0m                                 Traceback (most recent call last)",
      "Cell \u001b[1;32mIn[18], line 1\u001b[0m\n\u001b[1;32m----> 1\u001b[0m \u001b[38;5;28;01mdel\u001b[39;00m myset\n\u001b[0;32m      2\u001b[0m myset\n",
      "\u001b[1;31mNameError\u001b[0m: name 'myset' is not defined"
     ]
    }
   ],
   "source": [
    "del myset\n",
    "myset"
   ]
  },
  {
   "cell_type": "code",
   "execution_count": 19,
   "id": "50b79375-acfb-45d4-9f96-4275c0fa7ddc",
   "metadata": {},
   "outputs": [],
   "source": [
    "## copy set"
   ]
  },
  {
   "cell_type": "code",
   "execution_count": 20,
   "id": "0bc3b6a4-0be7-44e5-bcdd-6a4a21835a53",
   "metadata": {},
   "outputs": [
    {
     "data": {
      "text/plain": [
       "{'eight', 'five', 'four', 'one', 'seven', 'six', 'three', 'two'}"
      ]
     },
     "execution_count": 20,
     "metadata": {},
     "output_type": "execute_result"
    }
   ],
   "source": [
    "myset = {'one', 'two', 'three', 'four', 'five', 'six', 'seven', 'eight'} \n",
    "myset"
   ]
  },
  {
   "cell_type": "code",
   "execution_count": 21,
   "id": "294432bf-b641-4ea2-ad7f-50ba3273b571",
   "metadata": {},
   "outputs": [
    {
     "data": {
      "text/plain": [
       "{'eight', 'five', 'four', 'one', 'seven', 'six', 'three', 'two'}"
      ]
     },
     "execution_count": 21,
     "metadata": {},
     "output_type": "execute_result"
    }
   ],
   "source": [
    "myset1 = myset \n",
    "myset"
   ]
  },
  {
   "cell_type": "code",
   "execution_count": 22,
   "id": "87c87cdf-7b36-49e5-b7ec-5121d68455f4",
   "metadata": {},
   "outputs": [
    {
     "data": {
      "text/plain": [
       "(3021138547584, 3021138547584)"
      ]
     },
     "execution_count": 22,
     "metadata": {},
     "output_type": "execute_result"
    }
   ],
   "source": [
    "id(myset) , id(myset1)"
   ]
  },
  {
   "cell_type": "code",
   "execution_count": 23,
   "id": "fbb9da00-b814-4a9b-ae10-f240a2ec41a2",
   "metadata": {},
   "outputs": [
    {
     "data": {
      "text/plain": [
       "{'eight', 'five', 'four', 'one', 'seven', 'six', 'three', 'two'}"
      ]
     },
     "execution_count": 23,
     "metadata": {},
     "output_type": "execute_result"
    }
   ],
   "source": [
    "my_set = myset.copy()\n",
    "my_set"
   ]
  },
  {
   "cell_type": "code",
   "execution_count": 24,
   "id": "2a3c47bb-ab1e-45b8-91dc-cb8902473711",
   "metadata": {},
   "outputs": [
    {
     "data": {
      "text/plain": [
       "3021138548256"
      ]
     },
     "execution_count": 24,
     "metadata": {},
     "output_type": "execute_result"
    }
   ],
   "source": [
    "id(my_set)"
   ]
  },
  {
   "cell_type": "code",
   "execution_count": 26,
   "id": "3a0f9fb6-aef0-4b5a-b90f-89035c4e8f1f",
   "metadata": {},
   "outputs": [
    {
     "data": {
      "text/plain": [
       "{'eight', 'five', 'four', 'nine', 'one', 'seven', 'six', 'three', 'two'}"
      ]
     },
     "execution_count": 26,
     "metadata": {},
     "output_type": "execute_result"
    }
   ],
   "source": [
    "myset.add('nine') \n",
    "myset"
   ]
  },
  {
   "cell_type": "code",
   "execution_count": 27,
   "id": "2e71f4ff-848d-4192-8b13-49b090f14377",
   "metadata": {},
   "outputs": [
    {
     "data": {
      "text/plain": [
       "{'eight', 'five', 'four', 'nine', 'one', 'seven', 'six', 'three', 'two'}"
      ]
     },
     "execution_count": 27,
     "metadata": {},
     "output_type": "execute_result"
    }
   ],
   "source": [
    "myset1"
   ]
  },
  {
   "cell_type": "code",
   "execution_count": 28,
   "id": "26c2a7e6-185a-43c4-b184-2e4d4d5938ad",
   "metadata": {},
   "outputs": [
    {
     "data": {
      "text/plain": [
       "{'eight', 'five', 'four', 'one', 'seven', 'six', 'three', 'two'}"
      ]
     },
     "execution_count": 28,
     "metadata": {},
     "output_type": "execute_result"
    }
   ],
   "source": [
    "my_set"
   ]
  },
  {
   "cell_type": "code",
   "execution_count": 29,
   "id": "0cf4c0b2-8245-484c-a163-1e7e46907b35",
   "metadata": {},
   "outputs": [],
   "source": [
    "## Set Operation"
   ]
  },
  {
   "cell_type": "code",
   "execution_count": 30,
   "id": "2cc213cb-7a3f-40a4-b746-1ad0537de8c9",
   "metadata": {},
   "outputs": [],
   "source": [
    "A = {1,2,3,4,5}\n",
    "B = {4,5,6,7,8}\n",
    "C = {8,9,10}"
   ]
  },
  {
   "cell_type": "code",
   "execution_count": 31,
   "id": "42f4b6f2-59be-40f4-8303-63a44f5dc6e1",
   "metadata": {},
   "outputs": [
    {
     "data": {
      "text/plain": [
       "{1, 2, 3, 4, 5, 6, 7, 8}"
      ]
     },
     "execution_count": 31,
     "metadata": {},
     "output_type": "execute_result"
    }
   ],
   "source": [
    "A|B"
   ]
  },
  {
   "cell_type": "code",
   "execution_count": 32,
   "id": "7cd1c92e-94fa-4286-b9a8-80295ce70740",
   "metadata": {},
   "outputs": [
    {
     "data": {
      "text/plain": [
       "{1, 2, 3, 4, 5, 6, 7, 8}"
      ]
     },
     "execution_count": 32,
     "metadata": {},
     "output_type": "execute_result"
    }
   ],
   "source": [
    "A.union(B)"
   ]
  },
  {
   "cell_type": "code",
   "execution_count": 33,
   "id": "c10c7244-932e-4347-bf47-4488e77934ef",
   "metadata": {},
   "outputs": [
    {
     "data": {
      "text/plain": [
       "{1, 2, 3, 4, 5, 6, 7, 8, 9, 10}"
      ]
     },
     "execution_count": 33,
     "metadata": {},
     "output_type": "execute_result"
    }
   ],
   "source": [
    "A.union(B, C)"
   ]
  },
  {
   "cell_type": "code",
   "execution_count": 34,
   "id": "2c096bd2-53f8-4ed2-a786-990a620050d3",
   "metadata": {},
   "outputs": [
    {
     "data": {
      "text/plain": [
       "{1, 2, 3, 4, 5, 6, 7, 8, 9, 10}"
      ]
     },
     "execution_count": 34,
     "metadata": {},
     "output_type": "execute_result"
    }
   ],
   "source": [
    "A.update(B,C)\n",
    "A"
   ]
  },
  {
   "cell_type": "code",
   "execution_count": 35,
   "id": "1522ab55-d577-45db-b9bf-9137ad15e262",
   "metadata": {},
   "outputs": [],
   "source": [
    "## Intersection"
   ]
  },
  {
   "cell_type": "code",
   "execution_count": 36,
   "id": "f41b0158-ea27-4ab2-805f-b30bf2635f98",
   "metadata": {},
   "outputs": [],
   "source": [
    "A = {1,2,3,4,5}\n",
    "B = {4,5,6,7,8}"
   ]
  },
  {
   "cell_type": "code",
   "execution_count": 37,
   "id": "f8431f47-71ca-4ccd-8628-1ff00d0af363",
   "metadata": {},
   "outputs": [
    {
     "data": {
      "text/plain": [
       "{4, 5}"
      ]
     },
     "execution_count": 37,
     "metadata": {},
     "output_type": "execute_result"
    }
   ],
   "source": [
    "A&B"
   ]
  },
  {
   "cell_type": "code",
   "execution_count": 38,
   "id": "694a3dca-5f0e-44d4-a4ce-c3c2719175ff",
   "metadata": {},
   "outputs": [
    {
     "ename": "SyntaxError",
     "evalue": "invalid syntax (3871018507.py, line 1)",
     "output_type": "error",
     "traceback": [
      "\u001b[1;36m  Cell \u001b[1;32mIn[38], line 1\u001b[1;36m\u001b[0m\n\u001b[1;33m    A.intersection(B) Intersection of A and B\u001b[0m\n\u001b[1;37m                      ^\u001b[0m\n\u001b[1;31mSyntaxError\u001b[0m\u001b[1;31m:\u001b[0m invalid syntax\n"
     ]
    }
   ],
   "source": [
    "A.intersection(B) Intersection of A and B"
   ]
  },
  {
   "cell_type": "code",
   "execution_count": 39,
   "id": "7d08d48f-8480-4383-ba28-5d42a444317c",
   "metadata": {},
   "outputs": [
    {
     "data": {
      "text/plain": [
       "{4, 5}"
      ]
     },
     "execution_count": 39,
     "metadata": {},
     "output_type": "execute_result"
    }
   ],
   "source": [
    "A.intersection_update(B) \n",
    "A"
   ]
  },
  {
   "cell_type": "code",
   "execution_count": 40,
   "id": "1a407685-2f4f-4a68-bd2c-f9f22047ad62",
   "metadata": {},
   "outputs": [],
   "source": [
    "## Difference"
   ]
  },
  {
   "cell_type": "code",
   "execution_count": 41,
   "id": "a6db85c3-a27e-4a90-97a9-7b1db232b0a3",
   "metadata": {},
   "outputs": [],
   "source": [
    "A = {1,2,3,4,5}\n",
    "B = {4,5,6,7,8}"
   ]
  },
  {
   "cell_type": "code",
   "execution_count": 42,
   "id": "2bb67cdf-e921-4aef-b524-8649c8915878",
   "metadata": {},
   "outputs": [
    {
     "data": {
      "text/plain": [
       "{1, 2, 3}"
      ]
     },
     "execution_count": 42,
     "metadata": {},
     "output_type": "execute_result"
    }
   ],
   "source": [
    "A-B"
   ]
  },
  {
   "cell_type": "code",
   "execution_count": 43,
   "id": "8f92c06f-74d1-4704-913a-a0493f2859bf",
   "metadata": {},
   "outputs": [
    {
     "data": {
      "text/plain": [
       "{1, 2, 3}"
      ]
     },
     "execution_count": 43,
     "metadata": {},
     "output_type": "execute_result"
    }
   ],
   "source": [
    "A.difference(B)"
   ]
  },
  {
   "cell_type": "code",
   "execution_count": 44,
   "id": "41c0b34b-bacd-4180-a91e-7c0680d502b5",
   "metadata": {},
   "outputs": [
    {
     "data": {
      "text/plain": [
       "{6, 7, 8}"
      ]
     },
     "execution_count": 44,
     "metadata": {},
     "output_type": "execute_result"
    }
   ],
   "source": [
    "B- A"
   ]
  },
  {
   "cell_type": "code",
   "execution_count": 45,
   "id": "9b7c5631-0721-41cc-a8b6-b7ae6c9f72fc",
   "metadata": {},
   "outputs": [
    {
     "data": {
      "text/plain": [
       "{6, 7, 8}"
      ]
     },
     "execution_count": 45,
     "metadata": {},
     "output_type": "execute_result"
    }
   ],
   "source": [
    "B.difference(A)"
   ]
  },
  {
   "cell_type": "code",
   "execution_count": 46,
   "id": "edb24fda-c6f2-4269-afdd-fd6f484e5cdc",
   "metadata": {},
   "outputs": [
    {
     "data": {
      "text/plain": [
       "{6, 7, 8}"
      ]
     },
     "execution_count": 46,
     "metadata": {},
     "output_type": "execute_result"
    }
   ],
   "source": [
    "{6, 7, 8}"
   ]
  },
  {
   "cell_type": "code",
   "execution_count": 47,
   "id": "c178cb31-fd12-48bc-b9c5-5f47cf349c7c",
   "metadata": {},
   "outputs": [],
   "source": [
    "## Symmetric Difference"
   ]
  },
  {
   "cell_type": "code",
   "execution_count": 48,
   "id": "9fe0d769-f335-4349-becc-8977cf586b64",
   "metadata": {},
   "outputs": [],
   "source": [
    "A = {1,2,3,4,5}\n",
    "B = {4,5,6,7,8}"
   ]
  },
  {
   "cell_type": "code",
   "execution_count": 49,
   "id": "58bea697-aa4b-41b1-bb9b-bf5057cd9b03",
   "metadata": {},
   "outputs": [
    {
     "data": {
      "text/plain": [
       "{1, 2, 3, 6, 7, 8}"
      ]
     },
     "execution_count": 49,
     "metadata": {},
     "output_type": "execute_result"
    }
   ],
   "source": [
    "A ^ B"
   ]
  },
  {
   "cell_type": "code",
   "execution_count": 50,
   "id": "3c6882f6-513c-4a31-a575-cf9ba50f8d6d",
   "metadata": {},
   "outputs": [
    {
     "data": {
      "text/plain": [
       "{1, 2, 3, 6, 7, 8}"
      ]
     },
     "execution_count": 50,
     "metadata": {},
     "output_type": "execute_result"
    }
   ],
   "source": [
    "A.symmetric_difference(B)"
   ]
  },
  {
   "cell_type": "code",
   "execution_count": 51,
   "id": "cba12025-cc44-4aa7-b42e-15678e117a0e",
   "metadata": {},
   "outputs": [
    {
     "data": {
      "text/plain": [
       "{1, 2, 3, 6, 7, 8}"
      ]
     },
     "execution_count": 51,
     "metadata": {},
     "output_type": "execute_result"
    }
   ],
   "source": [
    "A.symmetric_difference_update(B) \n",
    "A"
   ]
  },
  {
   "cell_type": "code",
   "execution_count": 52,
   "id": "0e052b50-82d3-4f55-8e9d-065cba991ef2",
   "metadata": {},
   "outputs": [],
   "source": [
    "## Subset , Superset & Disjoint"
   ]
  },
  {
   "cell_type": "code",
   "execution_count": 53,
   "id": "ade18078-a891-4f8b-90e6-a15564f53eea",
   "metadata": {},
   "outputs": [],
   "source": [
    "A = {1,2,3,4,5,6,7,8,9}\n",
    "B = {3,4,5,6,7,8}\n",
    "C = {10,20,30,40}"
   ]
  },
  {
   "cell_type": "code",
   "execution_count": 54,
   "id": "1ac45b6c-9dea-4b73-9bfd-ca54010ba482",
   "metadata": {},
   "outputs": [
    {
     "data": {
      "text/plain": [
       "True"
      ]
     },
     "execution_count": 54,
     "metadata": {},
     "output_type": "execute_result"
    }
   ],
   "source": [
    "B.issubset(A)"
   ]
  },
  {
   "cell_type": "code",
   "execution_count": 55,
   "id": "992b9875-0f71-4d66-81c7-515c0527baaf",
   "metadata": {},
   "outputs": [
    {
     "data": {
      "text/plain": [
       "True"
      ]
     },
     "execution_count": 55,
     "metadata": {},
     "output_type": "execute_result"
    }
   ],
   "source": [
    "A.issuperset(B)"
   ]
  },
  {
   "cell_type": "code",
   "execution_count": 56,
   "id": "6f6178de-d219-4ece-9354-ff2188530e37",
   "metadata": {},
   "outputs": [
    {
     "data": {
      "text/plain": [
       "True"
      ]
     },
     "execution_count": 56,
     "metadata": {},
     "output_type": "execute_result"
    }
   ],
   "source": [
    "C.isdisjoint(A)"
   ]
  },
  {
   "cell_type": "code",
   "execution_count": 57,
   "id": "19dbc27a-151b-455c-b71b-316ddbb3482b",
   "metadata": {},
   "outputs": [
    {
     "data": {
      "text/plain": [
       "False"
      ]
     },
     "execution_count": 57,
     "metadata": {},
     "output_type": "execute_result"
    }
   ],
   "source": [
    "B.isdisjoint(A)"
   ]
  },
  {
   "cell_type": "code",
   "execution_count": 58,
   "id": "d8d40c28-14f2-49df-9a0c-6c8905c83f95",
   "metadata": {},
   "outputs": [],
   "source": [
    "## Other Builtin functions"
   ]
  },
  {
   "cell_type": "code",
   "execution_count": 59,
   "id": "97724304-c2f9-4132-ade6-ae5b7b9423bd",
   "metadata": {},
   "outputs": [
    {
     "data": {
      "text/plain": [
       "{1, 2, 3, 4, 5, 6, 7, 8, 9}"
      ]
     },
     "execution_count": 59,
     "metadata": {},
     "output_type": "execute_result"
    }
   ],
   "source": [
    "A"
   ]
  },
  {
   "cell_type": "code",
   "execution_count": 60,
   "id": "e31c1842-6917-4a8c-8b0c-ecfee98d2f59",
   "metadata": {},
   "outputs": [
    {
     "data": {
      "text/plain": [
       "45"
      ]
     },
     "execution_count": 60,
     "metadata": {},
     "output_type": "execute_result"
    }
   ],
   "source": [
    "sum(A)"
   ]
  },
  {
   "cell_type": "code",
   "execution_count": 61,
   "id": "37922d2b-3d3b-4b34-949f-ebb40d804179",
   "metadata": {},
   "outputs": [
    {
     "data": {
      "text/plain": [
       "9"
      ]
     },
     "execution_count": 61,
     "metadata": {},
     "output_type": "execute_result"
    }
   ],
   "source": [
    "max(A)"
   ]
  },
  {
   "cell_type": "code",
   "execution_count": 62,
   "id": "96f5a29e-31ad-43d4-b8f6-9c650c0b7d42",
   "metadata": {},
   "outputs": [
    {
     "data": {
      "text/plain": [
       "1"
      ]
     },
     "execution_count": 62,
     "metadata": {},
     "output_type": "execute_result"
    }
   ],
   "source": [
    "min(A)"
   ]
  },
  {
   "cell_type": "code",
   "execution_count": 63,
   "id": "e596e99e-5301-4200-83dc-c7b02a06b567",
   "metadata": {},
   "outputs": [
    {
     "data": {
      "text/plain": [
       "9"
      ]
     },
     "execution_count": 63,
     "metadata": {},
     "output_type": "execute_result"
    }
   ],
   "source": [
    "len(A)"
   ]
  },
  {
   "cell_type": "code",
   "execution_count": 64,
   "id": "d55c615e-3f63-4308-be3c-e83636c03bd7",
   "metadata": {},
   "outputs": [
    {
     "data": {
      "text/plain": [
       "[(0, 1), (1, 2), (2, 3), (3, 4), (4, 5), (5, 6), (6, 7), (7, 8), (8, 9)]"
      ]
     },
     "execution_count": 64,
     "metadata": {},
     "output_type": "execute_result"
    }
   ],
   "source": [
    "list(enumerate(A))"
   ]
  },
  {
   "cell_type": "code",
   "execution_count": 65,
   "id": "7ccdd98e-9364-4672-a6e5-0a899bfd9014",
   "metadata": {},
   "outputs": [
    {
     "data": {
      "text/plain": [
       "[9, 8, 7, 6, 5, 4, 3, 2, 1]"
      ]
     },
     "execution_count": 65,
     "metadata": {},
     "output_type": "execute_result"
    }
   ],
   "source": [
    "D= sorted(A,reverse=True) \n",
    "D"
   ]
  },
  {
   "cell_type": "code",
   "execution_count": 66,
   "id": "deff556a-3246-445c-b2d4-9c06ce4d5899",
   "metadata": {},
   "outputs": [
    {
     "data": {
      "text/plain": [
       "[1, 2, 3, 4, 5, 6, 7, 8, 9]"
      ]
     },
     "execution_count": 66,
     "metadata": {},
     "output_type": "execute_result"
    }
   ],
   "source": [
    "sorted(D)\n"
   ]
  },
  {
   "cell_type": "code",
   "execution_count": null,
   "id": "e3f1ea11-e76b-401e-976a-e32ea62b7500",
   "metadata": {},
   "outputs": [],
   "source": [
    "## Dictionary"
   ]
  },
  {
   "cell_type": "code",
   "execution_count": 67,
   "id": "e37d5559-d52b-4a18-9255-35dfcc9882e6",
   "metadata": {},
   "outputs": [],
   "source": [
    "# Create Dictionary"
   ]
  },
  {
   "cell_type": "code",
   "execution_count": 68,
   "id": "25a4c92e-b822-453c-9446-8b13962aef9f",
   "metadata": {},
   "outputs": [
    {
     "data": {
      "text/plain": [
       "{}"
      ]
     },
     "execution_count": 68,
     "metadata": {},
     "output_type": "execute_result"
    }
   ],
   "source": [
    "mydict = dict() \n",
    "mydict"
   ]
  },
  {
   "cell_type": "code",
   "execution_count": 69,
   "id": "a65f2a1b-3d6b-45ee-9e2e-d9c09462c5df",
   "metadata": {},
   "outputs": [
    {
     "data": {
      "text/plain": [
       "{}"
      ]
     },
     "execution_count": 69,
     "metadata": {},
     "output_type": "execute_result"
    }
   ],
   "source": [
    "mydict = {} \n",
    "mydict"
   ]
  },
  {
   "cell_type": "code",
   "execution_count": 70,
   "id": "3b0ddde9-d893-4349-a714-5f3e59524108",
   "metadata": {},
   "outputs": [
    {
     "data": {
      "text/plain": [
       "{1: 'one', 2: 'two', 3: 'three'}"
      ]
     },
     "execution_count": 70,
     "metadata": {},
     "output_type": "execute_result"
    }
   ],
   "source": [
    "mydict = {1:'one' , 2:'two' , 3:'three'} \n",
    "mydict"
   ]
  },
  {
   "cell_type": "code",
   "execution_count": 71,
   "id": "56c6cdf2-3259-41a0-9bb2-d7cc9761e774",
   "metadata": {},
   "outputs": [
    {
     "data": {
      "text/plain": [
       "{'A': 'one', 'B': 'two', 'C': 'three'}"
      ]
     },
     "execution_count": 71,
     "metadata": {},
     "output_type": "execute_result"
    }
   ],
   "source": [
    "mydict = {'A':'one' , 'B':'two' , 'C':'three'} \n",
    "mydict"
   ]
  },
  {
   "cell_type": "code",
   "execution_count": 72,
   "id": "a3b61bdf-93e8-43bb-80f9-58c9605b18a6",
   "metadata": {},
   "outputs": [
    {
     "data": {
      "text/plain": [
       "{1: 'one', 'A': 'two', 3: 'three'}"
      ]
     },
     "execution_count": 72,
     "metadata": {},
     "output_type": "execute_result"
    }
   ],
   "source": [
    "mydict = {1:'one' , 'A':'two' , 3:'three'} \n",
    "mydict"
   ]
  },
  {
   "cell_type": "code",
   "execution_count": 73,
   "id": "964dd514-36f9-49d1-8e97-68b4f4834bc2",
   "metadata": {},
   "outputs": [
    {
     "data": {
      "text/plain": [
       "dict_keys([1, 'A', 3])"
      ]
     },
     "execution_count": 73,
     "metadata": {},
     "output_type": "execute_result"
    }
   ],
   "source": [
    "mydict.keys()"
   ]
  },
  {
   "cell_type": "code",
   "execution_count": 74,
   "id": "c28bfefa-0433-4625-816c-f8a8e3e5a40d",
   "metadata": {},
   "outputs": [
    {
     "data": {
      "text/plain": [
       "dict_values(['one', 'two', 'three'])"
      ]
     },
     "execution_count": 74,
     "metadata": {},
     "output_type": "execute_result"
    }
   ],
   "source": [
    "mydict.values()"
   ]
  },
  {
   "cell_type": "code",
   "execution_count": 75,
   "id": "65198d6e-2325-4186-8891-4cc63522cb20",
   "metadata": {},
   "outputs": [
    {
     "data": {
      "text/plain": [
       "dict_items([(1, 'one'), ('A', 'two'), (3, 'three')])"
      ]
     },
     "execution_count": 75,
     "metadata": {},
     "output_type": "execute_result"
    }
   ],
   "source": [
    "mydict.items()"
   ]
  },
  {
   "cell_type": "code",
   "execution_count": 76,
   "id": "b716d452-d388-48ed-942a-6a92f38ce691",
   "metadata": {},
   "outputs": [
    {
     "data": {
      "text/plain": [
       "{1: 'one', 2: 'two', 'A': ['Pune', 'Hydrabad', 'Mumbai']}"
      ]
     },
     "execution_count": 76,
     "metadata": {},
     "output_type": "execute_result"
    }
   ],
   "source": [
    "mydict = {1:'one' , 2:'two' , 'A':['Pune' , 'Hydrabad' , 'Mumbai']}\n",
    "mydict"
   ]
  },
  {
   "cell_type": "code",
   "execution_count": 78,
   "id": "378871ca-6db6-4f56-a44e-0d164c1d3a7b",
   "metadata": {},
   "outputs": [
    {
     "data": {
      "text/plain": [
       "{1: 'one',\n",
       " 2: 'two',\n",
       " 'A': ['Ramesh', 'Suresh', 'Mahesh'],\n",
       " 'B': ('Bat', 'cat', 'Hat')}"
      ]
     },
     "execution_count": 78,
     "metadata": {},
     "output_type": "execute_result"
    }
   ],
   "source": [
    "mydict = {1:'one' , 2:'two' , 'A':['Ramesh' , 'Suresh' , 'Mahesh'], 'B':('Bat' , 'cat', 'Hat')} \n",
    "mydict"
   ]
  },
  {
   "cell_type": "code",
   "execution_count": 80,
   "id": "18b211db-00f5-4789-aa6d-34e8f2be7aaf",
   "metadata": {},
   "outputs": [
    {
     "data": {
      "text/plain": [
       "{1: 'one',\n",
       " 2: 'two',\n",
       " 'A': {'Name': 'Ramesh', 'Age': 20},\n",
       " 'B': ('Bat', 'cat', 'Hat')}"
      ]
     },
     "execution_count": 80,
     "metadata": {},
     "output_type": "execute_result"
    }
   ],
   "source": [
    "mydict = {1:'one' , 2:'two' , 'A':{'Name':'Ramesh' , 'Age' :20}, 'B':('Bat' , 'cat', 'Hat')}\n",
    "mydict"
   ]
  },
  {
   "cell_type": "code",
   "execution_count": 81,
   "id": "a44bbe64-193d-4a6e-b053-af2b7d2e1b0b",
   "metadata": {},
   "outputs": [
    {
     "data": {
      "text/plain": [
       "{'c': None, 'b': None, 'a': None, 'd': None}"
      ]
     },
     "execution_count": 81,
     "metadata": {},
     "output_type": "execute_result"
    }
   ],
   "source": [
    "keys = {'a' , 'b' , 'c' , 'd'}\n",
    "mydict3 = dict.fromkeys(keys) \n",
    "mydict3"
   ]
  },
  {
   "cell_type": "code",
   "execution_count": 82,
   "id": "0ede5871-3a9b-4db2-8ac3-c3d6a021e318",
   "metadata": {},
   "outputs": [
    {
     "data": {
      "text/plain": [
       "{'c': 10, 'b': 10, 'a': 10, 'd': 10}"
      ]
     },
     "execution_count": 82,
     "metadata": {},
     "output_type": "execute_result"
    }
   ],
   "source": [
    "keys = {'a' , 'b' , 'c' , 'd'} \n",
    "value = 10\n",
    "mydict3 = dict.fromkeys(keys , value)\n",
    "mydict3"
   ]
  },
  {
   "cell_type": "code",
   "execution_count": 84,
   "id": "e6fba3ea-a1cc-4159-bfa3-e69aa690509a",
   "metadata": {},
   "outputs": [
    {
     "data": {
      "text/plain": [
       "{'c': [10, 20, 30], 'b': [10, 20, 30], 'a': [10, 20, 30], 'd': [10, 20, 30]}"
      ]
     },
     "execution_count": 84,
     "metadata": {},
     "output_type": "execute_result"
    }
   ],
   "source": [
    "keys = {'a' , 'b' , 'c' , 'd'} \n",
    "value = [10,20,30]\n",
    "mydict3 = dict.fromkeys(keys , value) \n",
    "mydict3"
   ]
  },
  {
   "cell_type": "code",
   "execution_count": 85,
   "id": "4e2efa1c-dd5a-4975-9876-f65bcbd7ce92",
   "metadata": {},
   "outputs": [
    {
     "data": {
      "text/plain": [
       "{'c': [10, 20, 30, 40],\n",
       " 'b': [10, 20, 30, 40],\n",
       " 'a': [10, 20, 30, 40],\n",
       " 'd': [10, 20, 30, 40]}"
      ]
     },
     "execution_count": 85,
     "metadata": {},
     "output_type": "execute_result"
    }
   ],
   "source": [
    "value.append(40) \n",
    "mydict3"
   ]
  },
  {
   "cell_type": "code",
   "execution_count": 86,
   "id": "1688bc89-1a36-48f9-8157-d3f24bfd6c8b",
   "metadata": {},
   "outputs": [],
   "source": [
    "## Accessing Items"
   ]
  },
  {
   "cell_type": "code",
   "execution_count": 87,
   "id": "442c4b9f-c34a-4775-a429-ef9f84e6f588",
   "metadata": {},
   "outputs": [
    {
     "data": {
      "text/plain": [
       "{1: 'one', 2: 'two', 3: 'three', 4: 'four'}"
      ]
     },
     "execution_count": 87,
     "metadata": {},
     "output_type": "execute_result"
    }
   ],
   "source": [
    "mydict = {1:'one' , 2:'two' , 3:'three' , 4:'four'} \n",
    "mydict"
   ]
  },
  {
   "cell_type": "code",
   "execution_count": 88,
   "id": "3182e136-4114-4a8f-a55f-2cd1aa4928af",
   "metadata": {},
   "outputs": [
    {
     "data": {
      "text/plain": [
       "'one'"
      ]
     },
     "execution_count": 88,
     "metadata": {},
     "output_type": "execute_result"
    }
   ],
   "source": [
    "mydict[1]"
   ]
  },
  {
   "cell_type": "code",
   "execution_count": 89,
   "id": "4a46d9ab-803c-4d28-b3ed-6ff8e889d547",
   "metadata": {},
   "outputs": [
    {
     "data": {
      "text/plain": [
       "'one'"
      ]
     },
     "execution_count": 89,
     "metadata": {},
     "output_type": "execute_result"
    }
   ],
   "source": [
    "mydict.get(1)"
   ]
  },
  {
   "cell_type": "code",
   "execution_count": 91,
   "id": "0a97aec0-997d-4f12-b2d3-11b06584f08e",
   "metadata": {},
   "outputs": [
    {
     "data": {
      "text/plain": [
       "{'Name': 'Apurva', 'ID': 1234, 'DOB': 2002, 'job': 'Analyst'}"
      ]
     },
     "execution_count": 91,
     "metadata": {},
     "output_type": "execute_result"
    }
   ],
   "source": [
    "mydict1 = {'Name':'Apurva' , 'ID':1234  , 'DOB': 2002 , 'job' :'Analyst'} \n",
    "mydict1"
   ]
  },
  {
   "cell_type": "code",
   "execution_count": 92,
   "id": "3eb07644-4aad-40b1-bc5f-4dd72afae930",
   "metadata": {},
   "outputs": [
    {
     "data": {
      "text/plain": [
       "'Apurva'"
      ]
     },
     "execution_count": 92,
     "metadata": {},
     "output_type": "execute_result"
    }
   ],
   "source": [
    "mydict1['Name']"
   ]
  },
  {
   "cell_type": "code",
   "execution_count": 93,
   "id": "a1b5a782-276a-4ee5-89f4-693fdbea30a9",
   "metadata": {},
   "outputs": [
    {
     "data": {
      "text/plain": [
       "'Analyst'"
      ]
     },
     "execution_count": 93,
     "metadata": {},
     "output_type": "execute_result"
    }
   ],
   "source": [
    "mydict1.get('job')"
   ]
  },
  {
   "cell_type": "code",
   "execution_count": 94,
   "id": "e276f96b-ddfd-42a1-a83f-053355986ee5",
   "metadata": {},
   "outputs": [],
   "source": [
    "## Add, Remove & Change Items"
   ]
  },
  {
   "cell_type": "code",
   "execution_count": 95,
   "id": "26283da9-427b-4d3a-9440-a17c50bc8baf",
   "metadata": {},
   "outputs": [
    {
     "data": {
      "text/plain": [
       "{'Name': 'Apurva', 'ID': 12345, 'DOB': 2002, 'Address': 'Pune'}"
      ]
     },
     "execution_count": 95,
     "metadata": {},
     "output_type": "execute_result"
    }
   ],
   "source": [
    "mydict1 = {'Name':'Apurva' , 'ID': 12345 , 'DOB': 2002 , 'Address' : 'Pune'} \n",
    "mydict1"
   ]
  },
  {
   "cell_type": "code",
   "execution_count": 97,
   "id": "deca3676-94bf-47d6-a3a6-d0c9fe49ec5b",
   "metadata": {},
   "outputs": [
    {
     "data": {
      "text/plain": [
       "{'Name': 'Apurva', 'ID': 12345, 'DOB': 2002, 'Address': 'Pune'}"
      ]
     },
     "execution_count": 97,
     "metadata": {},
     "output_type": "execute_result"
    }
   ],
   "source": [
    "mydict1['DOB'] = 2002 \n",
    "mydict1['Address'] = 'Pune' \n",
    "mydict1"
   ]
  },
  {
   "cell_type": "code",
   "execution_count": 98,
   "id": "46f73a86-97e6-4b2f-bc76-463ba74e2f88",
   "metadata": {},
   "outputs": [
    {
     "data": {
      "text/plain": [
       "{'Name': 'Apurva',\n",
       " 'ID': 12345,\n",
       " 'DOB': 2002,\n",
       " 'Address': 'Pune',\n",
       " 'Job': 'Analyst'}"
      ]
     },
     "execution_count": 98,
     "metadata": {},
     "output_type": "execute_result"
    }
   ],
   "source": [
    "mydict1['Job'] = 'Analyst' \n",
    "mydict1"
   ]
  },
  {
   "cell_type": "code",
   "execution_count": 99,
   "id": "be9840ce-cde4-49ec-b27f-06426a16842e",
   "metadata": {},
   "outputs": [
    {
     "data": {
      "text/plain": [
       "{'Name': 'Apurva', 'ID': 12345, 'DOB': 2002, 'Address': 'Pune'}"
      ]
     },
     "execution_count": 99,
     "metadata": {},
     "output_type": "execute_result"
    }
   ],
   "source": [
    "mydict1.pop('Job')\n",
    "mydict1"
   ]
  },
  {
   "cell_type": "code",
   "execution_count": 100,
   "id": "bbb2409c-8201-4518-bcda-9f4cd367bded",
   "metadata": {},
   "outputs": [
    {
     "data": {
      "text/plain": [
       "('Address', 'Pune')"
      ]
     },
     "execution_count": 100,
     "metadata": {},
     "output_type": "execute_result"
    }
   ],
   "source": [
    "mydict1.popitem()"
   ]
  },
  {
   "cell_type": "code",
   "execution_count": 101,
   "id": "999c9ee0-9a91-47a7-ab80-e4dac159298b",
   "metadata": {},
   "outputs": [
    {
     "data": {
      "text/plain": [
       "{'Name': 'Apurva', 'ID': 12345, 'DOB': 2002}"
      ]
     },
     "execution_count": 101,
     "metadata": {},
     "output_type": "execute_result"
    }
   ],
   "source": [
    "mydict1"
   ]
  },
  {
   "cell_type": "code",
   "execution_count": 102,
   "id": "5bf7e443-4736-4ef3-a0e8-17c54c93b39d",
   "metadata": {},
   "outputs": [
    {
     "data": {
      "text/plain": [
       "{'Name': 'Apurva', 'DOB': 2002}"
      ]
     },
     "execution_count": 102,
     "metadata": {},
     "output_type": "execute_result"
    }
   ],
   "source": [
    "del[mydict1['ID']] \n",
    "mydict1"
   ]
  },
  {
   "cell_type": "code",
   "execution_count": 103,
   "id": "6244f48d-4d17-4572-adf5-0054d7965feb",
   "metadata": {},
   "outputs": [
    {
     "data": {
      "text/plain": [
       "{}"
      ]
     },
     "execution_count": 103,
     "metadata": {},
     "output_type": "execute_result"
    }
   ],
   "source": [
    "mydict1.clear() \n",
    "mydict1"
   ]
  },
  {
   "cell_type": "code",
   "execution_count": 104,
   "id": "6c2d966e-8646-4ded-a7fc-06c621d08da7",
   "metadata": {},
   "outputs": [
    {
     "ename": "NameError",
     "evalue": "name 'mydict1' is not defined",
     "output_type": "error",
     "traceback": [
      "\u001b[1;31m---------------------------------------------------------------------------\u001b[0m",
      "\u001b[1;31mNameError\u001b[0m                                 Traceback (most recent call last)",
      "Cell \u001b[1;32mIn[104], line 2\u001b[0m\n\u001b[0;32m      1\u001b[0m \u001b[38;5;28;01mdel\u001b[39;00m mydict1 \n\u001b[1;32m----> 2\u001b[0m mydict1\n",
      "\u001b[1;31mNameError\u001b[0m: name 'mydict1' is not defined"
     ]
    }
   ],
   "source": [
    "del mydict1 \n",
    "mydict1"
   ]
  },
  {
   "cell_type": "code",
   "execution_count": 105,
   "id": "aa84095c-3927-424c-9588-6405a809f997",
   "metadata": {},
   "outputs": [],
   "source": [
    "## Copy Dictionary"
   ]
  },
  {
   "cell_type": "code",
   "execution_count": 117,
   "id": "aec7fb36-82ec-40cd-886e-52d49216d79a",
   "metadata": {},
   "outputs": [
    {
     "data": {
      "text/plain": [
       "{'Name': 'Anushka', 'ID': 11223, 'DOB': 2011, 'Address': 'Pune'}"
      ]
     },
     "execution_count": 117,
     "metadata": {},
     "output_type": "execute_result"
    }
   ],
   "source": [
    "mydict = {'Name':'Anushka' , 'ID': 11223 , 'DOB': 2011 , 'Address' : 'Pune'} \n",
    "mydict"
   ]
  },
  {
   "cell_type": "code",
   "execution_count": 108,
   "id": "5f820512-af8b-4401-9e94-cb259c6949f6",
   "metadata": {},
   "outputs": [],
   "source": [
    "mydict1 = mydict"
   ]
  },
  {
   "cell_type": "code",
   "execution_count": 109,
   "id": "803887f9-15ca-402f-ab1d-9dd4b4ab951f",
   "metadata": {},
   "outputs": [
    {
     "data": {
      "text/plain": [
       "(3021139495232, 3021139495232)"
      ]
     },
     "execution_count": 109,
     "metadata": {},
     "output_type": "execute_result"
    }
   ],
   "source": [
    "id(mydict) , id(mydict1)"
   ]
  },
  {
   "cell_type": "code",
   "execution_count": 110,
   "id": "71398a9c-e2f2-4cf5-b59f-501409a28c78",
   "metadata": {},
   "outputs": [],
   "source": [
    "mydict2 = mydict.copy()"
   ]
  },
  {
   "cell_type": "code",
   "execution_count": 111,
   "id": "014074f0-51fa-4654-87b1-d30a8b855960",
   "metadata": {},
   "outputs": [
    {
     "data": {
      "text/plain": [
       "3021125146432"
      ]
     },
     "execution_count": 111,
     "metadata": {},
     "output_type": "execute_result"
    }
   ],
   "source": [
    "id(mydict2)"
   ]
  },
  {
   "cell_type": "code",
   "execution_count": 114,
   "id": "9515c56e-1759-42b3-82c9-7675cc1dca67",
   "metadata": {},
   "outputs": [],
   "source": [
    "mydict['Address'] = 'Pune'"
   ]
  },
  {
   "cell_type": "code",
   "execution_count": 118,
   "id": "69659cc8-8ba2-408c-b281-e011f7a361a5",
   "metadata": {},
   "outputs": [
    {
     "data": {
      "text/plain": [
       "{'Name': 'Anushka', 'ID': 11223, 'DOB': 2011, 'Address': 'Pune'}"
      ]
     },
     "execution_count": 118,
     "metadata": {},
     "output_type": "execute_result"
    }
   ],
   "source": [
    "mydict"
   ]
  },
  {
   "cell_type": "code",
   "execution_count": 119,
   "id": "e5daf7f2-b97f-4f75-9ef3-47c10302cd9c",
   "metadata": {},
   "outputs": [
    {
     "data": {
      "text/plain": [
       "{'Name': 'Apurva', 'ID': 12345, 'DOB': 2002, 'Address': 'Pune'}"
      ]
     },
     "execution_count": 119,
     "metadata": {},
     "output_type": "execute_result"
    }
   ],
   "source": [
    "mydict1"
   ]
  },
  {
   "cell_type": "code",
   "execution_count": 120,
   "id": "8cfd6a42-406b-48b9-9c63-b20f62163c2c",
   "metadata": {},
   "outputs": [],
   "source": [
    "## Loop through a Dictionary"
   ]
  },
  {
   "cell_type": "code",
   "execution_count": 125,
   "id": "c33b9f44-df4e-4367-a24d-c2d22d1b5c72",
   "metadata": {},
   "outputs": [
    {
     "data": {
      "text/plain": [
       "{'Name': 'Apurva',\n",
       " 'ID': 12345,\n",
       " 'DOB': 2002,\n",
       " 'Address': 'Pune',\n",
       " 'Job': 'Analyst'}"
      ]
     },
     "execution_count": 125,
     "metadata": {},
     "output_type": "execute_result"
    }
   ],
   "source": [
    "mydict1 = {'Name':'Apurva' , 'ID': 12345 , 'DOB': 2002 , 'Address' : 'Pune' ,'Job':'Analyst'}\n",
    "mydict1"
   ]
  },
  {
   "cell_type": "code",
   "execution_count": 126,
   "id": "498f5e91-ab10-4f9a-9607-2ba0d59db004",
   "metadata": {},
   "outputs": [
    {
     "name": "stdout",
     "output_type": "stream",
     "text": [
      "Name : Apurva\n",
      "ID : 12345\n",
      "DOB : 2002\n",
      "Address : Pune\n",
      "Job : Analyst\n"
     ]
    }
   ],
   "source": [
    "for i in mydict1:\n",
    "    print(i , ':' , mydict1[i])"
   ]
  },
  {
   "cell_type": "code",
   "execution_count": 127,
   "id": "079c3d2f-61e8-409e-a78d-ed7b1c043a87",
   "metadata": {},
   "outputs": [
    {
     "name": "stdout",
     "output_type": "stream",
     "text": [
      "Apurva\n",
      "12345\n",
      "2002\n",
      "Pune\n",
      "Analyst\n"
     ]
    }
   ],
   "source": [
    "for i in mydict1:\n",
    "    print(mydict1[i])"
   ]
  },
  {
   "cell_type": "code",
   "execution_count": null,
   "id": "a4d8b238-aba5-4187-b6b8-cd632ccabb0d",
   "metadata": {},
   "outputs": [],
   "source": [
    "## Dictionary Membership"
   ]
  },
  {
   "cell_type": "code",
   "execution_count": 128,
   "id": "9755f39a-d7f7-4aa7-bb80-bf7edb13a45e",
   "metadata": {},
   "outputs": [
    {
     "data": {
      "text/plain": [
       "{'Name': 'Apurva',\n",
       " 'ID': 12345,\n",
       " 'DOB': 2002,\n",
       " 'Address': 'Pune',\n",
       " 'Job': 'Analyst'}"
      ]
     },
     "execution_count": 128,
     "metadata": {},
     "output_type": "execute_result"
    }
   ],
   "source": [
    "mydict1 = {'Name':'Apurva' , 'ID': 12345 , 'DOB': 2002 , 'Address' : 'Pune' ,'Job':'Analyst'}\n",
    "mydict1"
   ]
  },
  {
   "cell_type": "code",
   "execution_count": 129,
   "id": "b22baf43-fdb1-4a61-bee6-d876239de378",
   "metadata": {},
   "outputs": [
    {
     "data": {
      "text/plain": [
       "True"
      ]
     },
     "execution_count": 129,
     "metadata": {},
     "output_type": "execute_result"
    }
   ],
   "source": [
    "'Name' in mydict1"
   ]
  },
  {
   "cell_type": "code",
   "execution_count": 130,
   "id": "9bdaf8a8-2e02-43d5-944d-30fd1cec67d8",
   "metadata": {},
   "outputs": [
    {
     "data": {
      "text/plain": [
       "False"
      ]
     },
     "execution_count": 130,
     "metadata": {},
     "output_type": "execute_result"
    }
   ],
   "source": [
    "'Apurva' in mydict1"
   ]
  },
  {
   "cell_type": "code",
   "execution_count": 131,
   "id": "fd0dd54e-b26d-47d8-a8ff-d3559d459803",
   "metadata": {},
   "outputs": [
    {
     "data": {
      "text/plain": [
       "True"
      ]
     },
     "execution_count": 131,
     "metadata": {},
     "output_type": "execute_result"
    }
   ],
   "source": [
    "'ID' in mydict1"
   ]
  },
  {
   "cell_type": "code",
   "execution_count": 132,
   "id": "2d771701-789b-41fe-bb3f-a203e4fb9c10",
   "metadata": {},
   "outputs": [
    {
     "data": {
      "text/plain": [
       "True"
      ]
     },
     "execution_count": 132,
     "metadata": {},
     "output_type": "execute_result"
    }
   ],
   "source": [
    "'Address' in mydict1"
   ]
  },
  {
   "cell_type": "code",
   "execution_count": 133,
   "id": "6e37a83d-32cf-4b18-8653-15bc670ab3d5",
   "metadata": {},
   "outputs": [],
   "source": [
    "## All / Any"
   ]
  },
  {
   "cell_type": "code",
   "execution_count": 134,
   "id": "354c2193-8eb5-4286-b1ff-035aaed427ad",
   "metadata": {},
   "outputs": [
    {
     "data": {
      "text/plain": [
       "{'Name': 'Apurva',\n",
       " 'ID': 12345,\n",
       " 'DOB': 2002,\n",
       " 'Address': 'Pune',\n",
       " 'Job': 'Analyst'}"
      ]
     },
     "execution_count": 134,
     "metadata": {},
     "output_type": "execute_result"
    }
   ],
   "source": [
    "mydict1 = {'Name':'Apurva' , 'ID': 12345 , 'DOB': 2002 , 'Address' : 'Pune' ,'Job':'Analyst'}\n",
    "mydict1"
   ]
  },
  {
   "cell_type": "code",
   "execution_count": 135,
   "id": "ab089066-ff82-48e6-95e3-0e682c8eacac",
   "metadata": {},
   "outputs": [
    {
     "data": {
      "text/plain": [
       "True"
      ]
     },
     "execution_count": 135,
     "metadata": {},
     "output_type": "execute_result"
    }
   ],
   "source": [
    "all(mydict1)"
   ]
  },
  {
   "cell_type": "code",
   "execution_count": null,
   "id": "9820deb7-23cb-4df8-bf46-95f0560f4d08",
   "metadata": {},
   "outputs": [],
   "source": []
  }
 ],
 "metadata": {
  "kernelspec": {
   "display_name": "Python 3 (ipykernel)",
   "language": "python",
   "name": "python3"
  },
  "language_info": {
   "codemirror_mode": {
    "name": "ipython",
    "version": 3
   },
   "file_extension": ".py",
   "mimetype": "text/x-python",
   "name": "python",
   "nbconvert_exporter": "python",
   "pygments_lexer": "ipython3",
   "version": "3.12.7"
  }
 },
 "nbformat": 4,
 "nbformat_minor": 5
}
