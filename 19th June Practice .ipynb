{
 "cells": [
  {
   "cell_type": "code",
   "execution_count": 1,
   "id": "8546f81f-b674-4e39-b97a-5bdcbe0c869f",
   "metadata": {},
   "outputs": [
    {
     "data": {
      "text/plain": [
       "40"
      ]
     },
     "execution_count": 1,
     "metadata": {},
     "output_type": "execute_result"
    }
   ],
   "source": [
    "a=20\n",
    "b=40\n",
    "a\n",
    "b"
   ]
  },
  {
   "cell_type": "code",
   "execution_count": 2,
   "id": "41ac41e5-23ee-44b7-a923-deaadc88096e",
   "metadata": {},
   "outputs": [
    {
     "name": "stdout",
     "output_type": "stream",
     "text": [
      "20\n",
      "40\n"
     ]
    }
   ],
   "source": [
    "a=20\n",
    "b=40\n",
    "print(a)\n",
    "print(b)"
   ]
  },
  {
   "cell_type": "code",
   "execution_count": 3,
   "id": "97f975f5-cf3f-449f-9266-d8953de00ecc",
   "metadata": {},
   "outputs": [
    {
     "name": "stdout",
     "output_type": "stream",
     "text": [
      "10\n",
      "20 40\n",
      "python\n",
      "20 40 python\n"
     ]
    }
   ],
   "source": [
    "  print(10)\n",
    "print(20,40)\n",
    "print('python')\n",
    "print(20,40,'python')\n"
   ]
  },
  {
   "cell_type": "code",
   "execution_count": 4,
   "id": "7894750a-c0ff-41d2-9325-db1568b394b5",
   "metadata": {},
   "outputs": [
    {
     "name": "stdout",
     "output_type": "stream",
     "text": [
      "40\n"
     ]
    }
   ],
   "source": [
    "num1=20\n",
    "num2=20\n",
    "add=num1+num2\n",
    "print(add)"
   ]
  },
  {
   "cell_type": "code",
   "execution_count": 33,
   "id": "3a4d27f2-6412-4efa-8f15-a669812ec0b9",
   "metadata": {},
   "outputs": [
    {
     "name": "stdout",
     "output_type": "stream",
     "text": [
      "The addition of 20 and 20 is = 40\n"
     ]
    }
   ],
   "source": [
    "num1=20\n",
    "num2=20\n",
    "add=num1+num2\n",
    "print('The addition of',num1,'and',num2,'is =',add)"
   ]
  },
  {
   "cell_type": "code",
   "execution_count": 13,
   "id": "a871e950-98c6-4a27-9d87-9e6e72cfe2d6",
   "metadata": {},
   "outputs": [
    {
     "name": "stdout",
     "output_type": "stream",
     "text": [
      "My name is Hello and i am 10 years old from Hyd\n"
     ]
    }
   ],
   "source": [
    "name='Hello'\n",
    "age=10\n",
    "city='Hyd'\n",
    "print('My name is',name,'and i am',age,'years old from',city)"
   ]
  },
  {
   "cell_type": "code",
   "execution_count": 34,
   "id": "82eb33aa-352d-4515-972b-b878d69de406",
   "metadata": {},
   "outputs": [
    {
     "name": "stdout",
     "output_type": "stream",
     "text": [
      "The addition of 20 and 40 is = 60\n"
     ]
    }
   ],
   "source": [
    "num1=20\n",
    "num2=40\n",
    "add=num1+num2\n",
    "print('The addition of {} and {} is = {}'.format(num1,num2,add))"
   ]
  },
  {
   "cell_type": "code",
   "execution_count": 15,
   "id": "03e8cc13-c5d5-4844-8430-90e753f320e1",
   "metadata": {},
   "outputs": [
    {
     "name": "stdout",
     "output_type": "stream",
     "text": [
      "Hello my name is Apurva and i am 23 years old from Pune\n"
     ]
    }
   ],
   "source": [
    "name='Apurva'\n",
    "age=23\n",
    "city='Pune'\n",
    "print('Hello my name is {} and i am {} years old from {}'.format(name,age,city))"
   ]
  },
  {
   "cell_type": "code",
   "execution_count": 22,
   "id": "39c7ce57-a6b0-449d-aa4d-32730c9835a0",
   "metadata": {},
   "outputs": [
    {
     "name": "stdout",
     "output_type": "stream",
     "text": [
      "The average of 500,300,and 20 is = 273.3333333333333 or 273.33\n"
     ]
    }
   ],
   "source": [
    "num1=500\n",
    "num2=300\n",
    "num3=20\n",
    "avg=(num1+num2+num3)/3\n",
    "avg1=round((num1+num2+num3)/3,2)\n",
    "print('The average of {},{},and {} is = {} or {}'.format(num1,num2,num3,avg,avg1))"
   ]
  },
  {
   "cell_type": "code",
   "execution_count": 23,
   "id": "842ea121-446f-4fab-be58-b69eae53bf7b",
   "metadata": {},
   "outputs": [
    {
     "data": {
      "text/plain": [
       "273.33"
      ]
     },
     "execution_count": 23,
     "metadata": {},
     "output_type": "execute_result"
    }
   ],
   "source": [
    "round(avg,2)"
   ]
  },
  {
   "cell_type": "code",
   "execution_count": 25,
   "id": "50fe6f0e-99b9-4cb0-87c8-cb8a6611f607",
   "metadata": {},
   "outputs": [
    {
     "name": "stdout",
     "output_type": "stream",
     "text": [
      "The addition of 20 and 20 is=40\n"
     ]
    }
   ],
   "source": [
    "num1=20\n",
    "num2=20\n",
    "add=num1+num2\n",
    "print(f'The addition of {num1} and {num2} is={add}')"
   ]
  },
  {
   "cell_type": "code",
   "execution_count": 28,
   "id": "dc15f2c3-2b4c-470b-9fbf-ee15ec30cfd2",
   "metadata": {},
   "outputs": [
    {
     "name": "stdout",
     "output_type": "stream",
     "text": [
      "Hello my name is Apurva, and i am 23,years old, from Pune.\n"
     ]
    }
   ],
   "source": [
    "name='Apurva'\n",
    "age=23\n",
    "city='Pune'\n",
    "print(f'Hello my name is {name}, and i am {age},years old, from {city}.')"
   ]
  },
  {
   "cell_type": "code",
   "execution_count": 30,
   "id": "1644a5d7-c00f-4906-94c9-3e64cb4ad282",
   "metadata": {},
   "outputs": [
    {
     "name": "stdout",
     "output_type": "stream",
     "text": [
      "The average of 500,300,and 20 is = 273.33\n"
     ]
    }
   ],
   "source": [
    "num1=500\n",
    "num2=300\n",
    "num3=20\n",
    "avg=round((num1+num2+num3)/3,2)\n",
    "print(f'The average of {num1},{num2},and {num3} is = {avg}')"
   ]
  },
  {
   "cell_type": "code",
   "execution_count": 31,
   "id": "5df9b05d-dfba-4534-bb86-e86b15a81cc9",
   "metadata": {},
   "outputs": [
    {
     "name": "stdout",
     "output_type": "stream",
     "text": [
      "The Addition of 500 and 300 is= 800\n",
      "The Addition of 500 and 300 is = 800\n",
      "The addition of 500 and 300 is = 800\n"
     ]
    }
   ],
   "source": [
    "num1=500\n",
    "num2=300\n",
    "add=num1+num2\n",
    "print('The Addition of',num1,'and',num2,'is=',add)\n",
    "\n",
    "print('The Addition of {} and {} is = {}'.format(num1,num2,add))\n",
    "\n",
    "print(f'The addition of {num1} and {num2} is = {add}')"
   ]
  },
  {
   "cell_type": "code",
   "execution_count": 32,
   "id": "7f66400f-f42b-47e8-89f2-4d49ca3d6532",
   "metadata": {},
   "outputs": [
    {
     "name": "stdout",
     "output_type": "stream",
     "text": [
      "Hello\n",
      "Good Morning\n"
     ]
    }
   ],
   "source": [
    "print('Hello')\n",
    "print('Good Morning')"
   ]
  },
  {
   "cell_type": "code",
   "execution_count": null,
   "id": "4535b9fc-b9cf-4114-ae60-3b4867505b10",
   "metadata": {},
   "outputs": [],
   "source": []
  }
 ],
 "metadata": {
  "kernelspec": {
   "display_name": "Python 3 (ipykernel)",
   "language": "python",
   "name": "python3"
  },
  "language_info": {
   "codemirror_mode": {
    "name": "ipython",
    "version": 3
   },
   "file_extension": ".py",
   "mimetype": "text/x-python",
   "name": "python",
   "nbconvert_exporter": "python",
   "pygments_lexer": "ipython3",
   "version": "3.12.7"
  }
 },
 "nbformat": 4,
 "nbformat_minor": 5
}
